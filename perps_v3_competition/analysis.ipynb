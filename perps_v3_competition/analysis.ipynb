{
 "cells": [
  {
   "cell_type": "code",
   "execution_count": 1,
   "metadata": {},
   "outputs": [
    {
     "data": {
      "text/plain": [
       "polars.config.Config"
      ]
     },
     "execution_count": 1,
     "metadata": {},
     "output_type": "execute_result"
    }
   ],
   "source": [
    "import matplotlib.pyplot as plt\n",
    "import seaborn as sns\n",
    "import polars as pl\n",
    "\n",
    "pl.Config.set_fmt_str_lengths(200)"
   ]
  },
  {
   "cell_type": "code",
   "execution_count": 2,
   "metadata": {},
   "outputs": [],
   "source": [
    "perps_v3_df = pl.read_parquet(\"perps_v3.parquet\").with_columns([\n",
    "    (pl.col('size_delta').abs() * pl.col('price')).alias('size_usd_abs'),\n",
    "    (pl.col('size_delta') * pl.col('price')).alias('size_usd')\n",
    "])"
   ]
  },
  {
   "cell_type": "code",
   "execution_count": 3,
   "metadata": {},
   "outputs": [
    {
     "name": "stdout",
     "output_type": "stream",
     "text": [
      "first trade was on Monday, October 02, 2023 05:13 PM\n",
      "last trade was on Monday, October 23, 2023 11:05 PM\n"
     ]
    }
   ],
   "source": [
    "# first and last trade\n",
    "start_date = perps_v3_df.sort(by='datetime', descending=False)[0]['datetime'].item().strftime('%A, %B %d, %Y %I:%M %p')\n",
    "end_date = perps_v3_df.sort(by='datetime', descending=False)[-1]['datetime'].item().strftime('%A, %B %d, %Y %I:%M %p')\n",
    "\n",
    "print(f'first trade was on {start_date}')\n",
    "print(f'last trade was on {end_date}')"
   ]
  },
  {
   "cell_type": "code",
   "execution_count": 4,
   "metadata": {},
   "outputs": [
    {
     "name": "stdout",
     "output_type": "stream",
     "text": [
      "there were 2287 orders successfully filled\n",
      "there were 441 liquidation events\n"
     ]
    }
   ],
   "source": [
    "# unique trades\n",
    "trade_count = perps_v3_df.filter(pl.col('liquidation') == False).shape[0]\n",
    "liquidation_count = perps_v3_df.filter(pl.col('liquidation') == True).shape[0]\n",
    "\n",
    "print(f'there were {trade_count} orders successfully filled')\n",
    "print(f'there were {liquidation_count} liquidation events')"
   ]
  },
  {
   "cell_type": "code",
   "execution_count": 5,
   "metadata": {},
   "outputs": [
    {
     "name": "stdout",
     "output_type": "stream",
     "text": [
      "84 unique accounts liquidated\n",
      "131 unique accounts traded\n"
     ]
    }
   ],
   "source": [
    "# get the overlap between unique accuonts\n",
    "unique_liq_accts = perps_v3_df.filter(pl.col('liquidation') == True)['accountId'].unique().to_list()\n",
    "unique_orders_accts = perps_v3_df.filter(pl.col('liquidation') == False)['accountId'].unique().to_list()\n",
    "\n",
    "print(f'{len(unique_liq_accts)} unique accounts liquidated')\n",
    "print(f'{len(unique_orders_accts)} unique accounts traded')"
   ]
  },
  {
   "cell_type": "markdown",
   "metadata": {},
   "source": [
    "### Trades and Liquidation Trading Activity"
   ]
  },
  {
   "cell_type": "code",
   "execution_count": 6,
   "metadata": {},
   "outputs": [],
   "source": [
    "# Group by datetime, count occurrences, and pivot to create a stacked DataFrame\n",
    "activity_counts = (perps_v3_df\n",
    "    .with_columns([pl.col('datetime').dt.round('1d').dt.strftime('%m-%d')])\n",
    "    .group_by(pl.col('datetime', 'liquidation')).agg([pl.count()])\n",
    "    .sort(by='datetime', descending=False)\n",
    ").to_pandas()"
   ]
  },
  {
   "cell_type": "code",
   "execution_count": 7,
   "metadata": {},
   "outputs": [
    {
     "data": {
      "text/html": [
       "<div>\n",
       "<style scoped>\n",
       "    .dataframe tbody tr th:only-of-type {\n",
       "        vertical-align: middle;\n",
       "    }\n",
       "\n",
       "    .dataframe tbody tr th {\n",
       "        vertical-align: top;\n",
       "    }\n",
       "\n",
       "    .dataframe thead th {\n",
       "        text-align: right;\n",
       "    }\n",
       "</style>\n",
       "<table border=\"1\" class=\"dataframe\">\n",
       "  <thead>\n",
       "    <tr style=\"text-align: right;\">\n",
       "      <th></th>\n",
       "      <th>datetime</th>\n",
       "      <th>liquidation</th>\n",
       "      <th>count</th>\n",
       "    </tr>\n",
       "  </thead>\n",
       "  <tbody>\n",
       "    <tr>\n",
       "      <th>0</th>\n",
       "      <td>10-03</td>\n",
       "      <td>True</td>\n",
       "      <td>14</td>\n",
       "    </tr>\n",
       "    <tr>\n",
       "      <th>1</th>\n",
       "      <td>10-03</td>\n",
       "      <td>False</td>\n",
       "      <td>329</td>\n",
       "    </tr>\n",
       "    <tr>\n",
       "      <th>2</th>\n",
       "      <td>10-04</td>\n",
       "      <td>False</td>\n",
       "      <td>386</td>\n",
       "    </tr>\n",
       "    <tr>\n",
       "      <th>3</th>\n",
       "      <td>10-04</td>\n",
       "      <td>True</td>\n",
       "      <td>115</td>\n",
       "    </tr>\n",
       "    <tr>\n",
       "      <th>4</th>\n",
       "      <td>10-05</td>\n",
       "      <td>True</td>\n",
       "      <td>1</td>\n",
       "    </tr>\n",
       "  </tbody>\n",
       "</table>\n",
       "</div>"
      ],
      "text/plain": [
       "  datetime  liquidation  count\n",
       "0    10-03         True     14\n",
       "1    10-03        False    329\n",
       "2    10-04        False    386\n",
       "3    10-04         True    115\n",
       "4    10-05         True      1"
      ]
     },
     "execution_count": 7,
     "metadata": {},
     "output_type": "execute_result"
    }
   ],
   "source": [
    "activity_counts.head(5)"
   ]
  },
  {
   "cell_type": "code",
   "execution_count": 8,
   "metadata": {},
   "outputs": [
    {
     "data": {
      "image/png": "[encoded data removed]",
      "text/plain": [
       "<Figure size 1000x600 with 1 Axes>"
      ]
     },
     "metadata": {},
     "output_type": "display_data"
    }
   ],
   "source": [
    "plt.figure(figsize=(10, 6))  # Set the figure size\n",
    "sns.set(style=\"whitegrid\")  # Set the style\n",
    "sns.barplot(x=\"datetime\", y=\"count\", hue=\"liquidation\", data=activity_counts, palette=\"Set1\")\n",
    "\n",
    "# Set labels and title\n",
    "plt.xlabel(\"Date\")\n",
    "plt.ylabel(\"Count\")\n",
    "plt.title(\"Daily Trades and Liquidation\")\n",
    "\n",
    "plt.xticks(rotation=45, ha='right')\n",
    "\n",
    "# Show the plot\n",
    "plt.legend(title=\"Liquidation\", loc=\"upper right\")\n",
    "plt.show()"
   ]
  },
  {
   "cell_type": "markdown",
   "metadata": {},
   "source": [
    "### Per Market Basis"
   ]
  },
  {
   "cell_type": "code",
   "execution_count": 9,
   "metadata": {},
   "outputs": [],
   "source": [
    "# Group by datetime, count occurrences, and pivot to create a stacked DataFrame\n",
    "market_counts = (perps_v3_df\n",
    "    .group_by(pl.col('marketSymbol', 'liquidation')).agg([pl.count()])\n",
    ").to_pandas()"
   ]
  },
  {
   "cell_type": "code",
   "execution_count": 10,
   "metadata": {},
   "outputs": [
    {
     "data": {
      "text/html": [
       "<div>\n",
       "<style scoped>\n",
       "    .dataframe tbody tr th:only-of-type {\n",
       "        vertical-align: middle;\n",
       "    }\n",
       "\n",
       "    .dataframe tbody tr th {\n",
       "        vertical-align: top;\n",
       "    }\n",
       "\n",
       "    .dataframe thead th {\n",
       "        text-align: right;\n",
       "    }\n",
       "</style>\n",
       "<table border=\"1\" class=\"dataframe\">\n",
       "  <thead>\n",
       "    <tr style=\"text-align: right;\">\n",
       "      <th></th>\n",
       "      <th>marketSymbol</th>\n",
       "      <th>liquidation</th>\n",
       "      <th>count</th>\n",
       "    </tr>\n",
       "  </thead>\n",
       "  <tbody>\n",
       "    <tr>\n",
       "      <th>0</th>\n",
       "      <td>BTC</td>\n",
       "      <td>True</td>\n",
       "      <td>76</td>\n",
       "    </tr>\n",
       "    <tr>\n",
       "      <th>1</th>\n",
       "      <td>OP</td>\n",
       "      <td>True</td>\n",
       "      <td>39</td>\n",
       "    </tr>\n",
       "    <tr>\n",
       "      <th>2</th>\n",
       "      <td>LINK</td>\n",
       "      <td>False</td>\n",
       "      <td>254</td>\n",
       "    </tr>\n",
       "    <tr>\n",
       "      <th>3</th>\n",
       "      <td>SNX</td>\n",
       "      <td>False</td>\n",
       "      <td>487</td>\n",
       "    </tr>\n",
       "    <tr>\n",
       "      <th>4</th>\n",
       "      <td>ETH</td>\n",
       "      <td>False</td>\n",
       "      <td>766</td>\n",
       "    </tr>\n",
       "  </tbody>\n",
       "</table>\n",
       "</div>"
      ],
      "text/plain": [
       "  marketSymbol  liquidation  count\n",
       "0          BTC         True     76\n",
       "1           OP         True     39\n",
       "2         LINK        False    254\n",
       "3          SNX        False    487\n",
       "4          ETH        False    766"
      ]
     },
     "execution_count": 10,
     "metadata": {},
     "output_type": "execute_result"
    }
   ],
   "source": [
    "market_counts.head(5)"
   ]
  },
  {
   "cell_type": "code",
   "execution_count": 11,
   "metadata": {},
   "outputs": [
    {
     "data": {
      "image/png": "[encoded data removed]",
      "text/plain": [
       "<Figure size 1000x600 with 1 Axes>"
      ]
     },
     "metadata": {},
     "output_type": "display_data"
    }
   ],
   "source": [
    "plt.figure(figsize=(10, 6))  # Set the figure size\n",
    "sns.set(style=\"whitegrid\")  # Set the style\n",
    "\n",
    "g = sns.barplot(x=\"marketSymbol\", y=\"count\", hue=\"liquidation\", data=market_counts, palette=\"Set1\")\n",
    "\n",
    "# Set labels and title\n",
    "plt.xlabel(\"Market\")\n",
    "plt.ylabel(\"Count\")\n",
    "plt.title(\"Market Activity\")\n",
    "\n",
    "# Show the plot\n",
    "plt.legend(title=\"Liquidation\", loc=\"upper right\")\n",
    "plt.show()"
   ]
  },
  {
   "cell_type": "markdown",
   "metadata": {},
   "source": [
    "### Individual Accounts"
   ]
  },
  {
   "cell_type": "code",
   "execution_count": 21,
   "metadata": {},
   "outputs": [
    {
     "data": {
      "text/html": [
       "<div><style>\n",
       ".dataframe > thead > tr > th,\n",
       ".dataframe > tbody > tr > td {\n",
       "  text-align: right;\n",
       "  white-space: pre-wrap;\n",
       "}\n",
       "</style>\n",
       "<small>shape: (1, 1)</small><table border=\"1\" class=\"dataframe\"><thead><tr><th>size_usd_abs</th></tr><tr><td>f64</td></tr></thead><tbody><tr><td>3.6479e8</td></tr></tbody></table></div>"
      ],
      "text/plain": [
       "shape: (1, 1)\n",
       "┌──────────────┐\n",
       "│ size_usd_abs │\n",
       "│ ---          │\n",
       "│ f64          │\n",
       "╞══════════════╡\n",
       "│ 3.6479e8     │\n",
       "└──────────────┘"
      ]
     },
     "execution_count": 21,
     "metadata": {},
     "output_type": "execute_result"
    }
   ],
   "source": [
    "# highest volume\n",
    "(\n",
    "    perps_v3_df.filter(pl.col('accounts_owner') == \"0x1140321cce279b4a2158571eb377669def562ac4\".lower())\n",
    "    .filter(pl.col('liquidation') == False)\n",
    ").select(pl.sum('size_usd_abs'))"
   ]
  },
  {
   "cell_type": "code",
   "execution_count": 25,
   "metadata": {},
   "outputs": [
    {
     "data": {
      "text/html": [
       "<div><style>\n",
       ".dataframe > thead > tr > th,\n",
       ".dataframe > tbody > tr > td {\n",
       "  text-align: right;\n",
       "  white-space: pre-wrap;\n",
       "}\n",
       "</style>\n",
       "<small>shape: (5, 2)</small><table border=\"1\" class=\"dataframe\"><thead><tr><th>marketSymbol</th><th>count</th></tr><tr><td>str</td><td>u32</td></tr></thead><tbody><tr><td>&quot;LINK&quot;</td><td>27</td></tr><tr><td>&quot;SNX&quot;</td><td>29</td></tr><tr><td>&quot;BTC&quot;</td><td>13</td></tr><tr><td>&quot;OP&quot;</td><td>25</td></tr><tr><td>&quot;ETH&quot;</td><td>21</td></tr></tbody></table></div>"
      ],
      "text/plain": [
       "shape: (5, 2)\n",
       "┌──────────────┬───────┐\n",
       "│ marketSymbol ┆ count │\n",
       "│ ---          ┆ ---   │\n",
       "│ str          ┆ u32   │\n",
       "╞══════════════╪═══════╡\n",
       "│ LINK         ┆ 27    │\n",
       "│ SNX          ┆ 29    │\n",
       "│ BTC          ┆ 13    │\n",
       "│ OP           ┆ 25    │\n",
       "│ ETH          ┆ 21    │\n",
       "└──────────────┴───────┘"
      ]
     },
     "execution_count": 25,
     "metadata": {},
     "output_type": "execute_result"
    }
   ],
   "source": [
    "# highest trade count\n",
    "(\n",
    "    perps_v3_df.filter(pl.col('accounts_owner') == \"0xc14baefd5631ec25c9e4d02f3253b1e59d848911\".lower())\n",
    "    .filter(pl.col('liquidation') == False)\n",
    ").group_by(pl.col('marketSymbol')).agg([pl.count()])"
   ]
  },
  {
   "cell_type": "code",
   "execution_count": null,
   "metadata": {},
   "outputs": [],
   "source": [
    "# highest liquidation vs non liquidation volume\n",
    "(\n",
    "    perps_v3_df.filter(pl.col('accounts_owner') == \"0x1140321cce279b4a2158571eb377669def562ac4\".lower())\n",
    "    .filter(pl.col('liquidation') == False)\n",
    ").select(pl.sum('size_usd_abs'))"
   ]
  },
  {
   "cell_type": "markdown",
   "metadata": {},
   "source": [
    "### USD Values"
   ]
  },
  {
   "cell_type": "code",
   "execution_count": 14,
   "metadata": {},
   "outputs": [],
   "source": [
    "# Group by datetime, count occurrences, and pivot to create a stacked DataFrame\n",
    "volume_usd_abs = (\n",
    "    perps_v3_df\n",
    "    .filter(pl.col('liquidation') == True)\n",
    "    .with_columns([pl.col('datetime').dt.round('1d').dt.strftime('%m-%d')])\n",
    "    .group_by(pl.col('datetime', 'liquidation')).agg([pl.sum('size_usd_abs')])\n",
    "    .sort(by='datetime', descending=False)\n",
    ").to_pandas()"
   ]
  },
  {
   "cell_type": "code",
   "execution_count": 15,
   "metadata": {},
   "outputs": [
    {
     "data": {
      "text/html": [
       "<div>\n",
       "<style scoped>\n",
       "    .dataframe tbody tr th:only-of-type {\n",
       "        vertical-align: middle;\n",
       "    }\n",
       "\n",
       "    .dataframe tbody tr th {\n",
       "        vertical-align: top;\n",
       "    }\n",
       "\n",
       "    .dataframe thead th {\n",
       "        text-align: right;\n",
       "    }\n",
       "</style>\n",
       "<table border=\"1\" class=\"dataframe\">\n",
       "  <thead>\n",
       "    <tr style=\"text-align: right;\">\n",
       "      <th></th>\n",
       "      <th>datetime</th>\n",
       "      <th>liquidation</th>\n",
       "      <th>size_usd_abs</th>\n",
       "    </tr>\n",
       "  </thead>\n",
       "  <tbody>\n",
       "    <tr>\n",
       "      <th>0</th>\n",
       "      <td>10-03</td>\n",
       "      <td>True</td>\n",
       "      <td>1.389123e+08</td>\n",
       "    </tr>\n",
       "    <tr>\n",
       "      <th>1</th>\n",
       "      <td>10-04</td>\n",
       "      <td>True</td>\n",
       "      <td>1.331899e+10</td>\n",
       "    </tr>\n",
       "    <tr>\n",
       "      <th>2</th>\n",
       "      <td>10-05</td>\n",
       "      <td>True</td>\n",
       "      <td>5.066185e+06</td>\n",
       "    </tr>\n",
       "    <tr>\n",
       "      <th>3</th>\n",
       "      <td>10-06</td>\n",
       "      <td>True</td>\n",
       "      <td>1.582417e+10</td>\n",
       "    </tr>\n",
       "    <tr>\n",
       "      <th>4</th>\n",
       "      <td>10-07</td>\n",
       "      <td>True</td>\n",
       "      <td>1.063439e+07</td>\n",
       "    </tr>\n",
       "  </tbody>\n",
       "</table>\n",
       "</div>"
      ],
      "text/plain": [
       "  datetime  liquidation  size_usd_abs\n",
       "0    10-03         True  1.389123e+08\n",
       "1    10-04         True  1.331899e+10\n",
       "2    10-05         True  5.066185e+06\n",
       "3    10-06         True  1.582417e+10\n",
       "4    10-07         True  1.063439e+07"
      ]
     },
     "execution_count": 15,
     "metadata": {},
     "output_type": "execute_result"
    }
   ],
   "source": [
    "volume_usd_abs.head(5)"
   ]
  },
  {
   "cell_type": "code",
   "execution_count": 16,
   "metadata": {},
   "outputs": [
    {
     "data": {
      "image/png": "[encoded data removed]",
      "text/plain": [
       "<Figure size 1000x600 with 1 Axes>"
      ]
     },
     "metadata": {},
     "output_type": "display_data"
    }
   ],
   "source": [
    "plt.figure(figsize=(10, 6))  # Set the figure size\n",
    "sns.set(style=\"whitegrid\")  # Set the style\n",
    "sns.barplot(x=\"datetime\", y=\"size_usd_abs\", hue=\"liquidation\", data=volume_usd_abs, palette=\"Set1\")\n",
    "\n",
    "# Set labels and title\n",
    "plt.xlabel(\"Date\")\n",
    "plt.ylabel(\"Count\")\n",
    "plt.title(\"Daily Trades and Liquidation\")\n",
    "\n",
    "plt.xticks(rotation=45, ha='right')\n",
    "\n",
    "# Show the plot\n",
    "plt.legend(title=\"Liquidation\", loc=\"upper right\")\n",
    "plt.show()"
   ]
  },
  {
   "cell_type": "code",
   "execution_count": null,
   "metadata": {},
   "outputs": [],
   "source": []
  }
 ],
 "metadata": {
  "kernelspec": {
   "display_name": ".venv",
   "language": "python",
   "name": "python3"
  },
  "language_info": {
   "codemirror_mode": {
    "name": "ipython",
    "version": 3
   },
   "file_extension": ".py",
   "mimetype": "text/x-python",
   "name": "python",
   "nbconvert_exporter": "python",
   "pygments_lexer": "ipython3",
   "version": "3.10.12"
  }
 },
 "nbformat": 4,
 "nbformat_minor": 2
}
