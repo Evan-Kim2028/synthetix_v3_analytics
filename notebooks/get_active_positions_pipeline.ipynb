{
 "cells": [
  {
   "cell_type": "code",
   "execution_count": 1,
   "metadata": {},
   "outputs": [
    {
     "data": {
      "text/plain": [
       "polars.config.Config"
      ]
     },
     "execution_count": 1,
     "metadata": {},
     "output_type": "execute_result"
    }
   ],
   "source": [
    "from datetime import datetime\n",
    "from synthetix_v3.base_perps import TestBasePerps\n",
    "import polars as pl\n",
    "\n",
    "pl.Config.set_fmt_str_lengths(200)"
   ]
  },
  {
   "cell_type": "code",
   "execution_count": 2,
   "metadata": {},
   "outputs": [],
   "source": [
    "base_perps = TestBasePerps()"
   ]
  },
  {
   "cell_type": "code",
   "execution_count": 5,
   "metadata": {},
   "outputs": [],
   "source": [
    "# start and end blocks for the competition\n",
    "start_block = 10536192\n",
    "end_block = 11455992\n",
    "\n",
    "start_timestamp = 1696260000\n",
    "end_timestamp = 1698105600"
   ]
  },
  {
   "cell_type": "code",
   "execution_count": 6,
   "metadata": {},
   "outputs": [],
   "source": [
    "settled_orders_df = base_perps.get_settled_orders(start_block=start_block, end_block=end_block) # https://goerli.basescan.org/block/10536192 # starting block time Monday, October 2, 2023 5:00:00 PM"
   ]
  },
  {
   "cell_type": "code",
   "execution_count": 7,
   "metadata": {},
   "outputs": [],
   "source": [
    "polars_df = pl.from_pandas(settled_orders_df)"
   ]
  },
  {
   "cell_type": "code",
   "execution_count": 8,
   "metadata": {},
   "outputs": [
    {
     "data": {
      "text/plain": [
       "['orderSettleds_accountId',\n",
       " 'orderSettleds_timestamp',\n",
       " 'markets_id',\n",
       " 'orderSettleds_fillPrice',\n",
       " 'orderSettleds_accruedFunding',\n",
       " 'orderSettleds_sizeDelta',\n",
       " 'orderSettleds_newSize',\n",
       " 'orderSettleds_totalFees',\n",
       " 'orderSettleds_referralFees',\n",
       " 'orderSettleds_collectedFees',\n",
       " 'orderSettleds_settlementReward',\n",
       " 'markets_marketSymbol']"
      ]
     },
     "execution_count": 8,
     "metadata": {},
     "output_type": "execute_result"
    }
   ],
   "source": [
    "polars_df.columns"
   ]
  },
  {
   "cell_type": "code",
   "execution_count": 9,
   "metadata": {},
   "outputs": [],
   "source": [
    "accounts_df_polars = pl.from_pandas(acct_df)"
   ]
  },
  {
   "cell_type": "code",
   "execution_count": 10,
   "metadata": {},
   "outputs": [],
   "source": [
    "acct_orders_df = polars_df.join(\n",
    "    other=accounts_df_polars.select('accounts_accountId', 'accounts_owner'), \n",
    "    left_on='orderSettleds_accountId', \n",
    "    right_on='accounts_accountId', \n",
    "    how='left')"
   ]
  },
  {
   "cell_type": "code",
   "execution_count": 11,
   "metadata": {},
   "outputs": [],
   "source": [
    "cleaned_settled_orders = (acct_orders_df.select([\n",
    "    pl.col('orderSettleds_timestamp'),\n",
    "    pl.col('markets_marketSymbol'),\n",
    "    pl.col('orderSettleds_accountId').cast(str),\n",
    "    pl.col('accounts_owner'),\n",
    "    pl.col('orderSettleds_fillPrice'),\n",
    "    pl.col('orderSettleds_accruedFunding'),\n",
    "    pl.col('orderSettleds_sizeDelta'),\n",
    "    pl.col('orderSettleds_newSize'),\n",
    "    pl.col('orderSettleds_totalFees')\n",
    "])\n",
    ".with_columns([\n",
    "    pl.from_epoch(\"orderSettleds_timestamp\").alias(\"datetime\"),\n",
    "    (pl.col('orderSettleds_fillPrice') / 10 ** 18),\n",
    "    (pl.col('orderSettleds_sizeDelta') / 10 ** 18),\n",
    "    (pl.col('orderSettleds_accruedFunding') / 10 ** 18),\n",
    "    (pl.col('orderSettleds_newSize') / 10 ** 18),\n",
    "    (pl.col('orderSettleds_totalFees') / 10 ** 18),\n",
    "])\n",
    ".with_columns([\n",
    "    (pl.col('orderSettleds_sizeDelta').abs() * pl.col('orderSettleds_fillPrice')).alias('size_usd')\n",
    "]))"
   ]
  },
  {
   "cell_type": "code",
   "execution_count": 12,
   "metadata": {},
   "outputs": [
    {
     "data": {
      "text/html": [
       "<div><style>\n",
       ".dataframe > thead > tr > th,\n",
       ".dataframe > tbody > tr > td {\n",
       "  text-align: right;\n",
       "  white-space: pre-wrap;\n",
       "}\n",
       "</style>\n",
       "<small>shape: (1, 1)</small><table border=\"1\" class=\"dataframe\"><thead><tr><th>size_usd</th></tr><tr><td>f64</td></tr></thead><tbody><tr><td>2.8033e9</td></tr></tbody></table></div>"
      ],
      "text/plain": [
       "shape: (1, 1)\n",
       "┌──────────┐\n",
       "│ size_usd │\n",
       "│ ---      │\n",
       "│ f64      │\n",
       "╞══════════╡\n",
       "│ 2.8033e9 │\n",
       "└──────────┘"
      ]
     },
     "execution_count": 12,
     "metadata": {},
     "output_type": "execute_result"
    }
   ],
   "source": [
    "cleaned_settled_orders.select(pl.sum('size_usd'))"
   ]
  },
  {
   "cell_type": "markdown",
   "metadata": {},
   "source": [
    "### Liquidations"
   ]
  },
  {
   "cell_type": "code",
   "execution_count": 16,
   "metadata": {},
   "outputs": [],
   "source": [
    "market_price_df = base_perps.get_market_updates()"
   ]
  },
  {
   "cell_type": "code",
   "execution_count": 17,
   "metadata": {},
   "outputs": [],
   "source": [
    "pos_liqs_df = base_perps.get_position_liquidations(start_block=start_block, end_block=end_block)"
   ]
  },
  {
   "cell_type": "code",
   "execution_count": 18,
   "metadata": {},
   "outputs": [],
   "source": [
    "position_liquidations_df = pl.from_pandas(pos_liqs_df)"
   ]
  },
  {
   "cell_type": "code",
   "execution_count": 19,
   "metadata": {},
   "outputs": [],
   "source": [
    "# normalize numbers\n",
    "market_price_polars_df = pl.from_pandas(market_price_df).with_columns([\n",
    "    pl.from_epoch('marketUpdateds_timestamp').dt.round(\"1s\").alias('datetime'),\n",
    "    pl.col('marketUpdateds_price') / 10**18,\n",
    "    pl.col('marketUpdateds_skew') / 10**18,\n",
    "    pl.col('marketUpdateds_size') / 10**18,\n",
    "    pl.col('marketUpdateds_sizeDelta') / 10**18,\n",
    "    pl.col('marketUpdateds_currentFundingRate') / 10**18,\n",
    "    pl.col('marketUpdateds_currentFundingVelocity') / 10**18\n",
    "])\n",
    "\n",
    "# normalize numbers\n",
    "position_liquidations_df = position_liquidations_df.with_columns([\n",
    "    pl.from_epoch('positionLiquidateds_timestamp').dt.round(\"1s\").alias('datetime'),\n",
    "    pl.col('positionLiquidateds_amountLiquidated') / 10**18,\n",
    "    pl.col('positionLiquidateds_currentPositionSize') / 10**18,\n",
    "    ]).filter(pl.col(\"datetime\") > datetime(2023, 10, 2))"
   ]
  },
  {
   "cell_type": "code",
   "execution_count": 20,
   "metadata": {},
   "outputs": [],
   "source": [
    "position_liquidations_usd_df = position_liquidations_df.join(market_price_polars_df, on='datetime', how='left')"
   ]
  },
  {
   "cell_type": "code",
   "execution_count": 21,
   "metadata": {},
   "outputs": [
    {
     "data": {
      "text/html": [
       "<div><style>\n",
       ".dataframe > thead > tr > th,\n",
       ".dataframe > tbody > tr > td {\n",
       "  text-align: right;\n",
       "  white-space: pre-wrap;\n",
       "}\n",
       "</style>\n",
       "<small>shape: (5, 17)</small><table border=\"1\" class=\"dataframe\"><thead><tr><th>positionLiquidateds_id</th><th>positionLiquidateds_timestamp</th><th>positionLiquidateds_accountId</th><th>markets_id</th><th>positionLiquidateds_amountLiquidated</th><th>positionLiquidateds_currentPositionSize</th><th>markets_marketSymbol</th><th>datetime</th><th>marketUpdateds_timestamp</th><th>markets_id_right</th><th>marketUpdateds_price</th><th>marketUpdateds_skew</th><th>marketUpdateds_size</th><th>marketUpdateds_sizeDelta</th><th>marketUpdateds_currentFundingRate</th><th>marketUpdateds_currentFundingVelocity</th><th>markets_marketSymbol_right</th></tr><tr><td>str</td><td>i64</td><td>str</td><td>i64</td><td>f64</td><td>f64</td><td>str</td><td>datetime[μs]</td><td>i64</td><td>i64</td><td>f64</td><td>f64</td><td>f64</td><td>f64</td><td>f64</td><td>f64</td><td>str</td></tr></thead><tbody><tr><td>&quot;300-170141183460469231731687303715884105856-11453845&quot;</td><td>1698101306</td><td>&quot;170141183460469231731687303715884105856&quot;</td><td>300</td><td>1234.3639</td><td>0.0</td><td>&quot;LINK&quot;</td><td>2023-10-23 22:48:26</td><td>1698101306</td><td>300</td><td>10.533</td><td>137791.810257</td><td>151142.499457</td><td>1234.3639</td><td>-0.077125</td><td>0.248025</td><td>&quot;LINK&quot;</td></tr><tr><td>&quot;300-170141183460469231731687303715884105856-11453825&quot;</td><td>1698101266</td><td>&quot;170141183460469231731687303715884105856&quot;</td><td>300</td><td>19999.8</td><td>-1234.3639</td><td>&quot;LINK&quot;</td><td>2023-10-23 22:47:46</td><td>1698101266</td><td>300</td><td>10.526109</td><td>136557.446357</td><td>152376.863357</td><td>19999.8</td><td>-0.077238</td><td>0.245803</td><td>&quot;LINK&quot;</td></tr><tr><td>&quot;300-170141183460469231731687303715884105856-11453804&quot;</td><td>1698101224</td><td>&quot;170141183460469231731687303715884105856&quot;</td><td>300</td><td>19999.8</td><td>-21234.1639</td><td>&quot;LINK&quot;</td><td>2023-10-23 22:47:04</td><td>1698101224</td><td>300</td><td>10.56526</td><td>116557.646357</td><td>172376.663357</td><td>19999.8</td><td>-0.07734</td><td>0.209804</td><td>&quot;LINK&quot;</td></tr><tr><td>&quot;300-170141183460469231731687303715884105856-11453784&quot;</td><td>1698101184</td><td>&quot;170141183460469231731687303715884105856&quot;</td><td>300</td><td>19999.8</td><td>-41233.9639</td><td>&quot;LINK&quot;</td><td>2023-10-23 22:46:24</td><td>1698101184</td><td>300</td><td>10.528384</td><td>96557.846357</td><td>192376.463357</td><td>19999.8</td><td>-0.077421</td><td>0.173804</td><td>&quot;LINK&quot;</td></tr><tr><td>&quot;300-170141183460469231731687303715884105856-11453764&quot;</td><td>1698101144</td><td>&quot;170141183460469231731687303715884105856&quot;</td><td>300</td><td>19999.8</td><td>-61233.7639</td><td>&quot;LINK&quot;</td><td>2023-10-23 22:45:44</td><td>1698101144</td><td>300</td><td>10.632118</td><td>76558.046357</td><td>212376.263357</td><td>19999.8</td><td>-0.077485</td><td>0.137804</td><td>&quot;LINK&quot;</td></tr></tbody></table></div>"
      ],
      "text/plain": [
       "shape: (5, 17)\n",
       "┌───────────┬───────────┬───────────┬───────────┬───┬───────────┬───────────┬───────────┬──────────┐\n",
       "│ positionL ┆ positionL ┆ positionL ┆ markets_i ┆ … ┆ marketUpd ┆ marketUpd ┆ marketUpd ┆ markets_ │\n",
       "│ iquidated ┆ iquidated ┆ iquidated ┆ d         ┆   ┆ ateds_siz ┆ ateds_cur ┆ ateds_cur ┆ marketSy │\n",
       "│ s_id      ┆ s_timesta ┆ s_account ┆ ---       ┆   ┆ eDelta    ┆ rentFundi ┆ rentFundi ┆ mbol_rig │\n",
       "│ ---       ┆ mp        ┆ Id        ┆ i64       ┆   ┆ ---       ┆ ngRate    ┆ ngVelocit ┆ ht       │\n",
       "│ str       ┆ ---       ┆ ---       ┆           ┆   ┆ f64       ┆ ---       ┆ y         ┆ ---      │\n",
       "│           ┆ i64       ┆ str       ┆           ┆   ┆           ┆ f64       ┆ ---       ┆ str      │\n",
       "│           ┆           ┆           ┆           ┆   ┆           ┆           ┆ f64       ┆          │\n",
       "╞═══════════╪═══════════╪═══════════╪═══════════╪═══╪═══════════╪═══════════╪═══════════╪══════════╡\n",
       "│ 300-17014 ┆ 169810130 ┆ 170141183 ┆ 300       ┆ … ┆ 1234.3639 ┆ -0.077125 ┆ 0.248025  ┆ LINK     │\n",
       "│ 118346046 ┆ 6         ┆ 460469231 ┆           ┆   ┆           ┆           ┆           ┆          │\n",
       "│ 923173168 ┆           ┆ 731687303 ┆           ┆   ┆           ┆           ┆           ┆          │\n",
       "│ 730371588 ┆           ┆ 715884105 ┆           ┆   ┆           ┆           ┆           ┆          │\n",
       "│ 4105856-1 ┆           ┆ 856       ┆           ┆   ┆           ┆           ┆           ┆          │\n",
       "│ 1453845   ┆           ┆           ┆           ┆   ┆           ┆           ┆           ┆          │\n",
       "│ 300-17014 ┆ 169810126 ┆ 170141183 ┆ 300       ┆ … ┆ 19999.8   ┆ -0.077238 ┆ 0.245803  ┆ LINK     │\n",
       "│ 118346046 ┆ 6         ┆ 460469231 ┆           ┆   ┆           ┆           ┆           ┆          │\n",
       "│ 923173168 ┆           ┆ 731687303 ┆           ┆   ┆           ┆           ┆           ┆          │\n",
       "│ 730371588 ┆           ┆ 715884105 ┆           ┆   ┆           ┆           ┆           ┆          │\n",
       "│ 4105856-1 ┆           ┆ 856       ┆           ┆   ┆           ┆           ┆           ┆          │\n",
       "│ 1453825   ┆           ┆           ┆           ┆   ┆           ┆           ┆           ┆          │\n",
       "│ 300-17014 ┆ 169810122 ┆ 170141183 ┆ 300       ┆ … ┆ 19999.8   ┆ -0.07734  ┆ 0.209804  ┆ LINK     │\n",
       "│ 118346046 ┆ 4         ┆ 460469231 ┆           ┆   ┆           ┆           ┆           ┆          │\n",
       "│ 923173168 ┆           ┆ 731687303 ┆           ┆   ┆           ┆           ┆           ┆          │\n",
       "│ 730371588 ┆           ┆ 715884105 ┆           ┆   ┆           ┆           ┆           ┆          │\n",
       "│ 4105856-1 ┆           ┆ 856       ┆           ┆   ┆           ┆           ┆           ┆          │\n",
       "│ 1453804   ┆           ┆           ┆           ┆   ┆           ┆           ┆           ┆          │\n",
       "│ 300-17014 ┆ 169810118 ┆ 170141183 ┆ 300       ┆ … ┆ 19999.8   ┆ -0.077421 ┆ 0.173804  ┆ LINK     │\n",
       "│ 118346046 ┆ 4         ┆ 460469231 ┆           ┆   ┆           ┆           ┆           ┆          │\n",
       "│ 923173168 ┆           ┆ 731687303 ┆           ┆   ┆           ┆           ┆           ┆          │\n",
       "│ 730371588 ┆           ┆ 715884105 ┆           ┆   ┆           ┆           ┆           ┆          │\n",
       "│ 4105856-1 ┆           ┆ 856       ┆           ┆   ┆           ┆           ┆           ┆          │\n",
       "│ 1453784   ┆           ┆           ┆           ┆   ┆           ┆           ┆           ┆          │\n",
       "│ 300-17014 ┆ 169810114 ┆ 170141183 ┆ 300       ┆ … ┆ 19999.8   ┆ -0.077485 ┆ 0.137804  ┆ LINK     │\n",
       "│ 118346046 ┆ 4         ┆ 460469231 ┆           ┆   ┆           ┆           ┆           ┆          │\n",
       "│ 923173168 ┆           ┆ 731687303 ┆           ┆   ┆           ┆           ┆           ┆          │\n",
       "│ 730371588 ┆           ┆ 715884105 ┆           ┆   ┆           ┆           ┆           ┆          │\n",
       "│ 4105856-1 ┆           ┆ 856       ┆           ┆   ┆           ┆           ┆           ┆          │\n",
       "│ 1453764   ┆           ┆           ┆           ┆   ┆           ┆           ┆           ┆          │\n",
       "└───────────┴───────────┴───────────┴───────────┴───┴───────────┴───────────┴───────────┴──────────┘"
      ]
     },
     "execution_count": 21,
     "metadata": {},
     "output_type": "execute_result"
    }
   ],
   "source": [
    "position_liquidations_usd_df.head(5)"
   ]
  },
  {
   "cell_type": "code",
   "execution_count": 22,
   "metadata": {},
   "outputs": [
    {
     "data": {
      "text/plain": [
       "['positionLiquidateds_id',\n",
       " 'positionLiquidateds_timestamp',\n",
       " 'positionLiquidateds_accountId',\n",
       " 'markets_id',\n",
       " 'positionLiquidateds_amountLiquidated',\n",
       " 'positionLiquidateds_currentPositionSize',\n",
       " 'markets_marketSymbol',\n",
       " 'datetime',\n",
       " 'marketUpdateds_timestamp',\n",
       " 'markets_id_right',\n",
       " 'marketUpdateds_price',\n",
       " 'marketUpdateds_skew',\n",
       " 'marketUpdateds_size',\n",
       " 'marketUpdateds_sizeDelta',\n",
       " 'marketUpdateds_currentFundingRate',\n",
       " 'marketUpdateds_currentFundingVelocity',\n",
       " 'markets_marketSymbol_right']"
      ]
     },
     "execution_count": 22,
     "metadata": {},
     "output_type": "execute_result"
    }
   ],
   "source": [
    "position_liquidations_usd_df.columns"
   ]
  },
  {
   "cell_type": "code",
   "execution_count": 23,
   "metadata": {},
   "outputs": [
    {
     "data": {
      "text/plain": [
       "['orderSettleds_timestamp',\n",
       " 'markets_marketSymbol',\n",
       " 'orderSettleds_accountId',\n",
       " 'accounts_owner',\n",
       " 'orderSettleds_fillPrice',\n",
       " 'orderSettleds_accruedFunding',\n",
       " 'orderSettleds_sizeDelta',\n",
       " 'orderSettleds_newSize',\n",
       " 'orderSettleds_totalFees',\n",
       " 'datetime',\n",
       " 'size_usd']"
      ]
     },
     "execution_count": 23,
     "metadata": {},
     "output_type": "execute_result"
    }
   ],
   "source": [
    "cleaned_settled_orders.columns"
   ]
  },
  {
   "cell_type": "code",
   "execution_count": 28,
   "metadata": {},
   "outputs": [],
   "source": [
    "# rename columns for concatting\n",
    "position_liq_final = position_liquidations_usd_df.rename({\n",
    "    'positionLiquidateds_accountId': 'accountId', \n",
    "    'markets_marketSymbol_right': 'marketSymbol',\n",
    "    'positionLiquidateds_amountLiquidated': 'size_delta',\n",
    "    'positionLiquidateds_currentPositionSize': 'size',\n",
    "    'marketUpdateds_price': 'price'\n",
    "     }).with_columns([\n",
    "    pl.lit(True).alias('liquidation')\n",
    "]).select('datetime', 'accountId', 'marketSymbol', 'size_delta', 'size', 'price', 'liquidation')\n",
    "\n",
    "settled_order_final = cleaned_settled_orders.rename({\n",
    "    'orderSettleds_accountId': 'accountId', \n",
    "    'markets_marketSymbol': 'marketSymbol',\n",
    "    'orderSettleds_sizeDelta': 'size_delta',\n",
    "    'orderSettleds_newSize': 'size',\n",
    "    'orderSettleds_fillPrice': 'price',\n",
    "     }).with_columns([\n",
    "    pl.lit(False).alias('liquidation')]).select('datetime', 'accountId', 'marketSymbol', 'size_delta', 'size', 'price', 'liquidation')"
   ]
  },
  {
   "cell_type": "code",
   "execution_count": 29,
   "metadata": {},
   "outputs": [
    {
     "name": "stdout",
     "output_type": "stream",
     "text": [
      "84\n",
      "131\n"
     ]
    }
   ],
   "source": [
    "# get the overlap between unique accuonts\n",
    "unique_liq_accts = position_liq_final['accountId'].unique().to_list()\n",
    "unique_orders_accts = settled_order_final['accountId'].unique().to_list()\n",
    "\n",
    "print(len(set(unique_liq_accts)))\n",
    "print(len(set(unique_orders_accts)))"
   ]
  },
  {
   "cell_type": "code",
   "execution_count": 30,
   "metadata": {},
   "outputs": [
    {
     "name": "stdout",
     "output_type": "stream",
     "text": [
      "51\n"
     ]
    }
   ],
   "source": [
    "# are there liquidation accounts that are not in unique order accts?\n",
    "print(len(set(unique_orders_accts) - set(unique_liq_accts)))"
   ]
  },
  {
   "cell_type": "markdown",
   "metadata": {},
   "source": [
    "### Concat data, join account owners, and analyze results"
   ]
  },
  {
   "cell_type": "code",
   "execution_count": null,
   "metadata": {},
   "outputs": [],
   "source": [
    "acct_df = base_perps.get_accounts()"
   ]
  },
  {
   "cell_type": "code",
   "execution_count": 32,
   "metadata": {},
   "outputs": [],
   "source": [
    "concat_df = pl.concat([position_liq_final, settled_order_final]).join(\n",
    "    other=accounts_df_polars.select('accounts_accountId', 'accounts_owner'), \n",
    "    left_on='accountId', \n",
    "    right_on='accounts_accountId', \n",
    "    how='left')"
   ]
  },
  {
   "cell_type": "code",
   "execution_count": 34,
   "metadata": {},
   "outputs": [],
   "source": [
    "concat_df.write_parquet('../perps_v3_competition/perps_v3_trades.parquet')"
   ]
  },
  {
   "cell_type": "code",
   "execution_count": null,
   "metadata": {},
   "outputs": [
    {
     "data": {
      "text/html": [
       "<div><style>\n",
       ".dataframe > thead > tr > th,\n",
       ".dataframe > tbody > tr > td {\n",
       "  text-align: right;\n",
       "  white-space: pre-wrap;\n",
       "}\n",
       "</style>\n",
       "<small>shape: (131, 2)</small><table border=\"1\" class=\"dataframe\"><thead><tr><th>accountId</th><th>count</th></tr><tr><td>str</td><td>u32</td></tr></thead><tbody><tr><td>&quot;170141183460469231731687303715884105740&quot;</td><td>167</td></tr><tr><td>&quot;170141183460469231731687303715884105797&quot;</td><td>115</td></tr><tr><td>&quot;170141183460469231731687303715884105769&quot;</td><td>106</td></tr><tr><td>&quot;170141183460469231731687303715884105803&quot;</td><td>101</td></tr><tr><td>&quot;170141183460469231731687303715884105794&quot;</td><td>100</td></tr><tr><td>&quot;170141183460469231731687303715884105780&quot;</td><td>90</td></tr><tr><td>&quot;170141183460469231731687303715884105863&quot;</td><td>83</td></tr><tr><td>&quot;170141183460469231731687303715884105773&quot;</td><td>81</td></tr><tr><td>&quot;89029&quot;</td><td>67</td></tr><tr><td>&quot;170141183460469231731687303715884105736&quot;</td><td>58</td></tr><tr><td>&quot;170141183460469231731687303715884105767&quot;</td><td>54</td></tr><tr><td>&quot;170141183460469231731687303715884105782&quot;</td><td>50</td></tr><tr><td>&hellip;</td><td>&hellip;</td></tr><tr><td>&quot;170141183460469231731687303715884105822&quot;</td><td>1</td></tr><tr><td>&quot;170141183460469231731687303715884105866&quot;</td><td>1</td></tr><tr><td>&quot;170141183460469231731687303715884105731&quot;</td><td>1</td></tr><tr><td>&quot;4085165229&quot;</td><td>1</td></tr><tr><td>&quot;3189763893&quot;</td><td>1</td></tr><tr><td>&quot;3597704784&quot;</td><td>1</td></tr><tr><td>&quot;170141183460469231731687303715884105813&quot;</td><td>1</td></tr><tr><td>&quot;170141183460469231731687303715884105745&quot;</td><td>1</td></tr><tr><td>&quot;1570425441&quot;</td><td>1</td></tr><tr><td>&quot;170141183460469231731687303715884105875&quot;</td><td>1</td></tr><tr><td>&quot;170141183460469231731687303715884105855&quot;</td><td>1</td></tr><tr><td>&quot;170141183460469231731687303715884105772&quot;</td><td>1</td></tr></tbody></table></div>"
      ],
      "text/plain": [
       "shape: (131, 2)\n",
       "┌─────────────────────────────────────────┬───────┐\n",
       "│ accountId                               ┆ count │\n",
       "│ ---                                     ┆ ---   │\n",
       "│ str                                     ┆ u32   │\n",
       "╞═════════════════════════════════════════╪═══════╡\n",
       "│ 170141183460469231731687303715884105740 ┆ 167   │\n",
       "│ 170141183460469231731687303715884105797 ┆ 115   │\n",
       "│ 170141183460469231731687303715884105769 ┆ 106   │\n",
       "│ 170141183460469231731687303715884105803 ┆ 101   │\n",
       "│ …                                       ┆ …     │\n",
       "│ 1570425441                              ┆ 1     │\n",
       "│ 170141183460469231731687303715884105875 ┆ 1     │\n",
       "│ 170141183460469231731687303715884105855 ┆ 1     │\n",
       "│ 170141183460469231731687303715884105772 ┆ 1     │\n",
       "└─────────────────────────────────────────┴───────┘"
      ]
     },
     "execution_count": 26,
     "metadata": {},
     "output_type": "execute_result"
    }
   ],
   "source": [
    "concat_df.filter(pl.col('liquidation') == False).group_by('accountId').agg([pl.count()]).sort(by='count', descending=True)"
   ]
  },
  {
   "cell_type": "code",
   "execution_count": null,
   "metadata": {},
   "outputs": [
    {
     "data": {
      "text/plain": [
       "(441, 7)"
      ]
     },
     "execution_count": 22,
     "metadata": {},
     "output_type": "execute_result"
    }
   ],
   "source": [
    "concat_df.filter(pl.col('liquidation') == True).shape"
   ]
  },
  {
   "cell_type": "code",
   "execution_count": null,
   "metadata": {},
   "outputs": [
    {
     "data": {
      "text/plain": [
       "(2287, 7)"
      ]
     },
     "execution_count": 23,
     "metadata": {},
     "output_type": "execute_result"
    }
   ],
   "source": [
    "concat_df.filter(pl.col('liquidation') == False).shape"
   ]
  },
  {
   "cell_type": "code",
   "execution_count": null,
   "metadata": {},
   "outputs": [],
   "source": [
    "filtered_acct = concat_df['accountId'][0]"
   ]
  },
  {
   "cell_type": "code",
   "execution_count": null,
   "metadata": {},
   "outputs": [
    {
     "data": {
      "text/html": [
       "<div><style>\n",
       ".dataframe > thead > tr > th,\n",
       ".dataframe > tbody > tr > td {\n",
       "  text-align: right;\n",
       "  white-space: pre-wrap;\n",
       "}\n",
       "</style>\n",
       "<small>shape: (3, 7)</small><table border=\"1\" class=\"dataframe\"><thead><tr><th>datetime</th><th>accountId</th><th>marketSymbol</th><th>size_delta</th><th>size</th><th>price</th><th>liquidation</th></tr><tr><td>datetime[μs]</td><td>str</td><td>str</td><td>f64</td><td>f64</td><td>f64</td><td>bool</td></tr></thead><tbody><tr><td>2023-10-08 07:12:10</td><td>&quot;170141183460469231731687303715884105856&quot;</td><td>&quot;ETH&quot;</td><td>184.0022</td><td>184.0022</td><td>1632.097314</td><td>false</td></tr><tr><td>2023-10-23 22:43:26</td><td>&quot;170141183460469231731687303715884105856&quot;</td><td>&quot;ETH&quot;</td><td>19999.8</td><td>-121233.1639</td><td>1751.600241</td><td>true</td></tr><tr><td>2023-10-23 22:43:26</td><td>&quot;170141183460469231731687303715884105856&quot;</td><td>&quot;ETH&quot;</td><td>184.0022</td><td>0.0</td><td>1751.600241</td><td>true</td></tr></tbody></table></div>"
      ],
      "text/plain": [
       "shape: (3, 7)\n",
       "┌──────────────┬──────────────┬─────────────┬────────────┬─────────────┬─────────────┬─────────────┐\n",
       "│ datetime     ┆ accountId    ┆ marketSymbo ┆ size_delta ┆ size        ┆ price       ┆ liquidation │\n",
       "│ ---          ┆ ---          ┆ l           ┆ ---        ┆ ---         ┆ ---         ┆ ---         │\n",
       "│ datetime[μs] ┆ str          ┆ ---         ┆ f64        ┆ f64         ┆ f64         ┆ bool        │\n",
       "│              ┆              ┆ str         ┆            ┆             ┆             ┆             │\n",
       "╞══════════════╪══════════════╪═════════════╪════════════╪═════════════╪═════════════╪═════════════╡\n",
       "│ 2023-10-08   ┆ 170141183460 ┆ ETH         ┆ 184.0022   ┆ 184.0022    ┆ 1632.097314 ┆ false       │\n",
       "│ 07:12:10     ┆ 469231731687 ┆             ┆            ┆             ┆             ┆             │\n",
       "│              ┆ 303715884105 ┆             ┆            ┆             ┆             ┆             │\n",
       "│              ┆ 856          ┆             ┆            ┆             ┆             ┆             │\n",
       "│ 2023-10-23   ┆ 170141183460 ┆ ETH         ┆ 19999.8    ┆ -121233.163 ┆ 1751.600241 ┆ true        │\n",
       "│ 22:43:26     ┆ 469231731687 ┆             ┆            ┆ 9           ┆             ┆             │\n",
       "│              ┆ 303715884105 ┆             ┆            ┆             ┆             ┆             │\n",
       "│              ┆ 856          ┆             ┆            ┆             ┆             ┆             │\n",
       "│ 2023-10-23   ┆ 170141183460 ┆ ETH         ┆ 184.0022   ┆ 0.0         ┆ 1751.600241 ┆ true        │\n",
       "│ 22:43:26     ┆ 469231731687 ┆             ┆            ┆             ┆             ┆             │\n",
       "│              ┆ 303715884105 ┆             ┆            ┆             ┆             ┆             │\n",
       "│              ┆ 856          ┆             ┆            ┆             ┆             ┆             │\n",
       "└──────────────┴──────────────┴─────────────┴────────────┴─────────────┴─────────────┴─────────────┘"
      ]
     },
     "execution_count": 25,
     "metadata": {},
     "output_type": "execute_result"
    }
   ],
   "source": [
    "concat_df.filter(pl.col('accountId') == filtered_acct).filter(pl.col('marketSymbol') == 'ETH').sort(by='datetime', descending=False).tail(20)"
   ]
  },
  {
   "cell_type": "code",
   "execution_count": null,
   "metadata": {},
   "outputs": [],
   "source": []
  }
 ],
 "metadata": {
  "kernelspec": {
   "display_name": ".venv",
   "language": "python",
   "name": "python3"
  },
  "language_info": {
   "codemirror_mode": {
    "name": "ipython",
    "version": 3
   },
   "file_extension": ".py",
   "mimetype": "text/x-python",
   "name": "python",
   "nbconvert_exporter": "python",
   "pygments_lexer": "ipython3",
   "version": "3.10.12"
  },
  "orig_nbformat": 4
 },
 "nbformat": 4,
 "nbformat_minor": 2
}
