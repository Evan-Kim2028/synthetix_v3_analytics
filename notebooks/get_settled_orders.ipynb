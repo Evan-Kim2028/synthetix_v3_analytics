{
 "cells": [
  {
   "cell_type": "code",
   "execution_count": 1,
   "metadata": {},
   "outputs": [],
   "source": [
    "from synthetix_v3.base_perps import BasePerps\n",
    "import polars as pl"
   ]
  },
  {
   "cell_type": "code",
   "execution_count": 2,
   "metadata": {},
   "outputs": [],
   "source": [
    "base_perps = BasePerps()"
   ]
  },
  {
   "cell_type": "code",
   "execution_count": 3,
   "metadata": {},
   "outputs": [],
   "source": [
    "settled_orders_df = base_perps.get_settled_orders()"
   ]
  },
  {
   "cell_type": "code",
   "execution_count": 9,
   "metadata": {},
   "outputs": [],
   "source": [
    "polars_df = pl.from_pandas(settled_orders_df)"
   ]
  },
  {
   "cell_type": "code",
   "execution_count": 17,
   "metadata": {},
   "outputs": [],
   "source": [
    "polars_subset_df = polars_df.select([\n",
    "    pl.col('orderSettleds_timestamp'),\n",
    "    pl.col('markets_marketSymbol'),\n",
    "    # pl.col('orderSettleds_accountId'),\n",
    "    pl.col('orderSettleds_fillPrice'),\n",
    "    pl.col('orderSettleds_accruedFunding'),\n",
    "    pl.col('orderSettleds_sizeDelta'),\n",
    "    pl.col('orderSettleds_newSize'),\n",
    "    pl.col('orderSettleds_totalFees'),\n",
    "])"
   ]
  },
  {
   "cell_type": "code",
   "execution_count": 18,
   "metadata": {},
   "outputs": [
    {
     "data": {
      "text/html": [
       "<div><style>\n",
       ".dataframe > thead > tr > th,\n",
       ".dataframe > tbody > tr > td {\n",
       "  text-align: right;\n",
       "  white-space: pre-wrap;\n",
       "}\n",
       "</style>\n",
       "<small>shape: (5, 7)</small><table border=\"1\" class=\"dataframe\"><thead><tr><th>orderSettleds_timestamp</th><th>markets_marketSymbol</th><th>orderSettleds_fillPrice</th><th>orderSettleds_accruedFunding</th><th>orderSettleds_sizeDelta</th><th>orderSettleds_newSize</th><th>orderSettleds_totalFees</th></tr><tr><td>i64</td><td>str</td><td>f64</td><td>f64</td><td>f64</td><td>f64</td><td>f64</td></tr></thead><tbody><tr><td>1696391442</td><td>&quot;ETH&quot;</td><td>1.6364e21</td><td>0.0</td><td>3.0426e16</td><td>3.0426e16</td><td>9.9580e15</td></tr><tr><td>1696391484</td><td>&quot;ETH&quot;</td><td>1.6354e21</td><td>-3.1340e15</td><td>-4.7323e20</td><td>-4.7319e20</td><td>3.8696e20</td></tr><tr><td>1696553232</td><td>&quot;ETH&quot;</td><td>1.6097e21</td><td>-1.0875e19</td><td>4.7319e20</td><td>0.0</td><td>1.5234e20</td></tr><tr><td>1696553262</td><td>&quot;ETH&quot;</td><td>1.6109e21</td><td>-5.5683e15</td><td>1.5369e21</td><td>1.5369e21</td><td>4.9517e20</td></tr><tr><td>1696373616</td><td>&quot;ETH&quot;</td><td>1.6523e21</td><td>0.0</td><td>4.1995e19</td><td>4.1995e19</td><td>3.4694e19</td></tr></tbody></table></div>"
      ],
      "text/plain": [
       "shape: (5, 7)\n",
       "┌──────────────┬─────────────┬─────────────┬─────────────┬─────────────┬─────────────┬─────────────┐\n",
       "│ orderSettled ┆ markets_mar ┆ orderSettle ┆ orderSettle ┆ orderSettle ┆ orderSettle ┆ orderSettle │\n",
       "│ s_timestamp  ┆ ketSymbol   ┆ ds_fillPric ┆ ds_accruedF ┆ ds_sizeDelt ┆ ds_newSize  ┆ ds_totalFee │\n",
       "│ ---          ┆ ---         ┆ e           ┆ unding      ┆ a           ┆ ---         ┆ s           │\n",
       "│ i64          ┆ str         ┆ ---         ┆ ---         ┆ ---         ┆ f64         ┆ ---         │\n",
       "│              ┆             ┆ f64         ┆ f64         ┆ f64         ┆             ┆ f64         │\n",
       "╞══════════════╪═════════════╪═════════════╪═════════════╪═════════════╪═════════════╪═════════════╡\n",
       "│ 1696391442   ┆ ETH         ┆ 1.6364e21   ┆ 0.0         ┆ 3.0426e16   ┆ 3.0426e16   ┆ 9.9580e15   │\n",
       "│ 1696391484   ┆ ETH         ┆ 1.6354e21   ┆ -3.1340e15  ┆ -4.7323e20  ┆ -4.7319e20  ┆ 3.8696e20   │\n",
       "│ 1696553232   ┆ ETH         ┆ 1.6097e21   ┆ -1.0875e19  ┆ 4.7319e20   ┆ 0.0         ┆ 1.5234e20   │\n",
       "│ 1696553262   ┆ ETH         ┆ 1.6109e21   ┆ -5.5683e15  ┆ 1.5369e21   ┆ 1.5369e21   ┆ 4.9517e20   │\n",
       "│ 1696373616   ┆ ETH         ┆ 1.6523e21   ┆ 0.0         ┆ 4.1995e19   ┆ 4.1995e19   ┆ 3.4694e19   │\n",
       "└──────────────┴─────────────┴─────────────┴─────────────┴─────────────┴─────────────┴─────────────┘"
      ]
     },
     "execution_count": 18,
     "metadata": {},
     "output_type": "execute_result"
    }
   ],
   "source": [
    "polars_subset_df.head(5)"
   ]
  },
  {
   "cell_type": "code",
   "execution_count": 15,
   "metadata": {},
   "outputs": [],
   "source": [
    "preprocessed_df = (polars_subset_df.with_columns([\n",
    "    pl.from_epoch(\"orderSettleds_timestamp\").alias(\"datetime\"),\n",
    "    (pl.col('orderSettleds_fillPrice') / 10 ** 18),\n",
    "    (pl.col('orderSettleds_sizeDelta') / 10 ** 18),\n",
    "    (pl.col('orderSettleds_accruedFunding') / 10 ** 18),\n",
    "    (pl.col('orderSettleds_newSize') / 10 ** 18),\n",
    "    (pl.col('orderSettleds_totalFees') / 10 ** 18),\n",
    "])\n",
    ".with_columns([\n",
    "    (pl.col('orderSettleds_sizeDelta') * pl.col('orderSettleds_fillPrice')).alias('size_usd')\n",
    "]))"
   ]
  },
  {
   "cell_type": "code",
   "execution_count": 20,
   "metadata": {},
   "outputs": [
    {
     "data": {
      "text/html": [
       "<div><style>\n",
       ".dataframe > thead > tr > th,\n",
       ".dataframe > tbody > tr > td {\n",
       "  text-align: right;\n",
       "  white-space: pre-wrap;\n",
       "}\n",
       "</style>\n",
       "<small>shape: (239, 9)</small><table border=\"1\" class=\"dataframe\"><thead><tr><th>orderSettleds_timestamp</th><th>markets_marketSymbol</th><th>orderSettleds_fillPrice</th><th>orderSettleds_accruedFunding</th><th>orderSettleds_sizeDelta</th><th>orderSettleds_newSize</th><th>orderSettleds_totalFees</th><th>datetime</th><th>size_usd</th></tr><tr><td>i64</td><td>str</td><td>f64</td><td>f64</td><td>f64</td><td>f64</td><td>f64</td><td>datetime[μs]</td><td>f64</td></tr></thead><tbody><tr><td>1696623652</td><td>&quot;ETH&quot;</td><td>1646.340635</td><td>-0.095376</td><td>1913.4486</td><td>1913.4486</td><td>1011.547296</td><td>2023-10-06 20:20:52</td><td>3.1502e6</td></tr><tr><td>1696622800</td><td>&quot;ETH&quot;</td><td>1643.103165</td><td>-1.683025</td><td>1831.1418</td><td>0.0</td><td>601.750977</td><td>2023-10-06 20:06:40</td><td>3.0088e6</td></tr><tr><td>1696619616</td><td>&quot;ETH&quot;</td><td>1646.639647</td><td>-1.530655</td><td>-4232.76</td><td>-4232.76</td><td>2862.18444</td><td>2023-10-06 19:13:36</td><td>-6.9698e6</td></tr><tr><td>1696615874</td><td>&quot;ETH&quot;</td><td>1649.48573</td><td>-0.017325</td><td>-904.9654</td><td>-904.9654</td><td>298.545503</td><td>2023-10-06 18:11:14</td><td>-1.4927e6</td></tr><tr><td>1696615732</td><td>&quot;ETH&quot;</td><td>1651.746866</td><td>-0.696283</td><td>-2231.07</td><td>0.0</td><td>737.032576</td><td>2023-10-06 18:08:52</td><td>-3.6852e6</td></tr><tr><td>1696613908</td><td>&quot;ETH&quot;</td><td>1655.409064</td><td>-0.293994</td><td>-151.5943</td><td>-397.5502</td><td>50.190116</td><td>2023-10-06 17:38:28</td><td>-250950.578219</td></tr><tr><td>1696610692</td><td>&quot;ETH&quot;</td><td>1650.027905</td><td>-6.676232</td><td>-91.3281</td><td>-245.9559</td><td>30.138783</td><td>2023-10-06 16:44:52</td><td>-150693.913544</td></tr><tr><td>1696607002</td><td>&quot;ETH&quot;</td><td>1659.161663</td><td>0.068805</td><td>-3083.2775</td><td>0.0</td><td>1023.131165</td><td>2023-10-06 15:43:22</td><td>-5.1157e6</td></tr><tr><td>1696602668</td><td>&quot;ETH&quot;</td><td>1643.362737</td><td>0.001279</td><td>-1831.1418</td><td>-1831.1418</td><td>601.84604</td><td>2023-10-06 14:31:08</td><td>-3.0092e6</td></tr><tr><td>1696602364</td><td>&quot;ETH&quot;</td><td>1643.826829</td><td>-7.70257</td><td>-2046.4735</td><td>0.0</td><td>672.809609</td><td>2023-10-06 14:26:04</td><td>-3.3640e6</td></tr><tr><td>1696602136</td><td>&quot;ETH&quot;</td><td>1640.822014</td><td>0.000736</td><td>618.891798</td><td>618.891798</td><td>507.745643</td><td>2023-10-06 14:22:16</td><td>1.0155e6</td></tr><tr><td>1696602066</td><td>&quot;ETH&quot;</td><td>1639.631615</td><td>-0.181657</td><td>1104.690947</td><td>0.0</td><td>905.643101</td><td>2023-10-06 14:21:06</td><td>1.8113e6</td></tr><tr><td>&hellip;</td><td>&hellip;</td><td>&hellip;</td><td>&hellip;</td><td>&hellip;</td><td>&hellip;</td><td>&hellip;</td><td>&hellip;</td><td>&hellip;</td></tr><tr><td>1696347898</td><td>&quot;ETH&quot;</td><td>1645.105645</td><td>-0.018167</td><td>-500.0</td><td>-3500.0</td><td>411.276411</td><td>2023-10-03 15:44:58</td><td>-822552.822495</td></tr><tr><td>1696347656</td><td>&quot;ETH&quot;</td><td>1647.86128</td><td>-0.294313</td><td>-1000.0</td><td>-3000.0</td><td>629.95377</td><td>2023-10-03 15:40:56</td><td>-1.6479e6</td></tr><tr><td>1696347376</td><td>&quot;ETH&quot;</td><td>1649.538201</td><td>-0.005106</td><td>0.051035</td><td>0.976436</td><td>0.042092</td><td>2023-10-03 15:36:16</td><td>84.183415</td></tr><tr><td>1696347308</td><td>&quot;ETH&quot;</td><td>1649.471121</td><td>0.0</td><td>0.925401</td><td>0.925401</td><td>0.763211</td><td>2023-10-03 15:35:08</td><td>1526.422463</td></tr><tr><td>1696346718</td><td>&quot;ETH&quot;</td><td>1651.95608</td><td>-0.014333</td><td>0.3027</td><td>0.3027</td><td>0.250024</td><td>2023-10-03 15:25:18</td><td>500.047106</td></tr><tr><td>1696346526</td><td>&quot;ETH&quot;</td><td>1651.888104</td><td>-0.011026</td><td>0.2423</td><td>0.0</td><td>0.200126</td><td>2023-10-03 15:22:06</td><td>400.252488</td></tr><tr><td>1696346378</td><td>&quot;ETH&quot;</td><td>1650.890388</td><td>-0.014572</td><td>-0.3028</td><td>-0.2423</td><td>0.099978</td><td>2023-10-03 15:19:38</td><td>-499.88961</td></tr><tr><td>1696346182</td><td>&quot;ETH&quot;</td><td>1651.510656</td><td>-0.003415</td><td>0.1211</td><td>0.0605</td><td>0.099999</td><td>2023-10-03 15:16:22</td><td>199.99794</td></tr><tr><td>1696346136</td><td>&quot;ETH&quot;</td><td>1650.6123</td><td>0.0</td><td>-0.0606</td><td>-0.0606</td><td>0.020005</td><td>2023-10-03 15:15:36</td><td>-100.027105</td></tr><tr><td>1696346106</td><td>&quot;ETH&quot;</td><td>1650.911257</td><td>-0.005478</td><td>-1159.975626</td><td>-1159.975626</td><td>383.003364</td><td>2023-10-03 15:15:06</td><td>-1.9150e6</td></tr><tr><td>1696346032</td><td>&quot;ETH&quot;</td><td>1652.712617</td><td>-0.021498</td><td>-1241.844112</td><td>0.0</td><td>410.482287</td><td>2023-10-03 15:13:52</td><td>-2.0524e6</td></tr><tr><td>1696345738</td><td>&quot;ETH&quot;</td><td>1648.773192</td><td>0.0</td><td>1241.844112</td><td>1241.844112</td><td>1023.75964</td><td>2023-10-03 15:08:58</td><td>2.0475e6</td></tr></tbody></table></div>"
      ],
      "text/plain": [
       "shape: (239, 9)\n",
       "┌───────────┬───────────┬───────────┬───────────┬───┬───────────┬───────────┬───────────┬──────────┐\n",
       "│ orderSett ┆ markets_m ┆ orderSett ┆ orderSett ┆ … ┆ orderSett ┆ orderSett ┆ datetime  ┆ size_usd │\n",
       "│ leds_time ┆ arketSymb ┆ leds_fill ┆ leds_accr ┆   ┆ leds_newS ┆ leds_tota ┆ ---       ┆ ---      │\n",
       "│ stamp     ┆ ol        ┆ Price     ┆ uedFundin ┆   ┆ ize       ┆ lFees     ┆ datetime[ ┆ f64      │\n",
       "│ ---       ┆ ---       ┆ ---       ┆ g         ┆   ┆ ---       ┆ ---       ┆ μs]       ┆          │\n",
       "│ i64       ┆ str       ┆ f64       ┆ ---       ┆   ┆ f64       ┆ f64       ┆           ┆          │\n",
       "│           ┆           ┆           ┆ f64       ┆   ┆           ┆           ┆           ┆          │\n",
       "╞═══════════╪═══════════╪═══════════╪═══════════╪═══╪═══════════╪═══════════╪═══════════╪══════════╡\n",
       "│ 169662365 ┆ ETH       ┆ 1646.3406 ┆ -0.095376 ┆ … ┆ 1913.4486 ┆ 1011.5472 ┆ 2023-10-0 ┆ 3.1502e6 │\n",
       "│ 2         ┆           ┆ 35        ┆           ┆   ┆           ┆ 96        ┆ 6         ┆          │\n",
       "│           ┆           ┆           ┆           ┆   ┆           ┆           ┆ 20:20:52  ┆          │\n",
       "│ 169662280 ┆ ETH       ┆ 1643.1031 ┆ -1.683025 ┆ … ┆ 0.0       ┆ 601.75097 ┆ 2023-10-0 ┆ 3.0088e6 │\n",
       "│ 0         ┆           ┆ 65        ┆           ┆   ┆           ┆ 7         ┆ 6         ┆          │\n",
       "│           ┆           ┆           ┆           ┆   ┆           ┆           ┆ 20:06:40  ┆          │\n",
       "│ 169661961 ┆ ETH       ┆ 1646.6396 ┆ -1.530655 ┆ … ┆ -4232.76  ┆ 2862.1844 ┆ 2023-10-0 ┆ -6.9698e │\n",
       "│ 6         ┆           ┆ 47        ┆           ┆   ┆           ┆ 4         ┆ 6         ┆ 6        │\n",
       "│           ┆           ┆           ┆           ┆   ┆           ┆           ┆ 19:13:36  ┆          │\n",
       "│ 169661587 ┆ ETH       ┆ 1649.4857 ┆ -0.017325 ┆ … ┆ -904.9654 ┆ 298.54550 ┆ 2023-10-0 ┆ -1.4927e │\n",
       "│ 4         ┆           ┆ 3         ┆           ┆   ┆           ┆ 3         ┆ 6         ┆ 6        │\n",
       "│           ┆           ┆           ┆           ┆   ┆           ┆           ┆ 18:11:14  ┆          │\n",
       "│ …         ┆ …         ┆ …         ┆ …         ┆ … ┆ …         ┆ …         ┆ …         ┆ …        │\n",
       "│ 169634613 ┆ ETH       ┆ 1650.6123 ┆ 0.0       ┆ … ┆ -0.0606   ┆ 0.020005  ┆ 2023-10-0 ┆ -100.027 │\n",
       "│ 6         ┆           ┆           ┆           ┆   ┆           ┆           ┆ 3         ┆ 105      │\n",
       "│           ┆           ┆           ┆           ┆   ┆           ┆           ┆ 15:15:36  ┆          │\n",
       "│ 169634610 ┆ ETH       ┆ 1650.9112 ┆ -0.005478 ┆ … ┆ -1159.975 ┆ 383.00336 ┆ 2023-10-0 ┆ -1.9150e │\n",
       "│ 6         ┆           ┆ 57        ┆           ┆   ┆ 626       ┆ 4         ┆ 3         ┆ 6        │\n",
       "│           ┆           ┆           ┆           ┆   ┆           ┆           ┆ 15:15:06  ┆          │\n",
       "│ 169634603 ┆ ETH       ┆ 1652.7126 ┆ -0.021498 ┆ … ┆ 0.0       ┆ 410.48228 ┆ 2023-10-0 ┆ -2.0524e │\n",
       "│ 2         ┆           ┆ 17        ┆           ┆   ┆           ┆ 7         ┆ 3         ┆ 6        │\n",
       "│           ┆           ┆           ┆           ┆   ┆           ┆           ┆ 15:13:52  ┆          │\n",
       "│ 169634573 ┆ ETH       ┆ 1648.7731 ┆ 0.0       ┆ … ┆ 1241.8441 ┆ 1023.7596 ┆ 2023-10-0 ┆ 2.0475e6 │\n",
       "│ 8         ┆           ┆ 92        ┆           ┆   ┆ 12        ┆ 4         ┆ 3         ┆          │\n",
       "│           ┆           ┆           ┆           ┆   ┆           ┆           ┆ 15:08:58  ┆          │\n",
       "└───────────┴───────────┴───────────┴───────────┴───┴───────────┴───────────┴───────────┴──────────┘"
      ]
     },
     "execution_count": 20,
     "metadata": {},
     "output_type": "execute_result"
    }
   ],
   "source": [
    "preprocessed_df.filter(pl.col('markets_marketSymbol') == 'ETH').sort(by='datetime', descending=True)"
   ]
  },
  {
   "cell_type": "code",
   "execution_count": 22,
   "metadata": {},
   "outputs": [
    {
     "name": "stderr",
     "output_type": "stream",
     "text": [
      "/tmp/ipykernel_25720/3641139651.py:1: DeprecationWarning: `groupby` is deprecated. It has been renamed to `group_by`.\n",
      "  preprocessed_df.groupby('markets_marketSymbol').agg([pl.col('size_usd').abs().sum()]).sort(by='size_usd', descending=True)\n"
     ]
    },
    {
     "data": {
      "text/html": [
       "<div><style>\n",
       ".dataframe > thead > tr > th,\n",
       ".dataframe > tbody > tr > td {\n",
       "  text-align: right;\n",
       "  white-space: pre-wrap;\n",
       "}\n",
       "</style>\n",
       "<small>shape: (5, 2)</small><table border=\"1\" class=\"dataframe\"><thead><tr><th>markets_marketSymbol</th><th>size_usd</th></tr><tr><td>str</td><td>f64</td></tr></thead><tbody><tr><td>&quot;BTC&quot;</td><td>5.0966e8</td></tr><tr><td>&quot;ETH&quot;</td><td>4.2216e8</td></tr><tr><td>&quot;OP&quot;</td><td>9.1788e7</td></tr><tr><td>&quot;LINK&quot;</td><td>5.2930e7</td></tr><tr><td>&quot;SNX&quot;</td><td>2.7890e7</td></tr></tbody></table></div>"
      ],
      "text/plain": [
       "shape: (5, 2)\n",
       "┌──────────────────────┬──────────┐\n",
       "│ markets_marketSymbol ┆ size_usd │\n",
       "│ ---                  ┆ ---      │\n",
       "│ str                  ┆ f64      │\n",
       "╞══════════════════════╪══════════╡\n",
       "│ BTC                  ┆ 5.0966e8 │\n",
       "│ ETH                  ┆ 4.2216e8 │\n",
       "│ OP                   ┆ 9.1788e7 │\n",
       "│ LINK                 ┆ 5.2930e7 │\n",
       "│ SNX                  ┆ 2.7890e7 │\n",
       "└──────────────────────┴──────────┘"
      ]
     },
     "execution_count": 22,
     "metadata": {},
     "output_type": "execute_result"
    }
   ],
   "source": [
    "preprocessed_df.groupby('markets_marketSymbol').agg([pl.col('size_usd').abs().sum()]).sort(by='size_usd', descending=True)"
   ]
  },
  {
   "cell_type": "code",
   "execution_count": 24,
   "metadata": {},
   "outputs": [
    {
     "name": "stderr",
     "output_type": "stream",
     "text": [
      "/tmp/ipykernel_25720/2835360431.py:1: DeprecationWarning: `groupby` is deprecated. It has been renamed to `group_by`.\n",
      "  preprocessed_df.groupby('markets_marketSymbol').agg([pl.col('size_usd').abs().sum()]).sum()['size_usd'].item()\n"
     ]
    },
    {
     "data": {
      "text/plain": [
       "1104432352.8035989"
      ]
     },
     "execution_count": 24,
     "metadata": {},
     "output_type": "execute_result"
    }
   ],
   "source": [
    "preprocessed_df.groupby('markets_marketSymbol').agg([pl.col('size_usd').abs().sum()]).sum()['size_usd'].item()"
   ]
  },
  {
   "cell_type": "code",
   "execution_count": null,
   "metadata": {},
   "outputs": [],
   "source": []
  }
 ],
 "metadata": {
  "kernelspec": {
   "display_name": ".venv",
   "language": "python",
   "name": "python3"
  },
  "language_info": {
   "codemirror_mode": {
    "name": "ipython",
    "version": 3
   },
   "file_extension": ".py",
   "mimetype": "text/x-python",
   "name": "python",
   "nbconvert_exporter": "python",
   "pygments_lexer": "ipython3",
   "version": "3.10.12"
  },
  "orig_nbformat": 4
 },
 "nbformat": 4,
 "nbformat_minor": 2
}
