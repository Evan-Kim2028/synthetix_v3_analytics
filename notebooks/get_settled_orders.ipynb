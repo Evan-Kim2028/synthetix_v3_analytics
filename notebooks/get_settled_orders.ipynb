{
 "cells": [
  {
   "cell_type": "code",
   "execution_count": 1,
   "metadata": {},
   "outputs": [],
   "source": [
    "from synthetix_v3.base_perps import BasePerps\n",
    "import matplotlib.pyplot as plt\n",
    "import polars as pl"
   ]
  },
  {
   "cell_type": "code",
   "execution_count": 2,
   "metadata": {},
   "outputs": [],
   "source": [
    "base_perps = BasePerps()"
   ]
  },
  {
   "cell_type": "code",
   "execution_count": 3,
   "metadata": {},
   "outputs": [],
   "source": [
    "settled_orders_df = base_perps.get_settled_orders(timestamp=1696291200) # October 3rd 12:00 AM UTC"
   ]
  },
  {
   "cell_type": "code",
   "execution_count": 4,
   "metadata": {},
   "outputs": [],
   "source": [
    "polars_df = pl.from_pandas(settled_orders_df)"
   ]
  },
  {
   "cell_type": "code",
   "execution_count": 5,
   "metadata": {},
   "outputs": [],
   "source": [
    "blacklisted_acct_ids = [1.7014118346046923e+38, # has 1e9 trading vol\n",
    "                        # 215754283 # has 1e8 trading vol, unsure if whale or an outlier that should be filtered\n",
    "                        ]"
   ]
  },
  {
   "cell_type": "code",
   "execution_count": 6,
   "metadata": {},
   "outputs": [],
   "source": [
    "polars_subset_df = polars_df.select([\n",
    "    pl.col('orderSettleds_timestamp'),\n",
    "    pl.col('markets_marketSymbol'),\n",
    "    pl.col('orderSettleds_accountId'),\n",
    "    pl.col('orderSettleds_fillPrice'),\n",
    "    pl.col('orderSettleds_accruedFunding'),\n",
    "    pl.col('orderSettleds_sizeDelta'),\n",
    "    pl.col('orderSettleds_newSize'),\n",
    "    pl.col('orderSettleds_totalFees'),\n",
    "])"
   ]
  },
  {
   "cell_type": "code",
   "execution_count": 7,
   "metadata": {},
   "outputs": [],
   "source": [
    "preprocessed_df = (polars_subset_df.with_columns([\n",
    "    pl.from_epoch(\"orderSettleds_timestamp\").alias(\"datetime\"),\n",
    "    (pl.col('orderSettleds_fillPrice') / 10 ** 18),\n",
    "    (pl.col('orderSettleds_sizeDelta') / 10 ** 18),\n",
    "    (pl.col('orderSettleds_accruedFunding') / 10 ** 18),\n",
    "    (pl.col('orderSettleds_newSize') / 10 ** 18),\n",
    "    (pl.col('orderSettleds_totalFees') / 10 ** 18),\n",
    "])\n",
    ".with_columns([\n",
    "    (pl.col('orderSettleds_sizeDelta').abs() * pl.col('orderSettleds_fillPrice')).alias('size_usd')\n",
    "])\n",
    ".filter(~pl.col('orderSettleds_accountId').is_in(blacklisted_acct_ids))\n",
    ")"
   ]
  },
  {
   "cell_type": "code",
   "execution_count": 8,
   "metadata": {},
   "outputs": [
    {
     "name": "stderr",
     "output_type": "stream",
     "text": [
      "/tmp/ipykernel_16579/4187212515.py:1: DeprecationWarning: `groupby` is deprecated. It has been renamed to `group_by`.\n",
      "  sorted_orders_accts = preprocessed_df.groupby('orderSettleds_accountId').agg([pl.col('size_usd').abs().sum()]).sort(by='size_usd', descending=True)\n"
     ]
    }
   ],
   "source": [
    "sorted_orders_accts = preprocessed_df.groupby('orderSettleds_accountId').agg([pl.col('size_usd').abs().sum()]).sort(by='size_usd', descending=True)"
   ]
  },
  {
   "cell_type": "code",
   "execution_count": 9,
   "metadata": {},
   "outputs": [
    {
     "name": "stdout",
     "output_type": "stream",
     "text": [
      "Account: 215754283.0   traded $102,055,962.05\n",
      "Account: 2097112578.0  traded $47,126,328.43\n",
      "Account: 3968420654.0  traded $28,927,481.67\n",
      "Account: 2993934055.0  traded $22,149,719.07\n",
      "Account: 1361418361.0  traded $14,678,728.17\n",
      "Account: 4000498558.0  traded $14,175,988.08\n",
      "Account: 2251522513.0  traded $12,113,710.71\n",
      "Account: 3802029150.0  traded $8,633,029.79\n",
      "Account: 3202664834.0  traded $7,584,798.00\n",
      "Account: 2892008584.0  traded $7,508,872.86\n",
      "Account: 3461391369.0  traded $7,109,674.77\n",
      "Account: 2557546772.0  traded $6,174,796.77\n",
      "Account: 2490279701.0  traded $4,779,717.02\n",
      "Account: 69.0          traded $4,636,973.34\n",
      "Account: 3341266885.0  traded $4,232,431.88\n",
      "Account: 20790586.0    traded $3,967,477.04\n",
      "Account: 1315128020.0  traded $2,990,751.38\n",
      "Account: 89029.0       traded $2,225,444.61\n",
      "Account: 3215688029.0  traded $2,040,319.23\n",
      "Account: 2179405963.0  traded $2,003,973.61\n",
      "Account: 3143303639.0  traded $1,735,454.87\n",
      "Account: 91589.0       traded $961,017.05\n",
      "Account: 2195432464.0  traded $879,620.53\n",
      "Account: 76355.0       traded $834,509.57\n",
      "Account: 3597704784.0  traded $821,268.17\n",
      "Account: 2984514059.0  traded $803,336.01\n",
      "Account: 2516691179.0  traded $494,395.55\n",
      "Account: 1676741155.0  traded $228,765.32\n",
      "Account: 3782488711.0  traded $183,039.90\n",
      "Account: 4085165229.0  traded $100,261.86\n",
      "Account: 2650341812.0  traded $48,529.30\n",
      "Account: 2384448164.0  traded $33,484.47\n",
      "Account: 1843551657.0  traded $32,168.66\n",
      "Account: 2895681193.0  traded $27,696.14\n",
      "Account: 308355549.0   traded $19,149.70\n",
      "Account: 2644609911.0  traded $18,656.56\n",
      "Account: 1856010826.0  traded $6,999.20\n",
      "Account: 24696.0       traded $3,190.49\n",
      "Account: 2321270947.0  traded $483.79\n",
      "Account: 3189763893.0  traded $81.02\n",
      "Account: 2327607374.0  traded $69.75\n",
      "Account: 76.0          traded $1.37\n"
     ]
    }
   ],
   "source": [
    "# largest accounts amount traded \n",
    "for row in sorted_orders_accts.rows(named=False):\n",
    "    print(f\"Account: {row[0]:<13} traded ${row[1]:,.2f}\")"
   ]
  },
  {
   "cell_type": "code",
   "execution_count": 10,
   "metadata": {},
   "outputs": [],
   "source": [
    "market_oi = preprocessed_df.group_by('markets_marketSymbol').agg([pl.col('size_usd').abs().sum()]).sort(by='size_usd', descending=True)"
   ]
  },
  {
   "cell_type": "code",
   "execution_count": 11,
   "metadata": {},
   "outputs": [
    {
     "name": "stdout",
     "output_type": "stream",
     "text": [
      "Market: ETH  : OI $268,279,650.87\n",
      "Market: BTC  : OI $23,995,706.81\n",
      "Market: OP   : OI $12,229,095.87\n",
      "Market: SNX  : OI $5,639,228.84\n",
      "Market: LINK : OI $2,204,675.35\n"
     ]
    }
   ],
   "source": [
    "for row in market_oi.rows(named=False):\n",
    "    print(f\"Market: {row[0]:<5}: OI ${row[1]:,.2f}\")"
   ]
  },
  {
   "cell_type": "code",
   "execution_count": 12,
   "metadata": {},
   "outputs": [
    {
     "name": "stderr",
     "output_type": "stream",
     "text": [
      "/tmp/ipykernel_16579/1252346849.py:1: DeprecationWarning: `groupby` is deprecated. It has been renamed to `group_by`.\n",
      "  total_trading = preprocessed_df.groupby('markets_marketSymbol').agg([pl.col('size_usd').abs().sum()]).sum()['size_usd'].item()\n"
     ]
    }
   ],
   "source": [
    "total_trading = preprocessed_df.groupby('markets_marketSymbol').agg([pl.col('size_usd').abs().sum()]).sum()['size_usd'].item()"
   ]
  },
  {
   "cell_type": "code",
   "execution_count": 13,
   "metadata": {},
   "outputs": [
    {
     "name": "stdout",
     "output_type": "stream",
     "text": [
      "Total Volume Traded: $312,348,357.75\n"
     ]
    }
   ],
   "source": [
    "print(f\"Total Volume Traded: ${total_trading:,.2f}\")"
   ]
  },
  {
   "cell_type": "code",
   "execution_count": null,
   "metadata": {},
   "outputs": [],
   "source": []
  }
 ],
 "metadata": {
  "kernelspec": {
   "display_name": ".venv",
   "language": "python",
   "name": "python3"
  },
  "language_info": {
   "codemirror_mode": {
    "name": "ipython",
    "version": 3
   },
   "file_extension": ".py",
   "mimetype": "text/x-python",
   "name": "python",
   "nbconvert_exporter": "python",
   "pygments_lexer": "ipython3",
   "version": "3.10.12"
  },
  "orig_nbformat": 4
 },
 "nbformat": 4,
 "nbformat_minor": 2
}
