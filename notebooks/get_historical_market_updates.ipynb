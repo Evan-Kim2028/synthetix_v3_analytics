{
 "cells": [
  {
   "cell_type": "code",
   "execution_count": 2,
   "metadata": {},
   "outputs": [],
   "source": [
    "from synthetix_v3.base_perps import TestBasePerps\n",
    "import polars as pl"
   ]
  },
  {
   "cell_type": "code",
   "execution_count": 3,
   "metadata": {},
   "outputs": [],
   "source": [
    "base_perp = TestBasePerps()"
   ]
  },
  {
   "cell_type": "code",
   "execution_count": 4,
   "metadata": {},
   "outputs": [],
   "source": [
    "market_updates_df = base_perp.get_market_updates()"
   ]
  },
  {
   "cell_type": "code",
   "execution_count": 5,
   "metadata": {},
   "outputs": [
    {
     "data": {
      "text/plain": [
       "marketUpdateds_timestamp                   int64\n",
       "markets_id                                 int64\n",
       "marketUpdateds_price                     float64\n",
       "marketUpdateds_skew                      float64\n",
       "marketUpdateds_size                      float64\n",
       "marketUpdateds_sizeDelta                 float64\n",
       "marketUpdateds_currentFundingRate        float64\n",
       "marketUpdateds_currentFundingVelocity    float64\n",
       "markets_marketSymbol                      object\n",
       "dtype: object"
      ]
     },
     "execution_count": 5,
     "metadata": {},
     "output_type": "execute_result"
    }
   ],
   "source": [
    "market_updates_df.dtypes"
   ]
  },
  {
   "cell_type": "code",
   "execution_count": 6,
   "metadata": {},
   "outputs": [],
   "source": [
    "polars_df = pl.from_pandas(market_updates_df)"
   ]
  },
  {
   "cell_type": "code",
   "execution_count": 7,
   "metadata": {},
   "outputs": [
    {
     "data": {
      "text/plain": [
       "(2984, 9)"
      ]
     },
     "execution_count": 7,
     "metadata": {},
     "output_type": "execute_result"
    }
   ],
   "source": [
    "polars_df.shape"
   ]
  },
  {
   "cell_type": "code",
   "execution_count": 8,
   "metadata": {},
   "outputs": [],
   "source": [
    "# save to perps_v3_competition folder\n",
    "polars_df.write_parquet('../perps_v3_competition/market_updates.parquet')"
   ]
  },
  {
   "cell_type": "code",
   "execution_count": 9,
   "metadata": {},
   "outputs": [],
   "source": [
    "# divide by decimals\n",
    "polars_df = polars_df.with_columns([\n",
    "    pl.from_epoch(\"marketUpdateds_timestamp\").alias(\"datetime\"),\n",
    "    (pl.col('marketUpdateds_price') / 10 ** 18),\n",
    "    (pl.col('marketUpdateds_skew') / 10 ** 18),\n",
    "    (pl.col('marketUpdateds_size') / 10 ** 18),\n",
    "    (pl.col('marketUpdateds_sizeDelta') / 10 ** 18),\n",
    "    (pl.col('marketUpdateds_currentFundingRate') / 10 ** 18),\n",
    "    (pl.col('marketUpdateds_currentFundingVelocity') / 10 ** 18)\n",
    "])"
   ]
  },
  {
   "cell_type": "code",
   "execution_count": 10,
   "metadata": {},
   "outputs": [
    {
     "name": "stderr",
     "output_type": "stream",
     "text": [
      "/tmp/ipykernel_12582/813217849.py:1: DeprecationWarning: `groupby` is deprecated. It has been renamed to `group_by`.\n",
      "  polars_df.groupby('markets_marketSymbol').agg([pl.count()]).sort(by='count', descending=True)\n"
     ]
    },
    {
     "data": {
      "text/html": [
       "<div><style>\n",
       ".dataframe > thead > tr > th,\n",
       ".dataframe > tbody > tr > td {\n",
       "  text-align: right;\n",
       "  white-space: pre-wrap;\n",
       "}\n",
       "</style>\n",
       "<small>shape: (5, 2)</small><table border=\"1\" class=\"dataframe\"><thead><tr><th>markets_marketSymbol</th><th>count</th></tr><tr><td>str</td><td>u32</td></tr></thead><tbody><tr><td>&quot;ETH&quot;</td><td>1127</td></tr><tr><td>&quot;SNX&quot;</td><td>622</td></tr><tr><td>&quot;BTC&quot;</td><td>565</td></tr><tr><td>&quot;OP&quot;</td><td>350</td></tr><tr><td>&quot;LINK&quot;</td><td>320</td></tr></tbody></table></div>"
      ],
      "text/plain": [
       "shape: (5, 2)\n",
       "┌──────────────────────┬───────┐\n",
       "│ markets_marketSymbol ┆ count │\n",
       "│ ---                  ┆ ---   │\n",
       "│ str                  ┆ u32   │\n",
       "╞══════════════════════╪═══════╡\n",
       "│ ETH                  ┆ 1127  │\n",
       "│ SNX                  ┆ 622   │\n",
       "│ BTC                  ┆ 565   │\n",
       "│ OP                   ┆ 350   │\n",
       "│ LINK                 ┆ 320   │\n",
       "└──────────────────────┴───────┘"
      ]
     },
     "execution_count": 10,
     "metadata": {},
     "output_type": "execute_result"
    }
   ],
   "source": [
    "polars_df.groupby('markets_marketSymbol').agg([pl.count()]).sort(by='count', descending=True)"
   ]
  }
 ],
 "metadata": {
  "kernelspec": {
   "display_name": ".venv",
   "language": "python",
   "name": "python3"
  },
  "language_info": {
   "codemirror_mode": {
    "name": "ipython",
    "version": 3
   },
   "file_extension": ".py",
   "mimetype": "text/x-python",
   "name": "python",
   "nbconvert_exporter": "python",
   "pygments_lexer": "ipython3",
   "version": "3.10.12"
  },
  "orig_nbformat": 4
 },
 "nbformat": 4,
 "nbformat_minor": 2
}
