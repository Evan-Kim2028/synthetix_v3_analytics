{
 "cells": [
  {
   "cell_type": "code",
   "execution_count": 1,
   "metadata": {},
   "outputs": [
    {
     "data": {
      "text/plain": [
       "polars.config.Config"
      ]
     },
     "execution_count": 1,
     "metadata": {},
     "output_type": "execute_result"
    }
   ],
   "source": [
    "from crypto_helpers import convert_numeric_to_ethereum_hash\n",
    "from datetime import datetime\n",
    "from synthetix_v3.base_perps import TestBasePerps\n",
    "import matplotlib.pyplot as plt\n",
    "import matplotlib.dates as mdates\n",
    "import polars as pl\n",
    "\n",
    "pl.Config.set_fmt_str_lengths(200)"
   ]
  },
  {
   "cell_type": "code",
   "execution_count": 2,
   "metadata": {},
   "outputs": [],
   "source": [
    "base_perps = TestBasePerps()"
   ]
  },
  {
   "cell_type": "code",
   "execution_count": 3,
   "metadata": {},
   "outputs": [],
   "source": [
    "# start and end blocks for the competition\n",
    "start_block = 10536192\n",
    "end_block = 11455992\n",
    "\n",
    "start_timestamp = 1696260000\n",
    "end_timestamp = 1698105600"
   ]
  },
  {
   "cell_type": "code",
   "execution_count": 4,
   "metadata": {},
   "outputs": [],
   "source": [
    "settled_orders_df = base_perps.get_settled_orders(start_block=start_block, end_block=end_block) # https://goerli.basescan.org/block/10536192 # starting block time Monday, October 2, 2023 5:00:00 PM"
   ]
  },
  {
   "cell_type": "code",
   "execution_count": 5,
   "metadata": {},
   "outputs": [],
   "source": [
    "polars_df = pl.from_pandas(settled_orders_df)"
   ]
  },
  {
   "cell_type": "code",
   "execution_count": 6,
   "metadata": {},
   "outputs": [],
   "source": [
    "cleaned_settled_orders = (polars_df.select([\n",
    "    pl.col('orderSettleds_timestamp'),\n",
    "    pl.col('markets_marketSymbol'),\n",
    "    pl.col('orderSettleds_accountId'),\n",
    "    pl.col('orderSettleds_fillPrice'),\n",
    "    pl.col('orderSettleds_accruedFunding'),\n",
    "    pl.col('orderSettleds_sizeDelta'),\n",
    "    pl.col('orderSettleds_newSize'),\n",
    "    pl.col('orderSettleds_totalFees'),\n",
    "])\n",
    ".with_columns([\n",
    "    pl.from_epoch(\"orderSettleds_timestamp\").alias(\"datetime\"),\n",
    "    (pl.col('orderSettleds_fillPrice') / 10 ** 18),\n",
    "    (pl.col('orderSettleds_sizeDelta') / 10 ** 18),\n",
    "    (pl.col('orderSettleds_accruedFunding') / 10 ** 18),\n",
    "    (pl.col('orderSettleds_newSize') / 10 ** 18),\n",
    "    (pl.col('orderSettleds_totalFees') / 10 ** 18),\n",
    "])\n",
    ".with_columns([\n",
    "    (pl.col('orderSettleds_sizeDelta').abs() * pl.col('orderSettleds_fillPrice')).alias('size_usd')\n",
    "]))"
   ]
  },
  {
   "cell_type": "code",
   "execution_count": 7,
   "metadata": {},
   "outputs": [
    {
     "data": {
      "text/html": [
       "<div><style>\n",
       ".dataframe > thead > tr > th,\n",
       ".dataframe > tbody > tr > td {\n",
       "  text-align: right;\n",
       "  white-space: pre-wrap;\n",
       "}\n",
       "</style>\n",
       "<small>shape: (5, 10)</small><table border=\"1\" class=\"dataframe\"><thead><tr><th>orderSettleds_timestamp</th><th>markets_marketSymbol</th><th>orderSettleds_accountId</th><th>orderSettleds_fillPrice</th><th>orderSettleds_accruedFunding</th><th>orderSettleds_sizeDelta</th><th>orderSettleds_newSize</th><th>orderSettleds_totalFees</th><th>datetime</th><th>size_usd</th></tr><tr><td>i64</td><td>str</td><td>f64</td><td>f64</td><td>f64</td><td>f64</td><td>f64</td><td>f64</td><td>datetime[μs]</td><td>f64</td></tr></thead><tbody><tr><td>1697020928</td><td>&quot;ETH&quot;</td><td>1.1224e9</td><td>1577.801896</td><td>-44.243833</td><td>86.997996</td><td>86.997996</td><td>68.632802</td><td>2023-10-11 10:42:08</td><td>137265.603517</td></tr><tr><td>1697023666</td><td>&quot;ETH&quot;</td><td>1.1224e9</td><td>1572.851923</td><td>-0.229878</td><td>1.0</td><td>87.997996</td><td>0.31457</td><td>2023-10-11 11:27:46</td><td>1572.851923</td></tr><tr><td>1697023732</td><td>&quot;ETH&quot;</td><td>1.1224e9</td><td>1572.968366</td><td>-0.005573</td><td>10.0</td><td>97.997996</td><td>3.145937</td><td>2023-10-11 11:28:52</td><td>15729.68366</td></tr><tr><td>1697023834</td><td>&quot;ETH&quot;</td><td>1.1224e9</td><td>1573.181377</td><td>-0.008599</td><td>-97.997996</td><td>0.0</td><td>77.084311</td><td>2023-10-11 11:30:34</td><td>154168.622772</td></tr><tr><td>1697023922</td><td>&quot;ETH&quot;</td><td>1.1224e9</td><td>1572.327512</td><td>-0.007403</td><td>3.283109</td><td>3.283109</td><td>1.032424</td><td>2023-10-11 11:32:02</td><td>5162.12198</td></tr></tbody></table></div>"
      ],
      "text/plain": [
       "shape: (5, 10)\n",
       "┌───────────┬───────────┬───────────┬───────────┬───┬───────────┬───────────┬───────────┬──────────┐\n",
       "│ orderSett ┆ markets_m ┆ orderSett ┆ orderSett ┆ … ┆ orderSett ┆ orderSett ┆ datetime  ┆ size_usd │\n",
       "│ leds_time ┆ arketSymb ┆ leds_acco ┆ leds_fill ┆   ┆ leds_newS ┆ leds_tota ┆ ---       ┆ ---      │\n",
       "│ stamp     ┆ ol        ┆ untId     ┆ Price     ┆   ┆ ize       ┆ lFees     ┆ datetime[ ┆ f64      │\n",
       "│ ---       ┆ ---       ┆ ---       ┆ ---       ┆   ┆ ---       ┆ ---       ┆ μs]       ┆          │\n",
       "│ i64       ┆ str       ┆ f64       ┆ f64       ┆   ┆ f64       ┆ f64       ┆           ┆          │\n",
       "╞═══════════╪═══════════╪═══════════╪═══════════╪═══╪═══════════╪═══════════╪═══════════╪══════════╡\n",
       "│ 169702092 ┆ ETH       ┆ 1.1224e9  ┆ 1577.8018 ┆ … ┆ 86.997996 ┆ 68.632802 ┆ 2023-10-1 ┆ 137265.6 │\n",
       "│ 8         ┆           ┆           ┆ 96        ┆   ┆           ┆           ┆ 1         ┆ 03517    │\n",
       "│           ┆           ┆           ┆           ┆   ┆           ┆           ┆ 10:42:08  ┆          │\n",
       "│ 169702366 ┆ ETH       ┆ 1.1224e9  ┆ 1572.8519 ┆ … ┆ 87.997996 ┆ 0.31457   ┆ 2023-10-1 ┆ 1572.851 │\n",
       "│ 6         ┆           ┆           ┆ 23        ┆   ┆           ┆           ┆ 1         ┆ 923      │\n",
       "│           ┆           ┆           ┆           ┆   ┆           ┆           ┆ 11:27:46  ┆          │\n",
       "│ 169702373 ┆ ETH       ┆ 1.1224e9  ┆ 1572.9683 ┆ … ┆ 97.997996 ┆ 3.145937  ┆ 2023-10-1 ┆ 15729.68 │\n",
       "│ 2         ┆           ┆           ┆ 66        ┆   ┆           ┆           ┆ 1         ┆ 366      │\n",
       "│           ┆           ┆           ┆           ┆   ┆           ┆           ┆ 11:28:52  ┆          │\n",
       "│ 169702383 ┆ ETH       ┆ 1.1224e9  ┆ 1573.1813 ┆ … ┆ 0.0       ┆ 77.084311 ┆ 2023-10-1 ┆ 154168.6 │\n",
       "│ 4         ┆           ┆           ┆ 77        ┆   ┆           ┆           ┆ 1         ┆ 22772    │\n",
       "│           ┆           ┆           ┆           ┆   ┆           ┆           ┆ 11:30:34  ┆          │\n",
       "│ 169702392 ┆ ETH       ┆ 1.1224e9  ┆ 1572.3275 ┆ … ┆ 3.283109  ┆ 1.032424  ┆ 2023-10-1 ┆ 5162.121 │\n",
       "│ 2         ┆           ┆           ┆ 12        ┆   ┆           ┆           ┆ 1         ┆ 98       │\n",
       "│           ┆           ┆           ┆           ┆   ┆           ┆           ┆ 11:32:02  ┆          │\n",
       "└───────────┴───────────┴───────────┴───────────┴───┴───────────┴───────────┴───────────┴──────────┘"
      ]
     },
     "execution_count": 7,
     "metadata": {},
     "output_type": "execute_result"
    }
   ],
   "source": [
    "cleaned_settled_orders.head(5)"
   ]
  },
  {
   "cell_type": "markdown",
   "metadata": {},
   "source": [
    "### Liquidations"
   ]
  },
  {
   "cell_type": "code",
   "execution_count": 8,
   "metadata": {},
   "outputs": [],
   "source": [
    "market_price_df = base_perps.get_market_updates()"
   ]
  },
  {
   "cell_type": "code",
   "execution_count": 9,
   "metadata": {},
   "outputs": [],
   "source": [
    "pos_liqs_df = base_perps.get_position_liquidations()"
   ]
  },
  {
   "cell_type": "code",
   "execution_count": 10,
   "metadata": {},
   "outputs": [],
   "source": [
    "position_liquidations_df = pl.from_pandas(pos_liqs_df)"
   ]
  },
  {
   "cell_type": "code",
   "execution_count": 11,
   "metadata": {},
   "outputs": [],
   "source": [
    "# normalize numbers\n",
    "market_price_polars_df = pl.from_pandas(market_price_df).with_columns([\n",
    "    pl.from_epoch('marketUpdateds_timestamp').dt.round(\"1s\").alias('datetime'),\n",
    "    pl.col('marketUpdateds_price') / 10**18,\n",
    "    pl.col('marketUpdateds_skew') / 10**18,\n",
    "    pl.col('marketUpdateds_size') / 10**18,\n",
    "    pl.col('marketUpdateds_sizeDelta') / 10**18,\n",
    "    pl.col('marketUpdateds_currentFundingRate') / 10**18,\n",
    "    pl.col('marketUpdateds_currentFundingVelocity') / 10**18\n",
    "])\n",
    "\n",
    "# normalize numbers\n",
    "position_liquidations_df = position_liquidations_df.with_columns([\n",
    "    pl.from_epoch('positionLiquidateds_timestamp').dt.round(\"1s\").alias('datetime'),\n",
    "    pl.col('positionLiquidateds_amountLiquidated') / 10**18,\n",
    "    pl.col('positionLiquidateds_currentPositionSize') / 10**18,\n",
    "    ]).filter(pl.col(\"datetime\") > datetime(2023, 10, 2))"
   ]
  },
  {
   "cell_type": "code",
   "execution_count": 12,
   "metadata": {},
   "outputs": [],
   "source": [
    "position_liquidations_usd_df = position_liquidations_df.join(market_price_polars_df, on='datetime', how='left')"
   ]
  },
  {
   "cell_type": "code",
   "execution_count": 13,
   "metadata": {},
   "outputs": [
    {
     "data": {
      "text/html": [
       "<div><style>\n",
       ".dataframe > thead > tr > th,\n",
       ".dataframe > tbody > tr > td {\n",
       "  text-align: right;\n",
       "  white-space: pre-wrap;\n",
       "}\n",
       "</style>\n",
       "<small>shape: (5, 17)</small><table border=\"1\" class=\"dataframe\"><thead><tr><th>positionLiquidateds_id</th><th>positionLiquidateds_timestamp</th><th>positionLiquidateds_accountId</th><th>markets_id</th><th>positionLiquidateds_amountLiquidated</th><th>positionLiquidateds_currentPositionSize</th><th>markets_marketSymbol</th><th>datetime</th><th>marketUpdateds_timestamp</th><th>markets_id_right</th><th>marketUpdateds_price</th><th>marketUpdateds_skew</th><th>marketUpdateds_size</th><th>marketUpdateds_sizeDelta</th><th>marketUpdateds_currentFundingRate</th><th>marketUpdateds_currentFundingVelocity</th><th>markets_marketSymbol_right</th></tr><tr><td>str</td><td>i64</td><td>f64</td><td>i64</td><td>f64</td><td>f64</td><td>str</td><td>datetime[μs]</td><td>i64</td><td>i64</td><td>f64</td><td>f64</td><td>f64</td><td>f64</td><td>f64</td><td>f64</td><td>str</td></tr></thead><tbody><tr><td>&quot;200-1843551657-11725044&quot;</td><td>1698643704</td><td>1.8436e9</td><td>200</td><td>0.116797</td><td>0.0</td><td>&quot;BTC&quot;</td><td>2023-10-30 05:28:24</td><td>1698643704</td><td>200</td><td>34249.857322</td><td>190.210797</td><td>219.100197</td><td>-0.116797</td><td>0.02038</td><td>0.001712</td><td>&quot;BTC&quot;</td></tr><tr><td>&quot;100-170141183460469231731687303715884105881-11628833&quot;</td><td>1698451282</td><td>1.7014e38</td><td>100</td><td>0.1927</td><td>0.0</td><td>&quot;ETH&quot;</td><td>2023-10-28 00:01:22</td><td>1698451282</td><td>100</td><td>1779.583065</td><td>-743.462063</td><td>1260.523078</td><td>-0.1927</td><td>0.110394</td><td>-0.006691</td><td>&quot;ETH&quot;</td></tr><tr><td>&quot;100-1-11598645&quot;</td><td>1698390906</td><td>1.0</td><td>100</td><td>0.11</td><td>0.0</td><td>&quot;ETH&quot;</td><td>2023-10-27 07:15:06</td><td>1698390906</td><td>100</td><td>1792.209981</td><td>-743.461501</td><td>1260.522516</td><td>-0.11</td><td>0.115068</td><td>-0.006691</td><td>&quot;ETH&quot;</td></tr><tr><td>&quot;100-1570425441-11570247&quot;</td><td>1698334110</td><td>1.5704e9</td><td>100</td><td>0.915089</td><td>0.0</td><td>&quot;ETH&quot;</td><td>2023-10-26 15:28:30</td><td>1698334110</td><td>100</td><td>1769.11125</td><td>-743.351501</td><td>1260.632516</td><td>-0.915089</td><td>0.119466</td><td>-0.00669</td><td>&quot;ETH&quot;</td></tr><tr><td>&quot;200-170141183460469231731687303715884105780-11568784&quot;</td><td>1698331184</td><td>1.7014e38</td><td>200</td><td>300.0</td><td>0.0</td><td>&quot;BTC&quot;</td><td>2023-10-26 14:39:44</td><td>1698331184</td><td>200</td><td>33907.75</td><td>190.210737</td><td>219.100137</td><td>-300.0</td><td>0.014185</td><td>0.001712</td><td>&quot;BTC&quot;</td></tr></tbody></table></div>"
      ],
      "text/plain": [
       "shape: (5, 17)\n",
       "┌───────────┬───────────┬───────────┬───────────┬───┬───────────┬───────────┬───────────┬──────────┐\n",
       "│ positionL ┆ positionL ┆ positionL ┆ markets_i ┆ … ┆ marketUpd ┆ marketUpd ┆ marketUpd ┆ markets_ │\n",
       "│ iquidated ┆ iquidated ┆ iquidated ┆ d         ┆   ┆ ateds_siz ┆ ateds_cur ┆ ateds_cur ┆ marketSy │\n",
       "│ s_id      ┆ s_timesta ┆ s_account ┆ ---       ┆   ┆ eDelta    ┆ rentFundi ┆ rentFundi ┆ mbol_rig │\n",
       "│ ---       ┆ mp        ┆ Id        ┆ i64       ┆   ┆ ---       ┆ ngRate    ┆ ngVelocit ┆ ht       │\n",
       "│ str       ┆ ---       ┆ ---       ┆           ┆   ┆ f64       ┆ ---       ┆ y         ┆ ---      │\n",
       "│           ┆ i64       ┆ f64       ┆           ┆   ┆           ┆ f64       ┆ ---       ┆ str      │\n",
       "│           ┆           ┆           ┆           ┆   ┆           ┆           ┆ f64       ┆          │\n",
       "╞═══════════╪═══════════╪═══════════╪═══════════╪═══╪═══════════╪═══════════╪═══════════╪══════════╡\n",
       "│ 200-18435 ┆ 169864370 ┆ 1.8436e9  ┆ 200       ┆ … ┆ -0.116797 ┆ 0.02038   ┆ 0.001712  ┆ BTC      │\n",
       "│ 51657-117 ┆ 4         ┆           ┆           ┆   ┆           ┆           ┆           ┆          │\n",
       "│ 25044     ┆           ┆           ┆           ┆   ┆           ┆           ┆           ┆          │\n",
       "│ 100-17014 ┆ 169845128 ┆ 1.7014e38 ┆ 100       ┆ … ┆ -0.1927   ┆ 0.110394  ┆ -0.006691 ┆ ETH      │\n",
       "│ 118346046 ┆ 2         ┆           ┆           ┆   ┆           ┆           ┆           ┆          │\n",
       "│ 923173168 ┆           ┆           ┆           ┆   ┆           ┆           ┆           ┆          │\n",
       "│ 730371588 ┆           ┆           ┆           ┆   ┆           ┆           ┆           ┆          │\n",
       "│ 4105881-1 ┆           ┆           ┆           ┆   ┆           ┆           ┆           ┆          │\n",
       "│ 1628833   ┆           ┆           ┆           ┆   ┆           ┆           ┆           ┆          │\n",
       "│ 100-1-115 ┆ 169839090 ┆ 1.0       ┆ 100       ┆ … ┆ -0.11     ┆ 0.115068  ┆ -0.006691 ┆ ETH      │\n",
       "│ 98645     ┆ 6         ┆           ┆           ┆   ┆           ┆           ┆           ┆          │\n",
       "│ 100-15704 ┆ 169833411 ┆ 1.5704e9  ┆ 100       ┆ … ┆ -0.915089 ┆ 0.119466  ┆ -0.00669  ┆ ETH      │\n",
       "│ 25441-115 ┆ 0         ┆           ┆           ┆   ┆           ┆           ┆           ┆          │\n",
       "│ 70247     ┆           ┆           ┆           ┆   ┆           ┆           ┆           ┆          │\n",
       "│ 200-17014 ┆ 169833118 ┆ 1.7014e38 ┆ 200       ┆ … ┆ -300.0    ┆ 0.014185  ┆ 0.001712  ┆ BTC      │\n",
       "│ 118346046 ┆ 4         ┆           ┆           ┆   ┆           ┆           ┆           ┆          │\n",
       "│ 923173168 ┆           ┆           ┆           ┆   ┆           ┆           ┆           ┆          │\n",
       "│ 730371588 ┆           ┆           ┆           ┆   ┆           ┆           ┆           ┆          │\n",
       "│ 4105780-1 ┆           ┆           ┆           ┆   ┆           ┆           ┆           ┆          │\n",
       "│ 1568784   ┆           ┆           ┆           ┆   ┆           ┆           ┆           ┆          │\n",
       "└───────────┴───────────┴───────────┴───────────┴───┴───────────┴───────────┴───────────┴──────────┘"
      ]
     },
     "execution_count": 13,
     "metadata": {},
     "output_type": "execute_result"
    }
   ],
   "source": [
    "position_liquidations_usd_df.head(5)"
   ]
  },
  {
   "cell_type": "code",
   "execution_count": 14,
   "metadata": {},
   "outputs": [
    {
     "data": {
      "text/plain": [
       "['positionLiquidateds_id',\n",
       " 'positionLiquidateds_timestamp',\n",
       " 'positionLiquidateds_accountId',\n",
       " 'markets_id',\n",
       " 'positionLiquidateds_amountLiquidated',\n",
       " 'positionLiquidateds_currentPositionSize',\n",
       " 'markets_marketSymbol',\n",
       " 'datetime',\n",
       " 'marketUpdateds_timestamp',\n",
       " 'markets_id_right',\n",
       " 'marketUpdateds_price',\n",
       " 'marketUpdateds_skew',\n",
       " 'marketUpdateds_size',\n",
       " 'marketUpdateds_sizeDelta',\n",
       " 'marketUpdateds_currentFundingRate',\n",
       " 'marketUpdateds_currentFundingVelocity',\n",
       " 'markets_marketSymbol_right']"
      ]
     },
     "execution_count": 14,
     "metadata": {},
     "output_type": "execute_result"
    }
   ],
   "source": [
    "position_liquidations_usd_df.columns"
   ]
  },
  {
   "cell_type": "code",
   "execution_count": 15,
   "metadata": {},
   "outputs": [
    {
     "data": {
      "text/plain": [
       "['orderSettleds_timestamp',\n",
       " 'markets_marketSymbol',\n",
       " 'orderSettleds_accountId',\n",
       " 'orderSettleds_fillPrice',\n",
       " 'orderSettleds_accruedFunding',\n",
       " 'orderSettleds_sizeDelta',\n",
       " 'orderSettleds_newSize',\n",
       " 'orderSettleds_totalFees',\n",
       " 'datetime',\n",
       " 'size_usd']"
      ]
     },
     "execution_count": 15,
     "metadata": {},
     "output_type": "execute_result"
    }
   ],
   "source": [
    "cleaned_settled_orders.columns"
   ]
  },
  {
   "cell_type": "code",
   "execution_count": 16,
   "metadata": {},
   "outputs": [],
   "source": [
    "# rename columns for concatting\n",
    "position_liq_final = position_liquidations_usd_df.rename({\n",
    "    'positionLiquidateds_accountId': 'accountId', \n",
    "    'markets_marketSymbol_right': 'marketSymbol',\n",
    "    'positionLiquidateds_amountLiquidated': 'size_delta',\n",
    "    'positionLiquidateds_currentPositionSize': 'size',\n",
    "    'marketUpdateds_price': 'price'\n",
    "     }).with_columns([\n",
    "    pl.lit(True).alias('liquidation')\n",
    "]).select('datetime', 'accountId', 'marketSymbol', 'size_delta', 'size', 'price', 'liquidation')\n",
    "\n",
    "settled_order_final = cleaned_settled_orders.rename({\n",
    "    'orderSettleds_accountId': 'accountId', \n",
    "    'markets_marketSymbol': 'marketSymbol',\n",
    "    'orderSettleds_sizeDelta': 'size_delta',\n",
    "    'orderSettleds_newSize': 'size',\n",
    "    'orderSettleds_fillPrice': 'price',\n",
    "     }).with_columns([\n",
    "    pl.lit(False).alias('liquidation')]).select('datetime', 'accountId', 'marketSymbol', 'size_delta', 'size', 'price', 'liquidation')"
   ]
  },
  {
   "cell_type": "code",
   "execution_count": 17,
   "metadata": {},
   "outputs": [
    {
     "name": "stdout",
     "output_type": "stream",
     "text": [
      "30\n",
      "49\n"
     ]
    }
   ],
   "source": [
    "# get the overlap between unique accuonts\n",
    "unique_liq_accts = position_liq_final['accountId'].unique().to_list()\n",
    "unique_orders_accts = settled_order_final['accountId'].unique().to_list()\n",
    "\n",
    "print(len(set(unique_liq_accts)))\n",
    "print(len(set(unique_orders_accts)))"
   ]
  },
  {
   "cell_type": "code",
   "execution_count": 18,
   "metadata": {},
   "outputs": [
    {
     "name": "stdout",
     "output_type": "stream",
     "text": [
      "4\n"
     ]
    }
   ],
   "source": [
    "# are there liquidation accounts that are not in unique order accts?\n",
    "print(len(set(unique_liq_accts) - set(unique_orders_accts)))\n"
   ]
  },
  {
   "cell_type": "markdown",
   "metadata": {},
   "source": [
    "### Concat data and analyze results"
   ]
  },
  {
   "cell_type": "code",
   "execution_count": 19,
   "metadata": {},
   "outputs": [],
   "source": [
    "concat_df = pl.concat([position_liq_final, settled_order_final])"
   ]
  },
  {
   "cell_type": "code",
   "execution_count": 21,
   "metadata": {},
   "outputs": [
    {
     "ename": "ColumnNotFoundError",
     "evalue": "orderSettleds_accountId\n\nError originated just after this operation:\nDF [\"datetime\", \"accountId\", \"marketSymbol\", \"size_delta\"]; PROJECT */7 COLUMNS; SELECTION: \"None\"",
     "output_type": "error",
     "traceback": [
      "\u001b[0;31m---------------------------------------------------------------------------\u001b[0m",
      "\u001b[0;31mColumnNotFoundError\u001b[0m                       Traceback (most recent call last)",
      "\u001b[1;32m/home/evan/Documents/github/synthetix_v3/notebooks/get_active_positions.ipynb Cell 24\u001b[0m line \u001b[0;36m1\n\u001b[0;32m----> <a href='vscode-notebook-cell:/home/evan/Documents/github/synthetix_v3/notebooks/get_active_positions.ipynb#X51sZmlsZQ%3D%3D?line=0'>1</a>\u001b[0m concat_df \u001b[39m=\u001b[39m concat_df\u001b[39m.\u001b[39;49mwith_columns(\n\u001b[1;32m      <a href='vscode-notebook-cell:/home/evan/Documents/github/synthetix_v3/notebooks/get_active_positions.ipynb#X51sZmlsZQ%3D%3D?line=1'>2</a>\u001b[0m         pl\u001b[39m.\u001b[39;49mcol(\u001b[39m\"\u001b[39;49m\u001b[39morderSettleds_accountId\u001b[39;49m\u001b[39m\"\u001b[39;49m)\u001b[39m.\u001b[39;49mmap_elements(\u001b[39mlambda\u001b[39;49;00m val: convert_numeric_to_ethereum_hash(val), return_dtype\u001b[39m=\u001b[39;49m\u001b[39mstr\u001b[39;49m),\n\u001b[1;32m      <a href='vscode-notebook-cell:/home/evan/Documents/github/synthetix_v3/notebooks/get_active_positions.ipynb#X51sZmlsZQ%3D%3D?line=2'>3</a>\u001b[0m     )\n",
      "File \u001b[0;32m~/Documents/github/synthetix_v3/.venv/lib/python3.10/site-packages/polars/dataframe/frame.py:7903\u001b[0m, in \u001b[0;36mDataFrame.with_columns\u001b[0;34m(self, *exprs, **named_exprs)\u001b[0m\n\u001b[1;32m   7755\u001b[0m \u001b[39mdef\u001b[39;00m \u001b[39mwith_columns\u001b[39m(\n\u001b[1;32m   7756\u001b[0m     \u001b[39mself\u001b[39m,\n\u001b[1;32m   7757\u001b[0m     \u001b[39m*\u001b[39mexprs: IntoExpr \u001b[39m|\u001b[39m Iterable[IntoExpr],\n\u001b[1;32m   7758\u001b[0m     \u001b[39m*\u001b[39m\u001b[39m*\u001b[39mnamed_exprs: IntoExpr,\n\u001b[1;32m   7759\u001b[0m ) \u001b[39m-\u001b[39m\u001b[39m>\u001b[39m DataFrame:\n\u001b[1;32m   7760\u001b[0m \u001b[39m    \u001b[39m\u001b[39m\"\"\"\u001b[39;00m\n\u001b[1;32m   7761\u001b[0m \u001b[39m    Add columns to this DataFrame.\u001b[39;00m\n\u001b[1;32m   7762\u001b[0m \n\u001b[0;32m   (...)\u001b[0m\n\u001b[1;32m   7901\u001b[0m \n\u001b[1;32m   7902\u001b[0m \u001b[39m    \"\"\"\u001b[39;00m\n\u001b[0;32m-> 7903\u001b[0m     \u001b[39mreturn\u001b[39;00m \u001b[39mself\u001b[39;49m\u001b[39m.\u001b[39;49mlazy()\u001b[39m.\u001b[39;49mwith_columns(\u001b[39m*\u001b[39;49mexprs, \u001b[39m*\u001b[39;49m\u001b[39m*\u001b[39;49mnamed_exprs)\u001b[39m.\u001b[39;49mcollect(eager\u001b[39m=\u001b[39;49m\u001b[39mTrue\u001b[39;49;00m)\n",
      "File \u001b[0;32m~/Documents/github/synthetix_v3/.venv/lib/python3.10/site-packages/polars/utils/deprecation.py:95\u001b[0m, in \u001b[0;36mdeprecate_renamed_parameter.<locals>.decorate.<locals>.wrapper\u001b[0;34m(*args, **kwargs)\u001b[0m\n\u001b[1;32m     90\u001b[0m \u001b[39m@wraps\u001b[39m(function)\n\u001b[1;32m     91\u001b[0m \u001b[39mdef\u001b[39;00m \u001b[39mwrapper\u001b[39m(\u001b[39m*\u001b[39margs: P\u001b[39m.\u001b[39margs, \u001b[39m*\u001b[39m\u001b[39m*\u001b[39mkwargs: P\u001b[39m.\u001b[39mkwargs) \u001b[39m-\u001b[39m\u001b[39m>\u001b[39m T:\n\u001b[1;32m     92\u001b[0m     _rename_keyword_argument(\n\u001b[1;32m     93\u001b[0m         old_name, new_name, kwargs, function\u001b[39m.\u001b[39m\u001b[39m__name__\u001b[39m, version\n\u001b[1;32m     94\u001b[0m     )\n\u001b[0;32m---> 95\u001b[0m     \u001b[39mreturn\u001b[39;00m function(\u001b[39m*\u001b[39;49margs, \u001b[39m*\u001b[39;49m\u001b[39m*\u001b[39;49mkwargs)\n",
      "File \u001b[0;32m~/Documents/github/synthetix_v3/.venv/lib/python3.10/site-packages/polars/lazyframe/frame.py:1713\u001b[0m, in \u001b[0;36mLazyFrame.collect\u001b[0;34m(self, type_coercion, predicate_pushdown, projection_pushdown, simplify_expression, no_optimization, slice_pushdown, comm_subplan_elim, comm_subexpr_elim, streaming, **kwargs)\u001b[0m\n\u001b[1;32m   1700\u001b[0m     comm_subplan_elim \u001b[39m=\u001b[39m \u001b[39mFalse\u001b[39;00m\n\u001b[1;32m   1702\u001b[0m ldf \u001b[39m=\u001b[39m \u001b[39mself\u001b[39m\u001b[39m.\u001b[39m_ldf\u001b[39m.\u001b[39moptimization_toggle(\n\u001b[1;32m   1703\u001b[0m     type_coercion,\n\u001b[1;32m   1704\u001b[0m     predicate_pushdown,\n\u001b[0;32m   (...)\u001b[0m\n\u001b[1;32m   1711\u001b[0m     eager,\n\u001b[1;32m   1712\u001b[0m )\n\u001b[0;32m-> 1713\u001b[0m \u001b[39mreturn\u001b[39;00m wrap_df(ldf\u001b[39m.\u001b[39;49mcollect())\n",
      "\u001b[0;31mColumnNotFoundError\u001b[0m: orderSettleds_accountId\n\nError originated just after this operation:\nDF [\"datetime\", \"accountId\", \"marketSymbol\", \"size_delta\"]; PROJECT */7 COLUMNS; SELECTION: \"None\""
     ]
    }
   ],
   "source": [
    "concat_df = concat_df.with_columns(\n",
    "        pl.col(\"accountId\").map_elements(lambda val: convert_numeric_to_ethereum_hash(val), return_dtype=str),\n",
    "    )"
   ]
  },
  {
   "cell_type": "code",
   "execution_count": null,
   "metadata": {},
   "outputs": [
    {
     "data": {
      "text/plain": [
       "(385, 7)"
      ]
     },
     "execution_count": 21,
     "metadata": {},
     "output_type": "execute_result"
    }
   ],
   "source": [
    "concat_df.filter(pl.col('liquidation') == True).shape"
   ]
  },
  {
   "cell_type": "code",
   "execution_count": null,
   "metadata": {},
   "outputs": [
    {
     "data": {
      "text/plain": [
       "(2168, 7)"
      ]
     },
     "execution_count": 22,
     "metadata": {},
     "output_type": "execute_result"
    }
   ],
   "source": [
    "concat_df.filter(pl.col('liquidation') == False).shape"
   ]
  },
  {
   "cell_type": "code",
   "execution_count": null,
   "metadata": {},
   "outputs": [],
   "source": [
    "filtered_acct = concat_df['accountId'][0]"
   ]
  },
  {
   "cell_type": "code",
   "execution_count": null,
   "metadata": {},
   "outputs": [
    {
     "name": "stdout",
     "output_type": "stream",
     "text": [
      "170141183460469231731687303715884105728\n"
     ]
    }
   ],
   "source": [
    "expanded_number = f'{filtered_acct:.0f}'\n",
    "print(expanded_number)"
   ]
  },
  {
   "cell_type": "code",
   "execution_count": null,
   "metadata": {},
   "outputs": [
    {
     "data": {
      "text/html": [
       "<div><style>\n",
       ".dataframe > thead > tr > th,\n",
       ".dataframe > tbody > tr > td {\n",
       "  text-align: right;\n",
       "  white-space: pre-wrap;\n",
       "}\n",
       "</style>\n",
       "<small>shape: (488, 7)</small><table border=\"1\" class=\"dataframe\"><thead><tr><th>datetime</th><th>accountId</th><th>marketSymbol</th><th>size_delta</th><th>size</th><th>price</th><th>liquidation</th></tr><tr><td>datetime[μs]</td><td>f64</td><td>str</td><td>f64</td><td>f64</td><td>f64</td><td>bool</td></tr></thead><tbody><tr><td>2023-10-02 17:13:58</td><td>1.7014e38</td><td>&quot;ETH&quot;</td><td>1.1885</td><td>1.1885</td><td>1682.513104</td><td>false</td></tr><tr><td>2023-10-02 17:22:50</td><td>1.7014e38</td><td>&quot;ETH&quot;</td><td>95.773</td><td>95.773</td><td>1685.827036</td><td>false</td></tr><tr><td>2023-10-02 18:05:04</td><td>1.7014e38</td><td>&quot;ETH&quot;</td><td>0.7604</td><td>1.6502</td><td>1689.579753</td><td>false</td></tr><tr><td>2023-10-02 18:08:06</td><td>1.7014e38</td><td>&quot;ETH&quot;</td><td>97.1794</td><td>97.1794</td><td>1689.177899</td><td>false</td></tr><tr><td>2023-10-02 18:22:50</td><td>1.7014e38</td><td>&quot;ETH&quot;</td><td>-1972.852</td><td>-1972.852</td><td>1688.204523</td><td>false</td></tr><tr><td>2023-10-02 18:33:26</td><td>1.7014e38</td><td>&quot;ETH&quot;</td><td>-1977.15</td><td>-1977.15</td><td>1681.537133</td><td>false</td></tr><tr><td>2023-10-02 18:40:28</td><td>1.7014e38</td><td>&quot;ETH&quot;</td><td>1977.15</td><td>0.0</td><td>1649.027979</td><td>false</td></tr><tr><td>2023-10-02 18:49:24</td><td>1.7014e38</td><td>&quot;ETH&quot;</td><td>-1205.5381</td><td>-3178.3901</td><td>1656.602598</td><td>false</td></tr><tr><td>2023-10-02 19:05:58</td><td>1.7014e38</td><td>&quot;ETH&quot;</td><td>604.4067</td><td>604.4067</td><td>1647.529609</td><td>false</td></tr><tr><td>2023-10-02 19:17:54</td><td>1.7014e38</td><td>&quot;ETH&quot;</td><td>-604.4067</td><td>0.0</td><td>1658.157953</td><td>false</td></tr><tr><td>2023-10-02 19:25:42</td><td>1.7014e38</td><td>&quot;ETH&quot;</td><td>1.0</td><td>1.0</td><td>1659.984253</td><td>false</td></tr><tr><td>2023-10-02 19:26:38</td><td>1.7014e38</td><td>&quot;ETH&quot;</td><td>99.0</td><td>100.0</td><td>1661.661264</td><td>false</td></tr><tr><td>&hellip;</td><td>&hellip;</td><td>&hellip;</td><td>&hellip;</td><td>&hellip;</td><td>&hellip;</td><td>&hellip;</td></tr><tr><td>2023-10-20 05:34:12</td><td>1.7014e38</td><td>&quot;ETH&quot;</td><td>-639.8766</td><td>0.0</td><td>1587.006112</td><td>false</td></tr><tr><td>2023-10-20 07:05:54</td><td>1.7014e38</td><td>&quot;ETH&quot;</td><td>-946.7614</td><td>-946.7614</td><td>1589.34842</td><td>false</td></tr><tr><td>2023-10-20 08:13:54</td><td>1.7014e38</td><td>&quot;ETH&quot;</td><td>-2209.2858</td><td>-2209.2858</td><td>1592.012076</td><td>false</td></tr><tr><td>2023-10-20 08:17:12</td><td>1.7014e38</td><td>&quot;ETH&quot;</td><td>-638.7895</td><td>0.0</td><td>1591.136747</td><td>false</td></tr><tr><td>2023-10-20 08:55:38</td><td>1.7014e38</td><td>&quot;ETH&quot;</td><td>-1552.9103</td><td>-2499.6717</td><td>1611.78725</td><td>false</td></tr><tr><td>2023-10-20 09:57:42</td><td>1.7014e38</td><td>&quot;ETH&quot;</td><td>308.9051</td><td>308.9051</td><td>1615.990389</td><td>false</td></tr><tr><td>2023-10-20 10:54:04</td><td>1.7014e38</td><td>&quot;ETH&quot;</td><td>-308.9051</td><td>0.0</td><td>1619.331493</td><td>false</td></tr><tr><td>2023-10-20 11:27:08</td><td>1.7014e38</td><td>&quot;ETH&quot;</td><td>-2.058</td><td>-2.058</td><td>1620.019083</td><td>false</td></tr><tr><td>2023-10-20 11:28:04</td><td>1.7014e38</td><td>&quot;ETH&quot;</td><td>-2059.0</td><td>-2061.058</td><td>1617.960681</td><td>false</td></tr><tr><td>2023-10-20 12:13:46</td><td>1.7014e38</td><td>&quot;ETH&quot;</td><td>618.366</td><td>618.366</td><td>1613.527087</td><td>false</td></tr><tr><td>2023-10-20 16:05:34</td><td>1.7014e38</td><td>&quot;ETH&quot;</td><td>622.3908</td><td>622.3908</td><td>1605.855257</td><td>false</td></tr><tr><td>2023-10-20 19:22:04</td><td>1.7014e38</td><td>&quot;ETH&quot;</td><td>1116.7678</td><td>1116.7678</td><td>1607.532675</td><td>false</td></tr></tbody></table></div>"
      ],
      "text/plain": [
       "shape: (488, 7)\n",
       "┌──────────────┬───────────┬──────────────┬────────────┬───────────┬─────────────┬─────────────┐\n",
       "│ datetime     ┆ accountId ┆ marketSymbol ┆ size_delta ┆ size      ┆ price       ┆ liquidation │\n",
       "│ ---          ┆ ---       ┆ ---          ┆ ---        ┆ ---       ┆ ---         ┆ ---         │\n",
       "│ datetime[μs] ┆ f64       ┆ str          ┆ f64        ┆ f64       ┆ f64         ┆ bool        │\n",
       "╞══════════════╪═══════════╪══════════════╪════════════╪═══════════╪═════════════╪═════════════╡\n",
       "│ 2023-10-02   ┆ 1.7014e38 ┆ ETH          ┆ 1.1885     ┆ 1.1885    ┆ 1682.513104 ┆ false       │\n",
       "│ 17:13:58     ┆           ┆              ┆            ┆           ┆             ┆             │\n",
       "│ 2023-10-02   ┆ 1.7014e38 ┆ ETH          ┆ 95.773     ┆ 95.773    ┆ 1685.827036 ┆ false       │\n",
       "│ 17:22:50     ┆           ┆              ┆            ┆           ┆             ┆             │\n",
       "│ 2023-10-02   ┆ 1.7014e38 ┆ ETH          ┆ 0.7604     ┆ 1.6502    ┆ 1689.579753 ┆ false       │\n",
       "│ 18:05:04     ┆           ┆              ┆            ┆           ┆             ┆             │\n",
       "│ 2023-10-02   ┆ 1.7014e38 ┆ ETH          ┆ 97.1794    ┆ 97.1794   ┆ 1689.177899 ┆ false       │\n",
       "│ 18:08:06     ┆           ┆              ┆            ┆           ┆             ┆             │\n",
       "│ …            ┆ …         ┆ …            ┆ …          ┆ …         ┆ …           ┆ …           │\n",
       "│ 2023-10-20   ┆ 1.7014e38 ┆ ETH          ┆ -2059.0    ┆ -2061.058 ┆ 1617.960681 ┆ false       │\n",
       "│ 11:28:04     ┆           ┆              ┆            ┆           ┆             ┆             │\n",
       "│ 2023-10-20   ┆ 1.7014e38 ┆ ETH          ┆ 618.366    ┆ 618.366   ┆ 1613.527087 ┆ false       │\n",
       "│ 12:13:46     ┆           ┆              ┆            ┆           ┆             ┆             │\n",
       "│ 2023-10-20   ┆ 1.7014e38 ┆ ETH          ┆ 622.3908   ┆ 622.3908  ┆ 1605.855257 ┆ false       │\n",
       "│ 16:05:34     ┆           ┆              ┆            ┆           ┆             ┆             │\n",
       "│ 2023-10-20   ┆ 1.7014e38 ┆ ETH          ┆ 1116.7678  ┆ 1116.7678 ┆ 1607.532675 ┆ false       │\n",
       "│ 19:22:04     ┆           ┆              ┆            ┆           ┆             ┆             │\n",
       "└──────────────┴───────────┴──────────────┴────────────┴───────────┴─────────────┴─────────────┘"
      ]
     },
     "execution_count": 34,
     "metadata": {},
     "output_type": "execute_result"
    }
   ],
   "source": [
    "settled_order_final.filter(pl.col('accountId') == filtered_acct).filter(pl.col('marketSymbol') == 'ETH').sort(by='datetime', descending=False)"
   ]
  },
  {
   "cell_type": "code",
   "execution_count": null,
   "metadata": {},
   "outputs": [
    {
     "data": {
      "text/html": [
       "<div><style>\n",
       ".dataframe > thead > tr > th,\n",
       ".dataframe > tbody > tr > td {\n",
       "  text-align: right;\n",
       "  white-space: pre-wrap;\n",
       "}\n",
       "</style>\n",
       "<small>shape: (20, 7)</small><table border=\"1\" class=\"dataframe\"><thead><tr><th>datetime</th><th>accountId</th><th>marketSymbol</th><th>size_delta</th><th>size</th><th>price</th><th>liquidation</th></tr><tr><td>datetime[μs]</td><td>f64</td><td>str</td><td>f64</td><td>f64</td><td>f64</td><td>bool</td></tr></thead><tbody><tr><td>2023-10-19 20:59:28</td><td>1.7014e38</td><td>&quot;ETH&quot;</td><td>319.217</td><td>638.7895</td><td>1561.342991</td><td>false</td></tr><tr><td>2023-10-20 01:12:50</td><td>1.7014e38</td><td>&quot;ETH&quot;</td><td>639.8766</td><td>639.8766</td><td>1558.391228</td><td>false</td></tr><tr><td>2023-10-20 02:33:12</td><td>1.7014e38</td><td>&quot;ETH&quot;</td><td>6499.9063</td><td>0.0</td><td>1579.435588</td><td>false</td></tr><tr><td>2023-10-20 05:34:12</td><td>1.7014e38</td><td>&quot;ETH&quot;</td><td>-639.8766</td><td>0.0</td><td>1587.006112</td><td>false</td></tr><tr><td>2023-10-20 07:05:54</td><td>1.7014e38</td><td>&quot;ETH&quot;</td><td>-946.7614</td><td>-946.7614</td><td>1589.34842</td><td>false</td></tr><tr><td>2023-10-20 08:13:54</td><td>1.7014e38</td><td>&quot;ETH&quot;</td><td>-2209.2858</td><td>-2209.2858</td><td>1592.012076</td><td>false</td></tr><tr><td>2023-10-20 08:17:12</td><td>1.7014e38</td><td>&quot;ETH&quot;</td><td>-638.7895</td><td>0.0</td><td>1591.136747</td><td>false</td></tr><tr><td>2023-10-20 08:55:38</td><td>1.7014e38</td><td>&quot;ETH&quot;</td><td>-1552.9103</td><td>-2499.6717</td><td>1611.78725</td><td>false</td></tr><tr><td>2023-10-20 09:57:42</td><td>1.7014e38</td><td>&quot;ETH&quot;</td><td>308.9051</td><td>308.9051</td><td>1615.990389</td><td>false</td></tr><tr><td>2023-10-20 10:40:44</td><td>1.7014e38</td><td>&quot;ETH&quot;</td><td>145.6077</td><td>0.0</td><td>1629.715159</td><td>true</td></tr><tr><td>2023-10-20 10:40:44</td><td>1.7014e38</td><td>&quot;ETH&quot;</td><td>699.993</td><td>-1509.2928</td><td>1629.715159</td><td>true</td></tr><tr><td>2023-10-20 10:41:02</td><td>1.7014e38</td><td>&quot;ETH&quot;</td><td>699.993</td><td>-809.2998</td><td>1629.715159</td><td>true</td></tr><tr><td>2023-10-20 10:41:26</td><td>1.7014e38</td><td>&quot;ETH&quot;</td><td>699.993</td><td>-109.3068</td><td>1624.86338</td><td>true</td></tr><tr><td>2023-10-20 10:41:42</td><td>1.7014e38</td><td>&quot;ETH&quot;</td><td>109.3068</td><td>0.0</td><td>1624.86338</td><td>true</td></tr><tr><td>2023-10-20 10:54:04</td><td>1.7014e38</td><td>&quot;ETH&quot;</td><td>-308.9051</td><td>0.0</td><td>1619.331493</td><td>false</td></tr><tr><td>2023-10-20 11:27:08</td><td>1.7014e38</td><td>&quot;ETH&quot;</td><td>-2.058</td><td>-2.058</td><td>1620.019083</td><td>false</td></tr><tr><td>2023-10-20 11:28:04</td><td>1.7014e38</td><td>&quot;ETH&quot;</td><td>-2059.0</td><td>-2061.058</td><td>1617.960681</td><td>false</td></tr><tr><td>2023-10-20 12:13:46</td><td>1.7014e38</td><td>&quot;ETH&quot;</td><td>618.366</td><td>618.366</td><td>1613.527087</td><td>false</td></tr><tr><td>2023-10-20 16:05:34</td><td>1.7014e38</td><td>&quot;ETH&quot;</td><td>622.3908</td><td>622.3908</td><td>1605.855257</td><td>false</td></tr><tr><td>2023-10-20 19:22:04</td><td>1.7014e38</td><td>&quot;ETH&quot;</td><td>1116.7678</td><td>1116.7678</td><td>1607.532675</td><td>false</td></tr></tbody></table></div>"
      ],
      "text/plain": [
       "shape: (20, 7)\n",
       "┌──────────────┬───────────┬──────────────┬────────────┬───────────┬─────────────┬─────────────┐\n",
       "│ datetime     ┆ accountId ┆ marketSymbol ┆ size_delta ┆ size      ┆ price       ┆ liquidation │\n",
       "│ ---          ┆ ---       ┆ ---          ┆ ---        ┆ ---       ┆ ---         ┆ ---         │\n",
       "│ datetime[μs] ┆ f64       ┆ str          ┆ f64        ┆ f64       ┆ f64         ┆ bool        │\n",
       "╞══════════════╪═══════════╪══════════════╪════════════╪═══════════╪═════════════╪═════════════╡\n",
       "│ 2023-10-19   ┆ 1.7014e38 ┆ ETH          ┆ 319.217    ┆ 638.7895  ┆ 1561.342991 ┆ false       │\n",
       "│ 20:59:28     ┆           ┆              ┆            ┆           ┆             ┆             │\n",
       "│ 2023-10-20   ┆ 1.7014e38 ┆ ETH          ┆ 639.8766   ┆ 639.8766  ┆ 1558.391228 ┆ false       │\n",
       "│ 01:12:50     ┆           ┆              ┆            ┆           ┆             ┆             │\n",
       "│ 2023-10-20   ┆ 1.7014e38 ┆ ETH          ┆ 6499.9063  ┆ 0.0       ┆ 1579.435588 ┆ false       │\n",
       "│ 02:33:12     ┆           ┆              ┆            ┆           ┆             ┆             │\n",
       "│ 2023-10-20   ┆ 1.7014e38 ┆ ETH          ┆ -639.8766  ┆ 0.0       ┆ 1587.006112 ┆ false       │\n",
       "│ 05:34:12     ┆           ┆              ┆            ┆           ┆             ┆             │\n",
       "│ …            ┆ …         ┆ …            ┆ …          ┆ …         ┆ …           ┆ …           │\n",
       "│ 2023-10-20   ┆ 1.7014e38 ┆ ETH          ┆ -2059.0    ┆ -2061.058 ┆ 1617.960681 ┆ false       │\n",
       "│ 11:28:04     ┆           ┆              ┆            ┆           ┆             ┆             │\n",
       "│ 2023-10-20   ┆ 1.7014e38 ┆ ETH          ┆ 618.366    ┆ 618.366   ┆ 1613.527087 ┆ false       │\n",
       "│ 12:13:46     ┆           ┆              ┆            ┆           ┆             ┆             │\n",
       "│ 2023-10-20   ┆ 1.7014e38 ┆ ETH          ┆ 622.3908   ┆ 622.3908  ┆ 1605.855257 ┆ false       │\n",
       "│ 16:05:34     ┆           ┆              ┆            ┆           ┆             ┆             │\n",
       "│ 2023-10-20   ┆ 1.7014e38 ┆ ETH          ┆ 1116.7678  ┆ 1116.7678 ┆ 1607.532675 ┆ false       │\n",
       "│ 19:22:04     ┆           ┆              ┆            ┆           ┆             ┆             │\n",
       "└──────────────┴───────────┴──────────────┴────────────┴───────────┴─────────────┴─────────────┘"
      ]
     },
     "execution_count": 36,
     "metadata": {},
     "output_type": "execute_result"
    }
   ],
   "source": [
    "concat_df.filter(pl.col('accountId') == filtered_acct).filter(pl.col('marketSymbol') == 'ETH').sort(by='datetime', descending=False).tail(20)"
   ]
  },
  {
   "cell_type": "code",
   "execution_count": null,
   "metadata": {},
   "outputs": [],
   "source": []
  }
 ],
 "metadata": {
  "kernelspec": {
   "display_name": ".venv",
   "language": "python",
   "name": "python3"
  },
  "language_info": {
   "codemirror_mode": {
    "name": "ipython",
    "version": 3
   },
   "file_extension": ".py",
   "mimetype": "text/x-python",
   "name": "python",
   "nbconvert_exporter": "python",
   "pygments_lexer": "ipython3",
   "version": "3.10.12"
  },
  "orig_nbformat": 4
 },
 "nbformat": 4,
 "nbformat_minor": 2
}
