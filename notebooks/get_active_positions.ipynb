{
 "cells": [
  {
   "cell_type": "code",
   "execution_count": 1,
   "metadata": {},
   "outputs": [
    {
     "data": {
      "text/plain": [
       "polars.config.Config"
      ]
     },
     "execution_count": 1,
     "metadata": {},
     "output_type": "execute_result"
    }
   ],
   "source": [
    "from datetime import datetime\n",
    "from synthetix_v3.base_perps import TestBasePerps\n",
    "import matplotlib.pyplot as plt\n",
    "import matplotlib.dates as mdates\n",
    "import pandas as pd\n",
    "import polars as pl\n",
    "\n",
    "import seaborn as sns\n",
    "pl.Config.set_fmt_str_lengths(200)"
   ]
  },
  {
   "cell_type": "code",
   "execution_count": 2,
   "metadata": {},
   "outputs": [],
   "source": [
    "# combination of active positions and account liquidations?"
   ]
  },
  {
   "cell_type": "code",
   "execution_count": 3,
   "metadata": {},
   "outputs": [],
   "source": [
    "base_perps = TestBasePerps()"
   ]
  },
  {
   "cell_type": "code",
   "execution_count": 4,
   "metadata": {},
   "outputs": [],
   "source": [
    "settled_orders_df = base_perps.get_settled_orders(timestamp=1696260000) # https://goerli.basescan.org/block/10536192 # starting block time Monday, October 2, 2023 5:00:00 PM"
   ]
  },
  {
   "cell_type": "code",
   "execution_count": 5,
   "metadata": {},
   "outputs": [],
   "source": [
    "polars_df = pl.from_pandas(settled_orders_df)"
   ]
  },
  {
   "cell_type": "code",
   "execution_count": 6,
   "metadata": {},
   "outputs": [],
   "source": [
    "blacklisted_acct_ids = [\n",
    "# 1.7014118346046923e+38, # has 1e9 trading vol\n",
    "                        # 215754283 # has 1e8 trading vol, unsure if whale or an outlier that should be filtered\n",
    "                        ]"
   ]
  },
  {
   "cell_type": "code",
   "execution_count": 7,
   "metadata": {},
   "outputs": [],
   "source": [
    "cleaned_settled_orders = (polars_df.select([\n",
    "    pl.col('orderSettleds_timestamp'),\n",
    "    pl.col('markets_marketSymbol'),\n",
    "    pl.col('orderSettleds_accountId'),\n",
    "    pl.col('orderSettleds_fillPrice'),\n",
    "    pl.col('orderSettleds_accruedFunding'),\n",
    "    pl.col('orderSettleds_sizeDelta'),\n",
    "    pl.col('orderSettleds_newSize'),\n",
    "    pl.col('orderSettleds_totalFees'),\n",
    "])\n",
    ".with_columns([\n",
    "    pl.from_epoch(\"orderSettleds_timestamp\").alias(\"datetime\"),\n",
    "    (pl.col('orderSettleds_fillPrice') / 10 ** 18),\n",
    "    (pl.col('orderSettleds_sizeDelta') / 10 ** 18),\n",
    "    (pl.col('orderSettleds_accruedFunding') / 10 ** 18),\n",
    "    (pl.col('orderSettleds_newSize') / 10 ** 18),\n",
    "    (pl.col('orderSettleds_totalFees') / 10 ** 18),\n",
    "])\n",
    ".with_columns([\n",
    "    (pl.col('orderSettleds_sizeDelta').abs() * pl.col('orderSettleds_fillPrice')).alias('size_usd')\n",
    "])\n",
    ".filter(~pl.col('orderSettleds_accountId').is_in(blacklisted_acct_ids))\n",
    ")"
   ]
  },
  {
   "cell_type": "code",
   "execution_count": 8,
   "metadata": {},
   "outputs": [
    {
     "data": {
      "text/html": [
       "<div><style>\n",
       ".dataframe > thead > tr > th,\n",
       ".dataframe > tbody > tr > td {\n",
       "  text-align: right;\n",
       "  white-space: pre-wrap;\n",
       "}\n",
       "</style>\n",
       "<small>shape: (5, 10)</small><table border=\"1\" class=\"dataframe\"><thead><tr><th>orderSettleds_timestamp</th><th>markets_marketSymbol</th><th>orderSettleds_accountId</th><th>orderSettleds_fillPrice</th><th>orderSettleds_accruedFunding</th><th>orderSettleds_sizeDelta</th><th>orderSettleds_newSize</th><th>orderSettleds_totalFees</th><th>datetime</th><th>size_usd</th></tr><tr><td>i64</td><td>str</td><td>f64</td><td>f64</td><td>f64</td><td>f64</td><td>f64</td><td>f64</td><td>datetime[μs]</td><td>f64</td></tr></thead><tbody><tr><td>1697020928</td><td>&quot;ETH&quot;</td><td>1.1224e9</td><td>1577.801896</td><td>-44.243833</td><td>86.997996</td><td>86.997996</td><td>68.632802</td><td>2023-10-11 10:42:08</td><td>137265.603517</td></tr><tr><td>1697023666</td><td>&quot;ETH&quot;</td><td>1.1224e9</td><td>1572.851923</td><td>-0.229878</td><td>1.0</td><td>87.997996</td><td>0.31457</td><td>2023-10-11 11:27:46</td><td>1572.851923</td></tr><tr><td>1697023732</td><td>&quot;ETH&quot;</td><td>1.1224e9</td><td>1572.968366</td><td>-0.005573</td><td>10.0</td><td>97.997996</td><td>3.145937</td><td>2023-10-11 11:28:52</td><td>15729.68366</td></tr><tr><td>1697023834</td><td>&quot;ETH&quot;</td><td>1.1224e9</td><td>1573.181377</td><td>-0.008599</td><td>-97.997996</td><td>0.0</td><td>77.084311</td><td>2023-10-11 11:30:34</td><td>154168.622772</td></tr><tr><td>1697023922</td><td>&quot;ETH&quot;</td><td>1.1224e9</td><td>1572.327512</td><td>-0.007403</td><td>3.283109</td><td>3.283109</td><td>1.032424</td><td>2023-10-11 11:32:02</td><td>5162.12198</td></tr></tbody></table></div>"
      ],
      "text/plain": [
       "shape: (5, 10)\n",
       "┌───────────┬───────────┬───────────┬───────────┬───┬───────────┬───────────┬───────────┬──────────┐\n",
       "│ orderSett ┆ markets_m ┆ orderSett ┆ orderSett ┆ … ┆ orderSett ┆ orderSett ┆ datetime  ┆ size_usd │\n",
       "│ leds_time ┆ arketSymb ┆ leds_acco ┆ leds_fill ┆   ┆ leds_newS ┆ leds_tota ┆ ---       ┆ ---      │\n",
       "│ stamp     ┆ ol        ┆ untId     ┆ Price     ┆   ┆ ize       ┆ lFees     ┆ datetime[ ┆ f64      │\n",
       "│ ---       ┆ ---       ┆ ---       ┆ ---       ┆   ┆ ---       ┆ ---       ┆ μs]       ┆          │\n",
       "│ i64       ┆ str       ┆ f64       ┆ f64       ┆   ┆ f64       ┆ f64       ┆           ┆          │\n",
       "╞═══════════╪═══════════╪═══════════╪═══════════╪═══╪═══════════╪═══════════╪═══════════╪══════════╡\n",
       "│ 169702092 ┆ ETH       ┆ 1.1224e9  ┆ 1577.8018 ┆ … ┆ 86.997996 ┆ 68.632802 ┆ 2023-10-1 ┆ 137265.6 │\n",
       "│ 8         ┆           ┆           ┆ 96        ┆   ┆           ┆           ┆ 1         ┆ 03517    │\n",
       "│           ┆           ┆           ┆           ┆   ┆           ┆           ┆ 10:42:08  ┆          │\n",
       "│ 169702366 ┆ ETH       ┆ 1.1224e9  ┆ 1572.8519 ┆ … ┆ 87.997996 ┆ 0.31457   ┆ 2023-10-1 ┆ 1572.851 │\n",
       "│ 6         ┆           ┆           ┆ 23        ┆   ┆           ┆           ┆ 1         ┆ 923      │\n",
       "│           ┆           ┆           ┆           ┆   ┆           ┆           ┆ 11:27:46  ┆          │\n",
       "│ 169702373 ┆ ETH       ┆ 1.1224e9  ┆ 1572.9683 ┆ … ┆ 97.997996 ┆ 3.145937  ┆ 2023-10-1 ┆ 15729.68 │\n",
       "│ 2         ┆           ┆           ┆ 66        ┆   ┆           ┆           ┆ 1         ┆ 366      │\n",
       "│           ┆           ┆           ┆           ┆   ┆           ┆           ┆ 11:28:52  ┆          │\n",
       "│ 169702383 ┆ ETH       ┆ 1.1224e9  ┆ 1573.1813 ┆ … ┆ 0.0       ┆ 77.084311 ┆ 2023-10-1 ┆ 154168.6 │\n",
       "│ 4         ┆           ┆           ┆ 77        ┆   ┆           ┆           ┆ 1         ┆ 22772    │\n",
       "│           ┆           ┆           ┆           ┆   ┆           ┆           ┆ 11:30:34  ┆          │\n",
       "│ 169702392 ┆ ETH       ┆ 1.1224e9  ┆ 1572.3275 ┆ … ┆ 3.283109  ┆ 1.032424  ┆ 2023-10-1 ┆ 5162.121 │\n",
       "│ 2         ┆           ┆           ┆ 12        ┆   ┆           ┆           ┆ 1         ┆ 98       │\n",
       "│           ┆           ┆           ┆           ┆   ┆           ┆           ┆ 11:32:02  ┆          │\n",
       "└───────────┴───────────┴───────────┴───────────┴───┴───────────┴───────────┴───────────┴──────────┘"
      ]
     },
     "execution_count": 8,
     "metadata": {},
     "output_type": "execute_result"
    }
   ],
   "source": [
    "cleaned_settled_orders.head(5)"
   ]
  },
  {
   "cell_type": "markdown",
   "metadata": {},
   "source": [
    "### Liquidations"
   ]
  },
  {
   "cell_type": "code",
   "execution_count": 9,
   "metadata": {},
   "outputs": [],
   "source": [
    "market_price_df = base_perps.get_market_updates()"
   ]
  },
  {
   "cell_type": "code",
   "execution_count": 10,
   "metadata": {},
   "outputs": [],
   "source": [
    "pos_liqs_df = base_perps.get_position_liquidations()"
   ]
  },
  {
   "cell_type": "code",
   "execution_count": 11,
   "metadata": {},
   "outputs": [],
   "source": [
    "position_liquidations_df = pl.from_pandas(pos_liqs_df)"
   ]
  },
  {
   "cell_type": "code",
   "execution_count": 12,
   "metadata": {},
   "outputs": [],
   "source": [
    "# normalize numbers\n",
    "market_price_polars_df = pl.from_pandas(market_price_df).with_columns([\n",
    "    pl.from_epoch('marketUpdateds_timestamp').dt.round(\"1s\").alias('datetime'),\n",
    "    pl.col('marketUpdateds_price') / 10**18,\n",
    "    pl.col('marketUpdateds_skew') / 10**18,\n",
    "    pl.col('marketUpdateds_size') / 10**18,\n",
    "    pl.col('marketUpdateds_sizeDelta') / 10**18,\n",
    "    pl.col('marketUpdateds_currentFundingRate') / 10**18,\n",
    "    pl.col('marketUpdateds_currentFundingVelocity') / 10**18\n",
    "])\n",
    "\n",
    "# normalize numbers\n",
    "position_liquidations_df = position_liquidations_df.with_columns([\n",
    "    pl.from_epoch('positionLiquidateds_timestamp').dt.round(\"1s\").alias('datetime'),\n",
    "    pl.col('positionLiquidateds_amountLiquidated') / 10**18,\n",
    "    pl.col('positionLiquidateds_currentPositionSize') / 10**18,\n",
    "    ]).filter(pl.col(\"datetime\") > datetime(2023, 10, 2))"
   ]
  },
  {
   "cell_type": "code",
   "execution_count": 13,
   "metadata": {},
   "outputs": [],
   "source": [
    "position_liquidations_usd_df = position_liquidations_df.join(market_price_polars_df, on='datetime', how='left')"
   ]
  },
  {
   "cell_type": "code",
   "execution_count": 14,
   "metadata": {},
   "outputs": [
    {
     "data": {
      "text/html": [
       "<div><style>\n",
       ".dataframe > thead > tr > th,\n",
       ".dataframe > tbody > tr > td {\n",
       "  text-align: right;\n",
       "  white-space: pre-wrap;\n",
       "}\n",
       "</style>\n",
       "<small>shape: (5, 17)</small><table border=\"1\" class=\"dataframe\"><thead><tr><th>positionLiquidateds_id</th><th>positionLiquidateds_timestamp</th><th>positionLiquidateds_accountId</th><th>markets_id</th><th>positionLiquidateds_amountLiquidated</th><th>positionLiquidateds_currentPositionSize</th><th>markets_marketSymbol</th><th>datetime</th><th>marketUpdateds_timestamp</th><th>markets_id_right</th><th>marketUpdateds_price</th><th>marketUpdateds_skew</th><th>marketUpdateds_size</th><th>marketUpdateds_sizeDelta</th><th>marketUpdateds_currentFundingRate</th><th>marketUpdateds_currentFundingVelocity</th><th>markets_marketSymbol_right</th></tr><tr><td>str</td><td>i64</td><td>f64</td><td>i64</td><td>f64</td><td>f64</td><td>str</td><td>datetime[μs]</td><td>i64</td><td>i64</td><td>f64</td><td>f64</td><td>f64</td><td>f64</td><td>f64</td><td>f64</td><td>str</td></tr></thead><tbody><tr><td>&quot;100-170141183460469231731687303715884105794-11302443&quot;</td><td>1697798502</td><td>1.7014e38</td><td>100</td><td>109.3068</td><td>0.0</td><td>&quot;ETH&quot;</td><td>2023-10-20 10:41:42</td><td>1697798502</td><td>100</td><td>1624.86338</td><td>763.810779</td><td>6656.744796</td><td>109.3068</td><td>0.000473</td><td>0.006874</td><td>&quot;ETH&quot;</td></tr><tr><td>&quot;100-170141183460469231731687303715884105794-11302435&quot;</td><td>1697798486</td><td>1.7014e38</td><td>100</td><td>699.993</td><td>-109.3068</td><td>&quot;ETH&quot;</td><td>2023-10-20 10:41:26</td><td>1697798486</td><td>100</td><td>1624.86338</td><td>654.503979</td><td>6766.051596</td><td>699.993</td><td>0.000472</td><td>0.005891</td><td>&quot;ETH&quot;</td></tr><tr><td>&quot;100-170141183460469231731687303715884105794-11302423&quot;</td><td>1697798462</td><td>1.7014e38</td><td>100</td><td>699.993</td><td>-809.2998</td><td>&quot;ETH&quot;</td><td>2023-10-20 10:41:02</td><td>1697798462</td><td>100</td><td>1629.715159</td><td>-45.489021</td><td>7466.044596</td><td>699.993</td><td>0.000472</td><td>-0.000409</td><td>&quot;ETH&quot;</td></tr><tr><td>&quot;200-170141183460469231731687303715884105794-11302414&quot;</td><td>1697798444</td><td>1.7014e38</td><td>200</td><td>145.6077</td><td>0.0</td><td>&quot;BTC&quot;</td><td>2023-10-20 10:40:44</td><td>1697798444</td><td>200</td><td>30230.824183</td><td>68.673255</td><td>660.845055</td><td>145.6077</td><td>0.003956</td><td>0.000618</td><td>&quot;BTC&quot;</td></tr><tr><td>&quot;200-170141183460469231731687303715884105794-11302414&quot;</td><td>1697798444</td><td>1.7014e38</td><td>200</td><td>145.6077</td><td>0.0</td><td>&quot;BTC&quot;</td><td>2023-10-20 10:40:44</td><td>1697798444</td><td>100</td><td>1629.715159</td><td>-745.482021</td><td>8166.037596</td><td>699.993</td><td>0.000473</td><td>-0.006709</td><td>&quot;ETH&quot;</td></tr></tbody></table></div>"
      ],
      "text/plain": [
       "shape: (5, 17)\n",
       "┌───────────┬───────────┬───────────┬───────────┬───┬───────────┬───────────┬───────────┬──────────┐\n",
       "│ positionL ┆ positionL ┆ positionL ┆ markets_i ┆ … ┆ marketUpd ┆ marketUpd ┆ marketUpd ┆ markets_ │\n",
       "│ iquidated ┆ iquidated ┆ iquidated ┆ d         ┆   ┆ ateds_siz ┆ ateds_cur ┆ ateds_cur ┆ marketSy │\n",
       "│ s_id      ┆ s_timesta ┆ s_account ┆ ---       ┆   ┆ eDelta    ┆ rentFundi ┆ rentFundi ┆ mbol_rig │\n",
       "│ ---       ┆ mp        ┆ Id        ┆ i64       ┆   ┆ ---       ┆ ngRate    ┆ ngVelocit ┆ ht       │\n",
       "│ str       ┆ ---       ┆ ---       ┆           ┆   ┆ f64       ┆ ---       ┆ y         ┆ ---      │\n",
       "│           ┆ i64       ┆ f64       ┆           ┆   ┆           ┆ f64       ┆ ---       ┆ str      │\n",
       "│           ┆           ┆           ┆           ┆   ┆           ┆           ┆ f64       ┆          │\n",
       "╞═══════════╪═══════════╪═══════════╪═══════════╪═══╪═══════════╪═══════════╪═══════════╪══════════╡\n",
       "│ 100-17014 ┆ 169779850 ┆ 1.7014e38 ┆ 100       ┆ … ┆ 109.3068  ┆ 0.000473  ┆ 0.006874  ┆ ETH      │\n",
       "│ 118346046 ┆ 2         ┆           ┆           ┆   ┆           ┆           ┆           ┆          │\n",
       "│ 923173168 ┆           ┆           ┆           ┆   ┆           ┆           ┆           ┆          │\n",
       "│ 730371588 ┆           ┆           ┆           ┆   ┆           ┆           ┆           ┆          │\n",
       "│ 4105794-1 ┆           ┆           ┆           ┆   ┆           ┆           ┆           ┆          │\n",
       "│ 1302443   ┆           ┆           ┆           ┆   ┆           ┆           ┆           ┆          │\n",
       "│ 100-17014 ┆ 169779848 ┆ 1.7014e38 ┆ 100       ┆ … ┆ 699.993   ┆ 0.000472  ┆ 0.005891  ┆ ETH      │\n",
       "│ 118346046 ┆ 6         ┆           ┆           ┆   ┆           ┆           ┆           ┆          │\n",
       "│ 923173168 ┆           ┆           ┆           ┆   ┆           ┆           ┆           ┆          │\n",
       "│ 730371588 ┆           ┆           ┆           ┆   ┆           ┆           ┆           ┆          │\n",
       "│ 4105794-1 ┆           ┆           ┆           ┆   ┆           ┆           ┆           ┆          │\n",
       "│ 1302435   ┆           ┆           ┆           ┆   ┆           ┆           ┆           ┆          │\n",
       "│ 100-17014 ┆ 169779846 ┆ 1.7014e38 ┆ 100       ┆ … ┆ 699.993   ┆ 0.000472  ┆ -0.000409 ┆ ETH      │\n",
       "│ 118346046 ┆ 2         ┆           ┆           ┆   ┆           ┆           ┆           ┆          │\n",
       "│ 923173168 ┆           ┆           ┆           ┆   ┆           ┆           ┆           ┆          │\n",
       "│ 730371588 ┆           ┆           ┆           ┆   ┆           ┆           ┆           ┆          │\n",
       "│ 4105794-1 ┆           ┆           ┆           ┆   ┆           ┆           ┆           ┆          │\n",
       "│ 1302423   ┆           ┆           ┆           ┆   ┆           ┆           ┆           ┆          │\n",
       "│ 200-17014 ┆ 169779844 ┆ 1.7014e38 ┆ 200       ┆ … ┆ 145.6077  ┆ 0.003956  ┆ 0.000618  ┆ BTC      │\n",
       "│ 118346046 ┆ 4         ┆           ┆           ┆   ┆           ┆           ┆           ┆          │\n",
       "│ 923173168 ┆           ┆           ┆           ┆   ┆           ┆           ┆           ┆          │\n",
       "│ 730371588 ┆           ┆           ┆           ┆   ┆           ┆           ┆           ┆          │\n",
       "│ 4105794-1 ┆           ┆           ┆           ┆   ┆           ┆           ┆           ┆          │\n",
       "│ 1302414   ┆           ┆           ┆           ┆   ┆           ┆           ┆           ┆          │\n",
       "│ 200-17014 ┆ 169779844 ┆ 1.7014e38 ┆ 200       ┆ … ┆ 699.993   ┆ 0.000473  ┆ -0.006709 ┆ ETH      │\n",
       "│ 118346046 ┆ 4         ┆           ┆           ┆   ┆           ┆           ┆           ┆          │\n",
       "│ 923173168 ┆           ┆           ┆           ┆   ┆           ┆           ┆           ┆          │\n",
       "│ 730371588 ┆           ┆           ┆           ┆   ┆           ┆           ┆           ┆          │\n",
       "│ 4105794-1 ┆           ┆           ┆           ┆   ┆           ┆           ┆           ┆          │\n",
       "│ 1302414   ┆           ┆           ┆           ┆   ┆           ┆           ┆           ┆          │\n",
       "└───────────┴───────────┴───────────┴───────────┴───┴───────────┴───────────┴───────────┴──────────┘"
      ]
     },
     "execution_count": 14,
     "metadata": {},
     "output_type": "execute_result"
    }
   ],
   "source": [
    "position_liquidations_usd_df.head(5)"
   ]
  },
  {
   "cell_type": "code",
   "execution_count": 15,
   "metadata": {},
   "outputs": [
    {
     "data": {
      "text/plain": [
       "['positionLiquidateds_id',\n",
       " 'positionLiquidateds_timestamp',\n",
       " 'positionLiquidateds_accountId',\n",
       " 'markets_id',\n",
       " 'positionLiquidateds_amountLiquidated',\n",
       " 'positionLiquidateds_currentPositionSize',\n",
       " 'markets_marketSymbol',\n",
       " 'datetime',\n",
       " 'marketUpdateds_timestamp',\n",
       " 'markets_id_right',\n",
       " 'marketUpdateds_price',\n",
       " 'marketUpdateds_skew',\n",
       " 'marketUpdateds_size',\n",
       " 'marketUpdateds_sizeDelta',\n",
       " 'marketUpdateds_currentFundingRate',\n",
       " 'marketUpdateds_currentFundingVelocity',\n",
       " 'markets_marketSymbol_right']"
      ]
     },
     "execution_count": 15,
     "metadata": {},
     "output_type": "execute_result"
    }
   ],
   "source": [
    "position_liquidations_usd_df.columns"
   ]
  },
  {
   "cell_type": "code",
   "execution_count": 16,
   "metadata": {},
   "outputs": [
    {
     "data": {
      "text/plain": [
       "['orderSettleds_timestamp',\n",
       " 'markets_marketSymbol',\n",
       " 'orderSettleds_accountId',\n",
       " 'orderSettleds_fillPrice',\n",
       " 'orderSettleds_accruedFunding',\n",
       " 'orderSettleds_sizeDelta',\n",
       " 'orderSettleds_newSize',\n",
       " 'orderSettleds_totalFees',\n",
       " 'datetime',\n",
       " 'size_usd']"
      ]
     },
     "execution_count": 16,
     "metadata": {},
     "output_type": "execute_result"
    }
   ],
   "source": [
    "cleaned_settled_orders.columns"
   ]
  },
  {
   "cell_type": "code",
   "execution_count": 17,
   "metadata": {},
   "outputs": [],
   "source": [
    "# rename columns for concatting\n",
    "position_liq_final = position_liquidations_usd_df.rename({\n",
    "    'positionLiquidateds_accountId': 'accountId', \n",
    "    'markets_marketSymbol_right': 'marketSymbol',\n",
    "    'positionLiquidateds_amountLiquidated': 'size_delta',\n",
    "    'positionLiquidateds_currentPositionSize': 'size',\n",
    "    'marketUpdateds_price': 'price'\n",
    "     }).with_columns([\n",
    "    pl.lit(True).alias('liquidation')\n",
    "]).select('datetime', 'accountId', 'marketSymbol', 'size_delta', 'size', 'price', 'liquidation')\n",
    "\n",
    "settled_order_final = cleaned_settled_orders.rename({\n",
    "    'orderSettleds_accountId': 'accountId', \n",
    "    'markets_marketSymbol': 'marketSymbol',\n",
    "    'orderSettleds_sizeDelta': 'size_delta',\n",
    "    'orderSettleds_newSize': 'size',\n",
    "    'orderSettleds_fillPrice': 'price',\n",
    "     }).with_columns([\n",
    "    pl.lit(False).alias('liquidation')]).select('datetime', 'accountId', 'marketSymbol', 'size_delta', 'size', 'price', 'liquidation')"
   ]
  },
  {
   "cell_type": "code",
   "execution_count": 18,
   "metadata": {},
   "outputs": [
    {
     "name": "stdout",
     "output_type": "stream",
     "text": [
      "27\n",
      "49\n"
     ]
    }
   ],
   "source": [
    "# get the overlap between unique accuonts\n",
    "unique_liq_accts = position_liq_final['accountId'].unique().to_list()\n",
    "unique_orders_accts = settled_order_final['accountId'].unique().to_list()\n",
    "\n",
    "print(len(set(unique_liq_accts)))\n",
    "print(len(set(unique_orders_accts)))"
   ]
  },
  {
   "cell_type": "code",
   "execution_count": 19,
   "metadata": {},
   "outputs": [
    {
     "name": "stdout",
     "output_type": "stream",
     "text": [
      "3\n"
     ]
    }
   ],
   "source": [
    "# are there liquidation accounts that are not in unique order accts?\n",
    "print(len(set(unique_liq_accts) - set(unique_orders_accts)))\n"
   ]
  },
  {
   "cell_type": "markdown",
   "metadata": {},
   "source": [
    "### Concat data and analyze results"
   ]
  },
  {
   "cell_type": "code",
   "execution_count": 20,
   "metadata": {},
   "outputs": [],
   "source": [
    "concat_df = pl.concat([position_liq_final, settled_order_final])"
   ]
  },
  {
   "cell_type": "code",
   "execution_count": 21,
   "metadata": {},
   "outputs": [
    {
     "data": {
      "text/plain": [
       "(385, 7)"
      ]
     },
     "execution_count": 21,
     "metadata": {},
     "output_type": "execute_result"
    }
   ],
   "source": [
    "concat_df.filter(pl.col('liquidation') == True).shape"
   ]
  },
  {
   "cell_type": "code",
   "execution_count": 22,
   "metadata": {},
   "outputs": [
    {
     "data": {
      "text/plain": [
       "(2168, 7)"
      ]
     },
     "execution_count": 22,
     "metadata": {},
     "output_type": "execute_result"
    }
   ],
   "source": [
    "concat_df.filter(pl.col('liquidation') == False).shape"
   ]
  },
  {
   "cell_type": "code",
   "execution_count": 23,
   "metadata": {},
   "outputs": [],
   "source": [
    "filtered_acct = concat_df['accountId'][0]"
   ]
  },
  {
   "cell_type": "code",
   "execution_count": 24,
   "metadata": {},
   "outputs": [
    {
     "name": "stdout",
     "output_type": "stream",
     "text": [
      "170141183460469231731687303715884105728\n"
     ]
    }
   ],
   "source": [
    "expanded_number = f'{filtered_acct:.0f}'\n",
    "print(expanded_number)"
   ]
  },
  {
   "cell_type": "code",
   "execution_count": 32,
   "metadata": {},
   "outputs": [
    {
     "data": {
      "text/html": [
       "<div><style>\n",
       ".dataframe > thead > tr > th,\n",
       ".dataframe > tbody > tr > td {\n",
       "  text-align: right;\n",
       "  white-space: pre-wrap;\n",
       "}\n",
       "</style>\n",
       "<small>shape: (488, 7)</small><table border=\"1\" class=\"dataframe\"><thead><tr><th>datetime</th><th>accountId</th><th>marketSymbol</th><th>size_delta</th><th>size</th><th>price</th><th>liquidation</th></tr><tr><td>datetime[μs]</td><td>f64</td><td>str</td><td>f64</td><td>f64</td><td>f64</td><td>bool</td></tr></thead><tbody><tr><td>2023-10-02 18:05:04</td><td>1.7014e38</td><td>&quot;ETH&quot;</td><td>0.7604</td><td>1.6502</td><td>1689.579753</td><td>false</td></tr><tr><td>2023-10-02 20:02:46</td><td>1.7014e38</td><td>&quot;ETH&quot;</td><td>-1.6502</td><td>0.0</td><td>1670.567628</td><td>false</td></tr><tr><td>2023-10-02 20:03:26</td><td>1.7014e38</td><td>&quot;ETH&quot;</td><td>0.2664</td><td>0.2664</td><td>1670.044143</td><td>false</td></tr><tr><td>2023-10-06 09:55:18</td><td>1.7014e38</td><td>&quot;ETH&quot;</td><td>0.7489</td><td>1.0153</td><td>1632.600741</td><td>false</td></tr><tr><td>2023-10-06 10:00:34</td><td>1.7014e38</td><td>&quot;ETH&quot;</td><td>-1.0153</td><td>0.0</td><td>1627.12249</td><td>false</td></tr><tr><td>2023-10-06 10:02:48</td><td>1.7014e38</td><td>&quot;ETH&quot;</td><td>0.583</td><td>0.583</td><td>1626.74543</td><td>false</td></tr><tr><td>2023-10-06 10:04:54</td><td>1.7014e38</td><td>&quot;ETH&quot;</td><td>-0.583</td><td>0.0</td><td>1627.253994</td><td>false</td></tr><tr><td>2023-10-06 10:05:42</td><td>1.7014e38</td><td>&quot;ETH&quot;</td><td>0.7765</td><td>0.7765</td><td>1626.582965</td><td>false</td></tr><tr><td>2023-10-02 17:22:50</td><td>1.7014e38</td><td>&quot;ETH&quot;</td><td>95.773</td><td>95.773</td><td>1685.827036</td><td>false</td></tr><tr><td>2023-10-02 19:34:26</td><td>1.7014e38</td><td>&quot;ETH&quot;</td><td>17.3678</td><td>0.0</td><td>1662.275338</td><td>false</td></tr><tr><td>2023-10-02 19:35:24</td><td>1.7014e38</td><td>&quot;ETH&quot;</td><td>122.98</td><td>122.98</td><td>1661.695719</td><td>false</td></tr><tr><td>2023-10-02 18:08:06</td><td>1.7014e38</td><td>&quot;ETH&quot;</td><td>97.1794</td><td>97.1794</td><td>1689.177899</td><td>false</td></tr><tr><td>&hellip;</td><td>&hellip;</td><td>&hellip;</td><td>&hellip;</td><td>&hellip;</td><td>&hellip;</td><td>&hellip;</td></tr><tr><td>2023-10-20 12:13:46</td><td>1.7014e38</td><td>&quot;ETH&quot;</td><td>618.366</td><td>618.366</td><td>1613.527087</td><td>false</td></tr><tr><td>2023-10-11 14:07:46</td><td>1.7014e38</td><td>&quot;ETH&quot;</td><td>2116.86</td><td>2116.86</td><td>1574.444232</td><td>false</td></tr><tr><td>2023-10-11 15:22:20</td><td>1.7014e38</td><td>&quot;ETH&quot;</td><td>-529.21</td><td>1587.65</td><td>1563.682319</td><td>false</td></tr><tr><td>2023-10-11 16:22:56</td><td>1.7014e38</td><td>&quot;ETH&quot;</td><td>128.61</td><td>128.61</td><td>1558.37531</td><td>false</td></tr><tr><td>2023-10-11 16:25:02</td><td>1.7014e38</td><td>&quot;ETH&quot;</td><td>-128.61</td><td>0.0</td><td>1560.187282</td><td>false</td></tr><tr><td>2023-10-11 16:30:00</td><td>1.7014e38</td><td>&quot;ETH&quot;</td><td>128.4807</td><td>128.4807</td><td>1561.362764</td><td>false</td></tr><tr><td>2023-10-13 14:13:04</td><td>1.7014e38</td><td>&quot;ETH&quot;</td><td>775.4603</td><td>775.4603</td><td>1553.834099</td><td>false</td></tr><tr><td>2023-10-14 05:50:28</td><td>1.7014e38</td><td>&quot;ETH&quot;</td><td>64.4957</td><td>64.4957</td><td>1552.813968</td><td>false</td></tr><tr><td>2023-10-18 21:31:06</td><td>1.7014e38</td><td>&quot;ETH&quot;</td><td>-64.1424</td><td>-64.1424</td><td>1559.805567</td><td>false</td></tr><tr><td>2023-10-18 21:37:26</td><td>1.7014e38</td><td>&quot;ETH&quot;</td><td>64.1424</td><td>0.0</td><td>1555.758658</td><td>false</td></tr><tr><td>2023-10-20 11:27:08</td><td>1.7014e38</td><td>&quot;ETH&quot;</td><td>-2.058</td><td>-2.058</td><td>1620.019083</td><td>false</td></tr><tr><td>2023-10-20 11:28:04</td><td>1.7014e38</td><td>&quot;ETH&quot;</td><td>-2059.0</td><td>-2061.058</td><td>1617.960681</td><td>false</td></tr></tbody></table></div>"
      ],
      "text/plain": [
       "shape: (488, 7)\n",
       "┌──────────────┬───────────┬──────────────┬────────────┬───────────┬─────────────┬─────────────┐\n",
       "│ datetime     ┆ accountId ┆ marketSymbol ┆ size_delta ┆ size      ┆ price       ┆ liquidation │\n",
       "│ ---          ┆ ---       ┆ ---          ┆ ---        ┆ ---       ┆ ---         ┆ ---         │\n",
       "│ datetime[μs] ┆ f64       ┆ str          ┆ f64        ┆ f64       ┆ f64         ┆ bool        │\n",
       "╞══════════════╪═══════════╪══════════════╪════════════╪═══════════╪═════════════╪═════════════╡\n",
       "│ 2023-10-02   ┆ 1.7014e38 ┆ ETH          ┆ 0.7604     ┆ 1.6502    ┆ 1689.579753 ┆ false       │\n",
       "│ 18:05:04     ┆           ┆              ┆            ┆           ┆             ┆             │\n",
       "│ 2023-10-02   ┆ 1.7014e38 ┆ ETH          ┆ -1.6502    ┆ 0.0       ┆ 1670.567628 ┆ false       │\n",
       "│ 20:02:46     ┆           ┆              ┆            ┆           ┆             ┆             │\n",
       "│ 2023-10-02   ┆ 1.7014e38 ┆ ETH          ┆ 0.2664     ┆ 0.2664    ┆ 1670.044143 ┆ false       │\n",
       "│ 20:03:26     ┆           ┆              ┆            ┆           ┆             ┆             │\n",
       "│ 2023-10-06   ┆ 1.7014e38 ┆ ETH          ┆ 0.7489     ┆ 1.0153    ┆ 1632.600741 ┆ false       │\n",
       "│ 09:55:18     ┆           ┆              ┆            ┆           ┆             ┆             │\n",
       "│ …            ┆ …         ┆ …            ┆ …          ┆ …         ┆ …           ┆ …           │\n",
       "│ 2023-10-18   ┆ 1.7014e38 ┆ ETH          ┆ -64.1424   ┆ -64.1424  ┆ 1559.805567 ┆ false       │\n",
       "│ 21:31:06     ┆           ┆              ┆            ┆           ┆             ┆             │\n",
       "│ 2023-10-18   ┆ 1.7014e38 ┆ ETH          ┆ 64.1424    ┆ 0.0       ┆ 1555.758658 ┆ false       │\n",
       "│ 21:37:26     ┆           ┆              ┆            ┆           ┆             ┆             │\n",
       "│ 2023-10-20   ┆ 1.7014e38 ┆ ETH          ┆ -2.058     ┆ -2.058    ┆ 1620.019083 ┆ false       │\n",
       "│ 11:27:08     ┆           ┆              ┆            ┆           ┆             ┆             │\n",
       "│ 2023-10-20   ┆ 1.7014e38 ┆ ETH          ┆ -2059.0    ┆ -2061.058 ┆ 1617.960681 ┆ false       │\n",
       "│ 11:28:04     ┆           ┆              ┆            ┆           ┆             ┆             │\n",
       "└──────────────┴───────────┴──────────────┴────────────┴───────────┴─────────────┴─────────────┘"
      ]
     },
     "execution_count": 32,
     "metadata": {},
     "output_type": "execute_result"
    }
   ],
   "source": [
    "settled_order_final.filter(pl.col('accountId') == filtered_acct).filter(pl.col('marketSymbol') == 'ETH')"
   ]
  },
  {
   "cell_type": "code",
   "execution_count": 29,
   "metadata": {},
   "outputs": [
    {
     "data": {
      "text/html": [
       "<div><style>\n",
       ".dataframe > thead > tr > th,\n",
       ".dataframe > tbody > tr > td {\n",
       "  text-align: right;\n",
       "  white-space: pre-wrap;\n",
       "}\n",
       "</style>\n",
       "<small>shape: (20, 7)</small><table border=\"1\" class=\"dataframe\"><thead><tr><th>datetime</th><th>accountId</th><th>marketSymbol</th><th>size_delta</th><th>size</th><th>price</th><th>liquidation</th></tr><tr><td>datetime[μs]</td><td>f64</td><td>str</td><td>f64</td><td>f64</td><td>f64</td><td>bool</td></tr></thead><tbody><tr><td>2023-10-20 19:22:04</td><td>1.7014e38</td><td>&quot;ETH&quot;</td><td>1116.7678</td><td>1116.7678</td><td>1607.532675</td><td>false</td></tr><tr><td>2023-10-20 16:05:34</td><td>1.7014e38</td><td>&quot;ETH&quot;</td><td>622.3908</td><td>622.3908</td><td>1605.855257</td><td>false</td></tr><tr><td>2023-10-20 12:13:46</td><td>1.7014e38</td><td>&quot;ETH&quot;</td><td>618.366</td><td>618.366</td><td>1613.527087</td><td>false</td></tr><tr><td>2023-10-20 11:28:04</td><td>1.7014e38</td><td>&quot;ETH&quot;</td><td>-2059.0</td><td>-2061.058</td><td>1617.960681</td><td>false</td></tr><tr><td>2023-10-20 11:27:08</td><td>1.7014e38</td><td>&quot;ETH&quot;</td><td>-2.058</td><td>-2.058</td><td>1620.019083</td><td>false</td></tr><tr><td>2023-10-20 10:54:04</td><td>1.7014e38</td><td>&quot;ETH&quot;</td><td>-308.9051</td><td>0.0</td><td>1619.331493</td><td>false</td></tr><tr><td>2023-10-20 10:41:42</td><td>1.7014e38</td><td>&quot;ETH&quot;</td><td>109.3068</td><td>0.0</td><td>1624.86338</td><td>true</td></tr><tr><td>2023-10-20 10:41:26</td><td>1.7014e38</td><td>&quot;ETH&quot;</td><td>699.993</td><td>-109.3068</td><td>1624.86338</td><td>true</td></tr><tr><td>2023-10-20 10:41:02</td><td>1.7014e38</td><td>&quot;ETH&quot;</td><td>699.993</td><td>-809.2998</td><td>1629.715159</td><td>true</td></tr><tr><td>2023-10-20 10:40:44</td><td>1.7014e38</td><td>&quot;ETH&quot;</td><td>145.6077</td><td>0.0</td><td>1629.715159</td><td>true</td></tr><tr><td>2023-10-20 10:40:44</td><td>1.7014e38</td><td>&quot;ETH&quot;</td><td>699.993</td><td>-1509.2928</td><td>1629.715159</td><td>true</td></tr><tr><td>2023-10-20 09:57:42</td><td>1.7014e38</td><td>&quot;ETH&quot;</td><td>308.9051</td><td>308.9051</td><td>1615.990389</td><td>false</td></tr><tr><td>2023-10-20 08:55:38</td><td>1.7014e38</td><td>&quot;ETH&quot;</td><td>-1552.9103</td><td>-2499.6717</td><td>1611.78725</td><td>false</td></tr><tr><td>2023-10-20 08:17:12</td><td>1.7014e38</td><td>&quot;ETH&quot;</td><td>-638.7895</td><td>0.0</td><td>1591.136747</td><td>false</td></tr><tr><td>2023-10-20 08:13:54</td><td>1.7014e38</td><td>&quot;ETH&quot;</td><td>-2209.2858</td><td>-2209.2858</td><td>1592.012076</td><td>false</td></tr><tr><td>2023-10-20 07:05:54</td><td>1.7014e38</td><td>&quot;ETH&quot;</td><td>-946.7614</td><td>-946.7614</td><td>1589.34842</td><td>false</td></tr><tr><td>2023-10-20 05:34:12</td><td>1.7014e38</td><td>&quot;ETH&quot;</td><td>-639.8766</td><td>0.0</td><td>1587.006112</td><td>false</td></tr><tr><td>2023-10-20 02:33:12</td><td>1.7014e38</td><td>&quot;ETH&quot;</td><td>6499.9063</td><td>0.0</td><td>1579.435588</td><td>false</td></tr><tr><td>2023-10-20 01:12:50</td><td>1.7014e38</td><td>&quot;ETH&quot;</td><td>639.8766</td><td>639.8766</td><td>1558.391228</td><td>false</td></tr><tr><td>2023-10-19 20:59:28</td><td>1.7014e38</td><td>&quot;ETH&quot;</td><td>319.217</td><td>638.7895</td><td>1561.342991</td><td>false</td></tr></tbody></table></div>"
      ],
      "text/plain": [
       "shape: (20, 7)\n",
       "┌──────────────┬───────────┬──────────────┬────────────┬───────────┬─────────────┬─────────────┐\n",
       "│ datetime     ┆ accountId ┆ marketSymbol ┆ size_delta ┆ size      ┆ price       ┆ liquidation │\n",
       "│ ---          ┆ ---       ┆ ---          ┆ ---        ┆ ---       ┆ ---         ┆ ---         │\n",
       "│ datetime[μs] ┆ f64       ┆ str          ┆ f64        ┆ f64       ┆ f64         ┆ bool        │\n",
       "╞══════════════╪═══════════╪══════════════╪════════════╪═══════════╪═════════════╪═════════════╡\n",
       "│ 2023-10-20   ┆ 1.7014e38 ┆ ETH          ┆ 1116.7678  ┆ 1116.7678 ┆ 1607.532675 ┆ false       │\n",
       "│ 19:22:04     ┆           ┆              ┆            ┆           ┆             ┆             │\n",
       "│ 2023-10-20   ┆ 1.7014e38 ┆ ETH          ┆ 622.3908   ┆ 622.3908  ┆ 1605.855257 ┆ false       │\n",
       "│ 16:05:34     ┆           ┆              ┆            ┆           ┆             ┆             │\n",
       "│ 2023-10-20   ┆ 1.7014e38 ┆ ETH          ┆ 618.366    ┆ 618.366   ┆ 1613.527087 ┆ false       │\n",
       "│ 12:13:46     ┆           ┆              ┆            ┆           ┆             ┆             │\n",
       "│ 2023-10-20   ┆ 1.7014e38 ┆ ETH          ┆ -2059.0    ┆ -2061.058 ┆ 1617.960681 ┆ false       │\n",
       "│ 11:28:04     ┆           ┆              ┆            ┆           ┆             ┆             │\n",
       "│ …            ┆ …         ┆ …            ┆ …          ┆ …         ┆ …           ┆ …           │\n",
       "│ 2023-10-20   ┆ 1.7014e38 ┆ ETH          ┆ -639.8766  ┆ 0.0       ┆ 1587.006112 ┆ false       │\n",
       "│ 05:34:12     ┆           ┆              ┆            ┆           ┆             ┆             │\n",
       "│ 2023-10-20   ┆ 1.7014e38 ┆ ETH          ┆ 6499.9063  ┆ 0.0       ┆ 1579.435588 ┆ false       │\n",
       "│ 02:33:12     ┆           ┆              ┆            ┆           ┆             ┆             │\n",
       "│ 2023-10-20   ┆ 1.7014e38 ┆ ETH          ┆ 639.8766   ┆ 639.8766  ┆ 1558.391228 ┆ false       │\n",
       "│ 01:12:50     ┆           ┆              ┆            ┆           ┆             ┆             │\n",
       "│ 2023-10-19   ┆ 1.7014e38 ┆ ETH          ┆ 319.217    ┆ 638.7895  ┆ 1561.342991 ┆ false       │\n",
       "│ 20:59:28     ┆           ┆              ┆            ┆           ┆             ┆             │\n",
       "└──────────────┴───────────┴──────────────┴────────────┴───────────┴─────────────┴─────────────┘"
      ]
     },
     "execution_count": 29,
     "metadata": {},
     "output_type": "execute_result"
    }
   ],
   "source": [
    "concat_df.filter(pl.col('accountId') == filtered_acct).filter(pl.col('marketSymbol') == 'ETH').sort(by='datetime', descending=True).head(20)"
   ]
  },
  {
   "cell_type": "code",
   "execution_count": null,
   "metadata": {},
   "outputs": [],
   "source": []
  }
 ],
 "metadata": {
  "kernelspec": {
   "display_name": ".venv",
   "language": "python",
   "name": "python3"
  },
  "language_info": {
   "codemirror_mode": {
    "name": "ipython",
    "version": 3
   },
   "file_extension": ".py",
   "mimetype": "text/x-python",
   "name": "python",
   "nbconvert_exporter": "python",
   "pygments_lexer": "ipython3",
   "version": "3.10.12"
  },
  "orig_nbformat": 4
 },
 "nbformat": 4,
 "nbformat_minor": 2
}
