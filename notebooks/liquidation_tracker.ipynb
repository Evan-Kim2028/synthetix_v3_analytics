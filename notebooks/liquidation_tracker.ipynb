{
 "cells": [
  {
   "cell_type": "code",
   "execution_count": 1,
   "metadata": {},
   "outputs": [],
   "source": [
    "from synthetix_v3.base_perps import BasePerps\n",
    "from datetime import datetime\n",
    "import polars as pl\n",
    "import matplotlib.pyplot as plt\n",
    "import matplotlib.dates as mdates"
   ]
  },
  {
   "cell_type": "code",
   "execution_count": 2,
   "metadata": {},
   "outputs": [],
   "source": [
    "base_perp = BasePerps()"
   ]
  },
  {
   "cell_type": "markdown",
   "metadata": {},
   "source": [
    "### get market info"
   ]
  },
  {
   "cell_type": "code",
   "execution_count": 3,
   "metadata": {},
   "outputs": [],
   "source": [
    "market_price_df = base_perp.get_market_updates()"
   ]
  },
  {
   "cell_type": "code",
   "execution_count": 4,
   "metadata": {},
   "outputs": [
    {
     "data": {
      "text/plain": [
       "Index(['marketUpdateds_timestamp', 'markets_id', 'marketUpdateds_price',\n",
       "       'marketUpdateds_skew', 'marketUpdateds_size',\n",
       "       'marketUpdateds_sizeDelta', 'marketUpdateds_currentFundingRate',\n",
       "       'marketUpdateds_currentFundingVelocity', 'markets_marketSymbol'],\n",
       "      dtype='object')"
      ]
     },
     "execution_count": 4,
     "metadata": {},
     "output_type": "execute_result"
    }
   ],
   "source": [
    "market_price_df.columns"
   ]
  },
  {
   "cell_type": "code",
   "execution_count": 5,
   "metadata": {},
   "outputs": [],
   "source": [
    "# normalize numbers\n",
    "market_price_polars_df = pl.from_pandas(market_price_df).with_columns([\n",
    "    pl.from_epoch('marketUpdateds_timestamp').dt.round(\"1s\").alias('datetime'),\n",
    "    pl.col('marketUpdateds_price') / 10**18,\n",
    "    pl.col('marketUpdateds_skew') / 10**18,\n",
    "    pl.col('marketUpdateds_size') / 10**18,\n",
    "    pl.col('marketUpdateds_sizeDelta') / 10**18,\n",
    "    pl.col('marketUpdateds_currentFundingRate') / 10**18,\n",
    "    pl.col('marketUpdateds_currentFundingVelocity') / 10**18\n",
    "])"
   ]
  },
  {
   "cell_type": "code",
   "execution_count": 6,
   "metadata": {},
   "outputs": [
    {
     "data": {
      "text/html": [
       "<div><style>\n",
       ".dataframe > thead > tr > th,\n",
       ".dataframe > tbody > tr > td {\n",
       "  text-align: right;\n",
       "  white-space: pre-wrap;\n",
       "}\n",
       "</style>\n",
       "<small>shape: (5, 10)</small><table border=\"1\" class=\"dataframe\"><thead><tr><th>marketUpdateds_timestamp</th><th>markets_id</th><th>marketUpdateds_price</th><th>marketUpdateds_skew</th><th>marketUpdateds_size</th><th>marketUpdateds_sizeDelta</th><th>marketUpdateds_currentFundingRate</th><th>marketUpdateds_currentFundingVelocity</th><th>markets_marketSymbol</th><th>datetime</th></tr><tr><td>i64</td><td>i64</td><td>f64</td><td>f64</td><td>f64</td><td>f64</td><td>f64</td><td>f64</td><td>str</td><td>datetime[μs]</td></tr></thead><tbody><tr><td>1697568804</td><td>100</td><td>1565.577832</td><td>606.304663</td><td>4368.91388</td><td>-400.0</td><td>0.012663</td><td>0.005457</td><td>&quot;ETH&quot;</td><td>2023-10-17 18:53:24</td></tr><tr><td>1697564218</td><td>500</td><td>1.926587</td><td>146353.05392</td><td>361526.36368</td><td>153249.0718</td><td>-0.084233</td><td>1.317177</td><td>&quot;SNX&quot;</td><td>2023-10-17 17:36:58</td></tr><tr><td>1697559484</td><td>500</td><td>1.9304845</td><td>-6896.01788</td><td>514775.43548</td><td>-52578.91</td><td>-0.080832</td><td>-0.062064</td><td>&quot;SNX&quot;</td><td>2023-10-17 16:18:04</td></tr><tr><td>1697559308</td><td>200</td><td>28473.536392</td><td>-47.469928</td><td>511.156872</td><td>200.0</td><td>0.003547</td><td>-0.000427</td><td>&quot;BTC&quot;</td><td>2023-10-17 16:15:08</td></tr><tr><td>1697559128</td><td>200</td><td>28472.774814</td><td>-247.469928</td><td>711.156872</td><td>35.1345</td><td>0.003552</td><td>-0.002227</td><td>&quot;BTC&quot;</td><td>2023-10-17 16:12:08</td></tr></tbody></table></div>"
      ],
      "text/plain": [
       "shape: (5, 10)\n",
       "┌───────────┬───────────┬───────────┬───────────┬───┬───────────┬───────────┬───────────┬──────────┐\n",
       "│ marketUpd ┆ markets_i ┆ marketUpd ┆ marketUpd ┆ … ┆ marketUpd ┆ marketUpd ┆ markets_m ┆ datetime │\n",
       "│ ateds_tim ┆ d         ┆ ateds_pri ┆ ateds_ske ┆   ┆ ateds_cur ┆ ateds_cur ┆ arketSymb ┆ ---      │\n",
       "│ estamp    ┆ ---       ┆ ce        ┆ w         ┆   ┆ rentFundi ┆ rentFundi ┆ ol        ┆ datetime │\n",
       "│ ---       ┆ i64       ┆ ---       ┆ ---       ┆   ┆ ngRat…    ┆ ngVel…    ┆ ---       ┆ [μs]     │\n",
       "│ i64       ┆           ┆ f64       ┆ f64       ┆   ┆ ---       ┆ ---       ┆ str       ┆          │\n",
       "│           ┆           ┆           ┆           ┆   ┆ f64       ┆ f64       ┆           ┆          │\n",
       "╞═══════════╪═══════════╪═══════════╪═══════════╪═══╪═══════════╪═══════════╪═══════════╪══════════╡\n",
       "│ 169756880 ┆ 100       ┆ 1565.5778 ┆ 606.30466 ┆ … ┆ 0.012663  ┆ 0.005457  ┆ ETH       ┆ 2023-10- │\n",
       "│ 4         ┆           ┆ 32        ┆ 3         ┆   ┆           ┆           ┆           ┆ 17       │\n",
       "│           ┆           ┆           ┆           ┆   ┆           ┆           ┆           ┆ 18:53:24 │\n",
       "│ 169756421 ┆ 500       ┆ 1.926587  ┆ 146353.05 ┆ … ┆ -0.084233 ┆ 1.317177  ┆ SNX       ┆ 2023-10- │\n",
       "│ 8         ┆           ┆           ┆ 392       ┆   ┆           ┆           ┆           ┆ 17       │\n",
       "│           ┆           ┆           ┆           ┆   ┆           ┆           ┆           ┆ 17:36:58 │\n",
       "│ 169755948 ┆ 500       ┆ 1.9304845 ┆ -6896.017 ┆ … ┆ -0.080832 ┆ -0.062064 ┆ SNX       ┆ 2023-10- │\n",
       "│ 4         ┆           ┆           ┆ 88        ┆   ┆           ┆           ┆           ┆ 17       │\n",
       "│           ┆           ┆           ┆           ┆   ┆           ┆           ┆           ┆ 16:18:04 │\n",
       "│ 169755930 ┆ 200       ┆ 28473.536 ┆ -47.46992 ┆ … ┆ 0.003547  ┆ -0.000427 ┆ BTC       ┆ 2023-10- │\n",
       "│ 8         ┆           ┆ 392       ┆ 8         ┆   ┆           ┆           ┆           ┆ 17       │\n",
       "│           ┆           ┆           ┆           ┆   ┆           ┆           ┆           ┆ 16:15:08 │\n",
       "│ 169755912 ┆ 200       ┆ 28472.774 ┆ -247.4699 ┆ … ┆ 0.003552  ┆ -0.002227 ┆ BTC       ┆ 2023-10- │\n",
       "│ 8         ┆           ┆ 814       ┆ 28        ┆   ┆           ┆           ┆           ┆ 17       │\n",
       "│           ┆           ┆           ┆           ┆   ┆           ┆           ┆           ┆ 16:12:08 │\n",
       "└───────────┴───────────┴───────────┴───────────┴───┴───────────┴───────────┴───────────┴──────────┘"
      ]
     },
     "execution_count": 6,
     "metadata": {},
     "output_type": "execute_result"
    }
   ],
   "source": [
    "market_price_polars_df.head(5)"
   ]
  },
  {
   "cell_type": "markdown",
   "metadata": {},
   "source": [
    "### get position liquidations"
   ]
  },
  {
   "cell_type": "code",
   "execution_count": 7,
   "metadata": {},
   "outputs": [],
   "source": [
    "pos_liqs_df = base_perp.get_position_liquidations()"
   ]
  },
  {
   "cell_type": "code",
   "execution_count": 8,
   "metadata": {},
   "outputs": [],
   "source": [
    "position_liquidations_df = pl.from_pandas(pos_liqs_df)"
   ]
  },
  {
   "cell_type": "code",
   "execution_count": 9,
   "metadata": {},
   "outputs": [],
   "source": [
    "# normalize numbers\n",
    "position_liquidations_df = position_liquidations_df.with_columns([\n",
    "    pl.from_epoch('positionLiquidateds_timestamp').dt.round(\"1s\").alias('datetime'),\n",
    "    pl.col('positionLiquidateds_amountLiquidated') / 10**18,\n",
    "    pl.col('positionLiquidateds_currentPositionSize') / 10**18,\n",
    "    ]).filter(pl.col(\"datetime\") > datetime(2023, 10, 2))"
   ]
  },
  {
   "cell_type": "code",
   "execution_count": 10,
   "metadata": {},
   "outputs": [],
   "source": [
    "joined_data = position_liquidations_df.join(market_price_polars_df, on='datetime', how='left')"
   ]
  },
  {
   "cell_type": "code",
   "execution_count": 11,
   "metadata": {},
   "outputs": [
    {
     "name": "stdout",
     "output_type": "stream",
     "text": [
      "(177, 8)\n",
      "(2506, 10)\n"
     ]
    }
   ],
   "source": [
    "print(position_liquidations_df.shape)\n",
    "print(market_price_polars_df.shape)"
   ]
  },
  {
   "cell_type": "code",
   "execution_count": 12,
   "metadata": {},
   "outputs": [],
   "source": [
    "joined_subset_data = joined_data.select(\n",
    "    'datetime', \n",
    "    'markets_marketSymbol', \n",
    "    'positionLiquidateds_accountId', \n",
    "    'positionLiquidateds_amountLiquidated', \n",
    "    'positionLiquidateds_currentPositionSize', \n",
    "    'marketUpdateds_price'\n",
    "    ).with_columns([\n",
    "        # add usd values\n",
    "        (pl.col('marketUpdateds_price') * pl.col('positionLiquidateds_amountLiquidated')).alias('amountLiquidated_usd'),\n",
    "        (pl.col('marketUpdateds_price') * pl.col('positionLiquidateds_currentPositionSize')).alias('currentPoisitionSize_usd')\n",
    "        ]).sort(by='datetime', descending=True)"
   ]
  },
  {
   "cell_type": "markdown",
   "metadata": {},
   "source": [
    "### Large liquidation for a single account"
   ]
  },
  {
   "cell_type": "code",
   "execution_count": 13,
   "metadata": {},
   "outputs": [],
   "source": [
    "account_liquidation = joined_subset_data.filter(pl.col('positionLiquidateds_accountId') == 69)"
   ]
  },
  {
   "cell_type": "code",
   "execution_count": 14,
   "metadata": {},
   "outputs": [
    {
     "data": {
      "text/html": [
       "<div><style>\n",
       ".dataframe > thead > tr > th,\n",
       ".dataframe > tbody > tr > td {\n",
       "  text-align: right;\n",
       "  white-space: pre-wrap;\n",
       "}\n",
       "</style>\n",
       "<small>shape: (5, 8)</small><table border=\"1\" class=\"dataframe\"><thead><tr><th>datetime</th><th>markets_marketSymbol</th><th>positionLiquidateds_accountId</th><th>positionLiquidateds_amountLiquidated</th><th>positionLiquidateds_currentPositionSize</th><th>marketUpdateds_price</th><th>amountLiquidated_usd</th><th>currentPoisitionSize_usd</th></tr><tr><td>datetime[μs]</td><td>str</td><td>f64</td><td>f64</td><td>f64</td><td>f64</td><td>f64</td><td>f64</td></tr></thead><tbody><tr><td>2023-10-13 21:04:44</td><td>&quot;ETH&quot;</td><td>69.0</td><td>450.028</td><td>0.0</td><td>1573.225</td><td>707995.3003</td><td>0.0</td></tr><tr><td>2023-10-13 21:04:04</td><td>&quot;ETH&quot;</td><td>69.0</td><td>699.993</td><td>-450.028</td><td>1571.819924</td><td>1.1003e6</td><td>-707362.976654</td></tr><tr><td>2023-10-13 21:03:24</td><td>&quot;ETH&quot;</td><td>69.0</td><td>699.993</td><td>-1150.021</td><td>1570.6125</td><td>1.0994e6</td><td>-1.8062e6</td></tr><tr><td>2023-10-13 21:02:44</td><td>&quot;ETH&quot;</td><td>69.0</td><td>699.993</td><td>-1850.014</td><td>1571.943055</td><td>1.1003e6</td><td>-2.9081e6</td></tr><tr><td>2023-10-13 21:02:06</td><td>&quot;ETH&quot;</td><td>69.0</td><td>699.993</td><td>-2550.007</td><td>1569.7125</td><td>1.0988e6</td><td>-4.0028e6</td></tr></tbody></table></div>"
      ],
      "text/plain": [
       "shape: (5, 8)\n",
       "┌────────────┬────────────┬────────────┬───────────┬───────────┬───────────┬───────────┬───────────┐\n",
       "│ datetime   ┆ markets_ma ┆ positionLi ┆ positionL ┆ positionL ┆ marketUpd ┆ amountLiq ┆ currentPo │\n",
       "│ ---        ┆ rketSymbol ┆ quidateds_ ┆ iquidated ┆ iquidated ┆ ateds_pri ┆ uidated_u ┆ isitionSi │\n",
       "│ datetime[μ ┆ ---        ┆ accountId  ┆ s_amountL ┆ s_current ┆ ce        ┆ sd        ┆ ze_usd    │\n",
       "│ s]         ┆ str        ┆ ---        ┆ iquid…    ┆ Posit…    ┆ ---       ┆ ---       ┆ ---       │\n",
       "│            ┆            ┆ f64        ┆ ---       ┆ ---       ┆ f64       ┆ f64       ┆ f64       │\n",
       "│            ┆            ┆            ┆ f64       ┆ f64       ┆           ┆           ┆           │\n",
       "╞════════════╪════════════╪════════════╪═══════════╪═══════════╪═══════════╪═══════════╪═══════════╡\n",
       "│ 2023-10-13 ┆ ETH        ┆ 69.0       ┆ 450.028   ┆ 0.0       ┆ 1573.225  ┆ 707995.30 ┆ 0.0       │\n",
       "│ 21:04:44   ┆            ┆            ┆           ┆           ┆           ┆ 03        ┆           │\n",
       "│ 2023-10-13 ┆ ETH        ┆ 69.0       ┆ 699.993   ┆ -450.028  ┆ 1571.8199 ┆ 1.1003e6  ┆ -707362.9 │\n",
       "│ 21:04:04   ┆            ┆            ┆           ┆           ┆ 24        ┆           ┆ 76654     │\n",
       "│ 2023-10-13 ┆ ETH        ┆ 69.0       ┆ 699.993   ┆ -1150.021 ┆ 1570.6125 ┆ 1.0994e6  ┆ -1.8062e6 │\n",
       "│ 21:03:24   ┆            ┆            ┆           ┆           ┆           ┆           ┆           │\n",
       "│ 2023-10-13 ┆ ETH        ┆ 69.0       ┆ 699.993   ┆ -1850.014 ┆ 1571.9430 ┆ 1.1003e6  ┆ -2.9081e6 │\n",
       "│ 21:02:44   ┆            ┆            ┆           ┆           ┆ 55        ┆           ┆           │\n",
       "│ 2023-10-13 ┆ ETH        ┆ 69.0       ┆ 699.993   ┆ -2550.007 ┆ 1569.7125 ┆ 1.0988e6  ┆ -4.0028e6 │\n",
       "│ 21:02:06   ┆            ┆            ┆           ┆           ┆           ┆           ┆           │\n",
       "└────────────┴────────────┴────────────┴───────────┴───────────┴───────────┴───────────┴───────────┘"
      ]
     },
     "execution_count": 14,
     "metadata": {},
     "output_type": "execute_result"
    }
   ],
   "source": [
    "account_liquidation"
   ]
  },
  {
   "cell_type": "code",
   "execution_count": 15,
   "metadata": {},
   "outputs": [],
   "source": [
    "# get first and last datetime stamp\n",
    "first_datetime = account_liquidation.select('datetime').tail(1).item()\n",
    "last_datetime = account_liquidation.select('datetime').head(1).item()\n",
    "\n",
    "# get first and last price\n",
    "first_price = account_liquidation.select('marketUpdateds_price').tail(1).item()\n",
    "last_price = account_liquidation.select('marketUpdateds_price').head(1).item()"
   ]
  },
  {
   "cell_type": "code",
   "execution_count": 16,
   "metadata": {},
   "outputs": [
    {
     "name": "stdout",
     "output_type": "stream",
     "text": [
      "2023-10-13 21:02:06\n",
      "2023-10-13 21:04:44\n"
     ]
    }
   ],
   "source": [
    "# print first and last datetime\n",
    "print(first_datetime)\n",
    "print(last_datetime)"
   ]
  },
  {
   "cell_type": "code",
   "execution_count": 17,
   "metadata": {},
   "outputs": [
    {
     "name": "stdout",
     "output_type": "stream",
     "text": [
      "Date range: 0:02:38m\n",
      "Price range: $-3.51\n",
      "Starting position size: -4,002,777.86 ETH\n",
      "Amount liquidated: 3,250.00 ETH\n"
     ]
    }
   ],
   "source": [
    "time_range = last_datetime - first_datetime\n",
    "price_range = first_price - last_price\n",
    "liq_amount = account_liquidation.select('positionLiquidateds_amountLiquidated').sum().item()\n",
    "account_liquidation.select('positionLiquidateds_currentPositionSize').tail(1).item()\n",
    "\n",
    "# print the date_range as a string\n",
    "print(f\"Date range: {time_range}m\")\n",
    "print(f\"Price range: ${price_range:,.2f}\")\n",
    "print(f'Starting position size: {account_liquidation.select(\"currentPoisitionSize_usd\").tail(1).item():,.2f} ETH')\n",
    "print(f'Amount liquidated: {liq_amount:,.2f} ETH')"
   ]
  },
  {
   "cell_type": "markdown",
   "metadata": {},
   "source": [
    "### Bar plot of hourly market liquidations in USD"
   ]
  },
  {
   "cell_type": "code",
   "execution_count": 32,
   "metadata": {},
   "outputs": [],
   "source": [
    "grouped_df = (\n",
    "    joined_subset_data.sort(by=\"datetime\", descending=True)\n",
    "    .with_columns(pl.col(\"datetime\").dt.round(\"1h\"))\n",
    "    .group_by(\"datetime\", \"markets_marketSymbol\")\n",
    "    .agg([pl.sum(\"amountLiquidated_usd\").alias('amount_liquidated_usd_sum')])\n",
    "    .filter(pl.col(\"datetime\") > datetime(2023, 10, 13))\n",
    ")"
   ]
  },
  {
   "cell_type": "code",
   "execution_count": 33,
   "metadata": {},
   "outputs": [
    {
     "data": {
      "text/html": [
       "<div><style>\n",
       ".dataframe > thead > tr > th,\n",
       ".dataframe > tbody > tr > td {\n",
       "  text-align: right;\n",
       "  white-space: pre-wrap;\n",
       "}\n",
       "</style>\n",
       "<small>shape: (6, 3)</small><table border=\"1\" class=\"dataframe\"><thead><tr><th>datetime</th><th>markets_marketSymbol</th><th>amount_liquidated_usd_sum</th></tr><tr><td>datetime[μs]</td><td>str</td><td>f64</td></tr></thead><tbody><tr><td>2023-10-17 19:00:00</td><td>&quot;ETH&quot;</td><td>626231.132652</td></tr><tr><td>2023-10-16 14:00:00</td><td>&quot;ETH&quot;</td><td>1.6229e7</td></tr><tr><td>2023-10-16 10:00:00</td><td>&quot;ETH&quot;</td><td>346481.520772</td></tr><tr><td>2023-10-15 01:00:00</td><td>&quot;ETH&quot;</td><td>954574.606023</td></tr><tr><td>2023-10-13 21:00:00</td><td>&quot;ETH&quot;</td><td>5.1068e6</td></tr><tr><td>2023-10-13 13:00:00</td><td>&quot;ETH&quot;</td><td>8.9189e6</td></tr></tbody></table></div>"
      ],
      "text/plain": [
       "shape: (6, 3)\n",
       "┌─────────────────────┬──────────────────────┬───────────────────────────┐\n",
       "│ datetime            ┆ markets_marketSymbol ┆ amount_liquidated_usd_sum │\n",
       "│ ---                 ┆ ---                  ┆ ---                       │\n",
       "│ datetime[μs]        ┆ str                  ┆ f64                       │\n",
       "╞═════════════════════╪══════════════════════╪═══════════════════════════╡\n",
       "│ 2023-10-17 19:00:00 ┆ ETH                  ┆ 626231.132652             │\n",
       "│ 2023-10-16 14:00:00 ┆ ETH                  ┆ 1.6229e7                  │\n",
       "│ 2023-10-16 10:00:00 ┆ ETH                  ┆ 346481.520772             │\n",
       "│ 2023-10-15 01:00:00 ┆ ETH                  ┆ 954574.606023             │\n",
       "│ 2023-10-13 21:00:00 ┆ ETH                  ┆ 5.1068e6                  │\n",
       "│ 2023-10-13 13:00:00 ┆ ETH                  ┆ 8.9189e6                  │\n",
       "└─────────────────────┴──────────────────────┴───────────────────────────┘"
      ]
     },
     "execution_count": 33,
     "metadata": {},
     "output_type": "execute_result"
    }
   ],
   "source": [
    "grouped_df.sort(by='datetime', descending=True).filter(pl.col('markets_marketSymbol') == \"ETH\").sort(by='datetime', descending=True)"
   ]
  },
  {
   "cell_type": "code",
   "execution_count": 34,
   "metadata": {},
   "outputs": [
    {
     "data": {
      "image/png": "[encoded data removed]",
      "text/plain": [
       "<Figure size 1200x600 with 1 Axes>"
      ]
     },
     "metadata": {},
     "output_type": "display_data"
    }
   ],
   "source": [
    "# Pivot the DataFrame to create a stacked bar plot\n",
    "pivot_df = grouped_df.to_pandas().pivot(index='datetime', columns='markets_marketSymbol', values='amount_liquidated_usd_sum').fillna(0)\n",
    "\n",
    "# Plotting\n",
    "fig, ax = plt.subplots(figsize=(12, 6))\n",
    "pivot_df.plot(kind='bar', stacked=True, ax=ax)\n",
    "\n",
    "ax.set_xlabel(\"Date\")\n",
    "ax.set_ylabel(\"Amount Liquidated (USD)\")\n",
    "ax.set_title(\"Hourly  Liquidations by Market\")\n",
    "\n",
    "# Format the x-axis labels to display only the date\n",
    "date_format = mdates.DateFormatter(\"%Y-%m-%d-%h\")\n",
    "ax.xaxis.set_major_formatter(date_format)\n",
    "\n",
    "plt.xticks(range(len(pivot_df.index)), [ts.strftime('%Y-%m-%d-%h') for ts in pivot_df.index], rotation=45)\n",
    "plt.legend(title=\"Market Symbols\")\n",
    "plt.show()"
   ]
  },
  {
   "cell_type": "markdown",
   "metadata": {},
   "source": [
    "### Market liquidations daily count"
   ]
  },
  {
   "cell_type": "code",
   "execution_count": 23,
   "metadata": {},
   "outputs": [],
   "source": [
    "daily_liq_count = (\n",
    "    joined_subset_data.sort(by=\"datetime\", descending=True)\n",
    "    .with_columns(pl.col(\"datetime\").dt.round(\"1d\"))\n",
    "    .group_by(\"datetime\", \"markets_marketSymbol\")\n",
    "    .agg([pl.count()])\n",
    "    .filter(pl.col(\"datetime\") > datetime(2023, 10, 3))\n",
    ")"
   ]
  },
  {
   "cell_type": "code",
   "execution_count": 28,
   "metadata": {},
   "outputs": [
    {
     "data": {
      "image/png": "[encoded data removed]",
      "text/plain": [
       "<Figure size 1200x600 with 1 Axes>"
      ]
     },
     "metadata": {},
     "output_type": "display_data"
    }
   ],
   "source": [
    "# Pivot the DataFrame to create a stacked bar plot\n",
    "pivot_df = daily_liq_count.to_pandas().pivot(index='datetime', columns='markets_marketSymbol', values='count').fillna(0)\n",
    "\n",
    "# Plotting\n",
    "fig, ax = plt.subplots(figsize=(12, 6))\n",
    "pivot_df.plot(kind='bar', stacked=True, ax=ax)\n",
    "\n",
    "ax.set_xlabel(\"Date\")\n",
    "ax.set_ylabel(\"Liquidation Count\")\n",
    "ax.set_title(\"Daily Liquidation Count by Market\")\n",
    "\n",
    "# Format the x-axis labels to display only the date\n",
    "date_format = mdates.DateFormatter(\"%Y-%m-%d-%h\")\n",
    "ax.xaxis.set_major_formatter(date_format)\n",
    "\n",
    "plt.xticks(range(len(pivot_df.index)), [ts.strftime('%Y-%m-%d') for ts in pivot_df.index], rotation=45)\n",
    "plt.legend(title=\"Market Symbols\")\n",
    "plt.show()"
   ]
  },
  {
   "cell_type": "code",
   "execution_count": null,
   "metadata": {},
   "outputs": [],
   "source": []
  }
 ],
 "metadata": {
  "kernelspec": {
   "display_name": ".venv",
   "language": "python",
   "name": "python3"
  },
  "language_info": {
   "codemirror_mode": {
    "name": "ipython",
    "version": 3
   },
   "file_extension": ".py",
   "mimetype": "text/x-python",
   "name": "python",
   "nbconvert_exporter": "python",
   "pygments_lexer": "ipython3",
   "version": "3.10.12"
  }
 },
 "nbformat": 4,
 "nbformat_minor": 2
}
